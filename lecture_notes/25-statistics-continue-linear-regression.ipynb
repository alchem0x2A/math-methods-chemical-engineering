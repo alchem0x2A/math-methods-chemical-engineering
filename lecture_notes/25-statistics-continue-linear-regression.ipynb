{
 "nbformat": 4,
 "nbformat_minor": 0,
 "metadata": {
  "kernelspec": {
   "display_name": "Octave",
   "language": "octave",
   "name": "octave"
  },
  "language_info": {
   "file_extension": ".m",
   "help_links": [
    {
     "text": "GNU Octave",
     "url": "https://www.gnu.org/software/octave/support.html"
    },
    {
     "text": "Octave Kernel",
     "url": "https://github.com/Calysto/octave_kernel"
    },
    {
     "text": "MetaKernel Magics",
     "url": "https://github.com/calysto/metakernel/blob/master/metakernel/magics/README.md"
    }
   ],
   "mimetype": "text/x-octave",
   "name": "octave",
   "version": "4.4.1"
  },
  "colab": {
   "name": "25-statistics-continue-linear-regression.ipynb",
   "provenance": [],
   "collapsed_sections": []
  }
 },
 "cells": [
  {
   "cell_type": "markdown",
   "metadata": {
    "id": "9I1aTG9lH9TC",
    "colab_type": "text",
    "badge": true,
    "repo_name": "ulissigroup/math-methods-chemical-engineering",
    "branch": "master",
    "nb_path": "lecture_notes/25-statistics-continue-linear-regression.ipynb",
    "comment": "This badge cell was added by colab-badge-action"
   },
   "source": [
    "<a href=\"https://colab.research.google.com/github/ulissigroup/math-methods-chemical-engineering/blob/master/lecture_notes/25-statistics-continue-linear-regression.ipynb\" target=\"_parent\"><img src=\"https://colab.research.google.com/assets/colab-badge.svg\" alt=\"Open In Colab\"/></a>\n",
    "$$\\newcommand{\\arr}[1]{\\underline{\\underline{#1}}}$$    \n",
    "$$\\newcommand{\\vec}[1]{\\underline{#1}}$$   \n",
    "$$\\require{mhchem}$$\n"
   ]
  },
  {
   "cell_type": "code",
   "metadata": {
    "id": "vqy-ZuwSwp4X",
    "colab_type": "code",
    "colab": {}
   },
   "source": [
    "# make our plot look a little prettier \n",
    "\n",
    "import seaborn as sns\n",
    "sns.set()"
   ],
   "execution_count": 0,
   "outputs": []
  },
  {
   "cell_type": "markdown",
   "metadata": {
    "id": "qTVt3JgYBG8l",
    "colab_type": "text"
   },
   "source": [
    "# Recap from last class\n",
    "\n",
    "- There are multiple types of distributions depending on whether the problem is discrete and the underlying physics generating the samples\n",
    "- Averaging lots of independent random variables (regardless of their distributions) tends to lead to Gaussian distributions\n",
    "- We can plot and fit distributions of any type. Be careful of binning errors, and think about whether PDF or CDF is the more useful way to visualize your distribution\n",
    "- If we have experimental data there are multiple ways we can fit the distribution:\n",
    "    - We could fit the cumulative distribution function (just like any curve fitting)\n",
    "    - We could look up estimators for the quantity we want for the specific distribution we're interested in\n",
    "    - (harder, not covered) we could use maximum likelihood estimation to derive an MLE estimator for the parameters\n",
    "- Estimators for quantitites we're interested in, with uncertainty on those measurements, allow us to compare distributions and forms the basis of tools like the Student t-test\n",
    "- Always think about the assumption you're making with various statistic tools (distributions, etc)\n",
    "    - Think about whether those assumptions are appropriate or not. \n",
    "    - It is often possible to directly sample the quantities for the assumed question and test your understanding/interpretation"
   ]
  },
  {
   "cell_type": "markdown",
   "metadata": {
    "id": "H92FnMDiCEHo",
    "colab_type": "text"
   },
   "source": [
    "# Confidence intervals on samples from a Gaussian distribution\n",
    "\n",
    "The most common thing we have to do as engineers is estimate the confidence interval from a set of repeated measurements. If we assume an unknown constant Gaussian noise is added to each data point, we want to calculate the 95% confidence interval. \n",
    "\n",
    "You now have the tools to calculate this. You can also do this more simply with scipy.stats.norm.interval."
   ]
  },
  {
   "cell_type": "code",
   "metadata": {
    "id": "-F6RNGpQE1gW",
    "colab_type": "code",
    "outputId": "b0c655d9-fc35-4894-fec8-cd39af9cf89f",
    "executionInfo": {
     "status": "ok",
     "timestamp": 1588078250392,
     "user_tz": 240,
     "elapsed": 327,
     "user": {
      "displayName": "Zachary Ulissi",
      "photoUrl": "",
      "userId": "07633171379186475882"
     }
    },
    "colab": {
     "base_uri": "https://localhost:8080/",
     "height": 35
    }
   },
   "source": [
    "import numpy as np \n",
    "\n",
    "rng = np.random.default_rng()\n",
    "samples = rng.normal(0.2, 1.2, 100)\n",
    "\n",
    "from scipy import stats\n",
    "\n",
    "stats.norm.interval(alpha = 0.95,\n",
    "                    loc = samples.mean(),\n",
    "                    scale = samples.std()/np.sqrt(len(samples)))\n",
    "                    "
   ],
   "execution_count": 0,
   "outputs": [
    {
     "output_type": "execute_result",
     "data": {
      "text/plain": [
       "(-0.0984348881074382, 0.3517974469531022)"
      ]
     },
     "metadata": {
      "tags": []
     },
     "execution_count": 24
    }
   ]
  },
  {
   "cell_type": "markdown",
   "metadata": {
    "id": "T9902J_9FnRX",
    "colab_type": "text"
   },
   "source": [
    "You are welcome to use this to check your results on the homework! \n",
    "\n",
    "Don't be afraid to test whether your interpretation is correct by direct sampling. \n",
    "\n",
    "The interpretation is \"if we assume this data came from a gaussian distribution with the mean/std estimated from our data and we repeated the sampling, there is a 95% chance that the new estimated mean would be within this range\"."
   ]
  },
  {
   "cell_type": "markdown",
   "metadata": {
    "id": "1b52NAuZF-aT",
    "colab_type": "text"
   },
   "source": [
    "# Linear Regression \n",
    "\n",
    "This section is partially adatapted from the 06-623 lecture notes. \n",
    "\n",
    "I am sure you all have fit linear curves through experimental data. We will briefly review this, show that it is a linear algebra problem you can solve, and then show you can do the same thing with linear combinations of non-linear functions. \n",
    "\n"
   ]
  },
  {
   "cell_type": "markdown",
   "metadata": {
    "id": "OBm3_A5IGhRb",
    "colab_type": "text"
   },
   "source": [
    "\n",
    "# Linear regression\n",
    "\n"
   ]
  },
  {
   "cell_type": "markdown",
   "metadata": {
    "id": "35axLcTKGhRc",
    "colab_type": "text"
   },
   "source": [
    "In linear regression, we seek to find models in the form $y = a_{0} f_{0}(x) + a_{1} f_{1}(x) + ... + a_{n} f_{n}(x) + \\epsilon$, where $a_{i}$ are coefficients to be determined, and &epsilon; are the residual errors. We call this linear regression because the model is linear in the unknown coefficients $a_{i}$. The functions can be any function of $x$.\n",
    "\n",
    "If we are given some data as pairs of (x, y), we can construct a set of equations of the form:\n",
    "\n",
    "$[f_{0}(x_{i}), f_{1}(x_{i}), ..., f_{n}(x_{i})]\\cdot[a_{0}, a_{1}, ...,  a_{n}]^T = y_{i}$\n",
    "\n",
    "There will be one of these equations for every data point, so we end up with a matrix equation that looks like:\n",
    "\n",
    "$\\arr{X} \\vec{a} = \\vec{y}$\n",
    "\n",
    "There are *usually* more data points than in the vector of $\\mathbf{a}$, so the shapes of these arrays are not suitable to solve directly. \n",
    "\n",
    "To be a little more specific, suppose we have $m$ pairs of (x, y) data points, and we want to fit a model containing $n$ parameters. Then, the dimensions of the $\\arr{X}$ will be (m, n), the dimensions of $\\vec{a}$ will be (n, 1), and the dimensions of $\\vec{y}$ will be (m, 1).  We have more equations than unknowns here, and we cannot use `np.linalg.solve(X,y)` because $\\arr{X}$ is not square. \n",
    "\n",
    "We can modify the equation though if we *left multiply* each side of the equation by $\\arr{X}^T$.\n",
    "\n",
    "$\\arr{X}^T \\arr{X} \\vec{a} = \\arr{X}^T \\vec{y}$\n",
    "\n",
    "The array $\\arr{X}^T \\arr{X}$ now has the shape (n, m) \\* (m, n) = (n, n). The right hand side $\\arr{X}^T \\vec{y}$ has a shape of (n, m) \\* (n, 1) = (n, 1), and $\\mathbf{a}$ is still (n, 1). This new matrix equation can be solved efficiently with `A\\b`. We will not prove this, but solving this modified equation *is equivalent* to finding the set of parameters that minimizes the summed squared errors: $\\sum (\\arr{X}^T\\arr{X} \\cdot \\vec{a} - \\arr{X}^T\\vec{y})^2$.\n",
    "\n",
    "The parameters can then be found by linear algebra. Let's do this for our example. \n",
    "\n"
   ]
  },
  {
   "cell_type": "markdown",
   "metadata": {
    "id": "Bap52fgDIzPX",
    "colab_type": "text"
   },
   "source": [
    "# Example for polynomial fitting using linear regression\n",
    "\n",
    "Let's start with some sample data collected from an experimental reactor."
   ]
  },
  {
   "cell_type": "code",
   "metadata": {
    "id": "ZT6yRsw_I9hR",
    "colab_type": "code",
    "outputId": "a2ec2239-21ea-4cf0-f06e-7c9bf05317e1",
    "executionInfo": {
     "status": "ok",
     "timestamp": 1588079429119,
     "user_tz": 240,
     "elapsed": 526,
     "user": {
      "displayName": "Zachary Ulissi",
      "photoUrl": "",
      "userId": "07633171379186475882"
     }
    },
    "colab": {
     "base_uri": "https://localhost:8080/",
     "height": 303
    }
   },
   "source": [
    "import matplotlib.pyplot as plt\n",
    "\n",
    "time = np.array([0.0, 50.0, 100.0, 150.0, 200.0, 250.0, 300.0])\n",
    "Ca = np.array([50.0, 38.0, 30.6, 25.6, 22.2, 19.5, 17.4])*1e-3\n",
    "\n",
    "plt.plot(time,Ca,'o')\n",
    "plt.xlabel('Time $t$')\n",
    "plt.ylabel('Concentration $C_A$')"
   ],
   "execution_count": 0,
   "outputs": [
    {
     "output_type": "execute_result",
     "data": {
      "text/plain": [
       "Text(0, 0.5, 'Concentration $C_A$')"
      ]
     },
     "metadata": {
      "tags": []
     },
     "execution_count": 25
    },
    {
     "output_type": "display_data",
     "data": {
      "image/png": "[encoded data removed]",
      "text/plain": [
       "<Figure size 432x288 with 1 Axes>"
      ]
     },
     "metadata": {
      "tags": []
     }
    }
   ]
  },
  {
   "cell_type": "markdown",
   "metadata": {
    "id": "6MvUiR0pJFZf",
    "colab_type": "text"
   },
   "source": [
    "Fit a fourth order polynomial to this data and determine the confidence interval for each parameter. This data is from example 5-1 in Fogler, Elements of Chemical Reaction Engineering.\n"
   ]
  },
  {
   "cell_type": "markdown",
   "metadata": {
    "id": "AsYTAwDKJGWg",
    "colab_type": "text"
   },
   "source": [
    "## Linear regression (polynomial order 1)\n",
    "\n",
    "Let's start with the relatively easy case of fitting $Ca(t) = b_0 + b_1t$, where $b_0,b_1$ are the parameters we're trying to fit. This is equivalent to the linear algebra problem \n",
    "\\begin{align*}\n",
    "\\vec{y}=\\arr{X}\\vec{b}\n",
    "\\end{align*}\n",
    "where the first column of $X$ is 1, and the second column is $t$. This becomes a little more obvious if we just look at the data!\n"
   ]
  },
  {
   "cell_type": "code",
   "metadata": {
    "id": "npOOE-G6JnYP",
    "colab_type": "code",
    "outputId": "d4a7f513-9d62-4b8f-d8fb-62f4c93bfcfb",
    "executionInfo": {
     "status": "ok",
     "timestamp": 1588079542554,
     "user_tz": 240,
     "elapsed": 600,
     "user": {
      "displayName": "Zachary Ulissi",
      "photoUrl": "",
      "userId": "07633171379186475882"
     }
    },
    "colab": {
     "base_uri": "https://localhost:8080/",
     "height": 139
    }
   },
   "source": [
    "X = np.array([time**0, time**1]).T\n",
    "\n",
    "print(X)"
   ],
   "execution_count": 0,
   "outputs": [
    {
     "output_type": "stream",
     "text": [
      "[[  1.   0.]\n",
      " [  1.  50.]\n",
      " [  1. 100.]\n",
      " [  1. 150.]\n",
      " [  1. 200.]\n",
      " [  1. 250.]\n",
      " [  1. 300.]]\n"
     ],
     "name": "stdout"
    }
   ]
  },
  {
   "cell_type": "markdown",
   "metadata": {
    "id": "a4MLnOEKJyCf",
    "colab_type": "text"
   },
   "source": [
    "Imagine multiplying this matrix by a vector $\\vec{b}$. The first entry would be $b_0+b_10=b_0$. The secnod row would be $b_0+b_150$ etc. Now, we are going to form the linear algebra problem \n",
    "\n",
    "$\\arr{X}^T \\arr{X} \\vec{b} = \\arr{X}^T \\vec{y}$\n",
    "\n",
    "And then solve this!"
   ]
  },
  {
   "cell_type": "code",
   "metadata": {
    "id": "XaC2CI2VKWPw",
    "colab_type": "code",
    "outputId": "e3cc092b-9761-479d-8d17-70df2096dee2",
    "executionInfo": {
     "status": "ok",
     "timestamp": 1588079773742,
     "user_tz": 240,
     "elapsed": 356,
     "user": {
      "displayName": "Zachary Ulissi",
      "photoUrl": "",
      "userId": "07633171379186475882"
     }
    },
    "colab": {
     "base_uri": "https://localhost:8080/",
     "height": 35
    }
   },
   "source": [
    "b = np.linalg.solve(X.T@X, X.T@Ca)\n",
    "\n",
    "print(b)"
   ],
   "execution_count": 0,
   "outputs": [
    {
     "output_type": "stream",
     "text": [
      "[ 0.04438571 -0.00010229]\n"
     ],
     "name": "stdout"
    }
   ]
  },
  {
   "cell_type": "markdown",
   "metadata": {
    "id": "VeV4s3uxKeb3",
    "colab_type": "text"
   },
   "source": [
    "This is the best possible linear fit for our system, and we did it with linear algebra! Let's plot it."
   ]
  },
  {
   "cell_type": "code",
   "metadata": {
    "id": "-bWKZBBQKjJO",
    "colab_type": "code",
    "outputId": "a8513b50-d043-4def-a4bf-b2aa614900db",
    "executionInfo": {
     "status": "ok",
     "timestamp": 1588079664399,
     "user_tz": 240,
     "elapsed": 826,
     "user": {
      "displayName": "Zachary Ulissi",
      "photoUrl": "",
      "userId": "07633171379186475882"
     }
    },
    "colab": {
     "base_uri": "https://localhost:8080/",
     "height": 286
    }
   },
   "source": [
    "plt.plot(time,Ca,'o-')\n",
    "plt.plot(time, b[0]+time*b[1],'--')\n",
    "plt.xlabel('Time $t$')\n",
    "plt.ylabel('Concentration $C_A$')\n",
    "plt.show()"
   ],
   "execution_count": 0,
   "outputs": [
    {
     "output_type": "display_data",
     "data": {
      "image/png": "[encoded data removed]",
      "text/plain": [
       "<Figure size 432x288 with 1 Axes>"
      ]
     },
     "metadata": {
      "tags": []
     }
    }
   ]
  },
  {
   "cell_type": "markdown",
   "metadata": {
    "id": "5rBvjXmrLB5w",
    "colab_type": "text"
   },
   "source": [
    "## Polynomial fit (fourth order)\n",
    "\n",
    "Now here is the really cool thing: we can do this for more complicated functions too as long as it's a linear combination. Let's try a fourth order fit. "
   ]
  },
  {
   "cell_type": "code",
   "metadata": {
    "id": "kDzmbWA-LSq-",
    "colab_type": "code",
    "outputId": "150e6d8a-f3fb-4030-e98f-dcdfffaaf59f",
    "executionInfo": {
     "status": "ok",
     "timestamp": 1588079967001,
     "user_tz": 240,
     "elapsed": 597,
     "user": {
      "displayName": "Zachary Ulissi",
      "photoUrl": "",
      "userId": "07633171379186475882"
     }
    },
    "colab": {
     "base_uri": "https://localhost:8080/",
     "height": 286
    }
   },
   "source": [
    "X = np.array([time**0, time**1, time**2, time**3]).T\n",
    "b = np.linalg.solve(X.T@X, X.T@Ca)\n",
    "\n",
    "# Calculate the fitted polynomial at 50 points between 0 and 300\n",
    "time_eval = np.linspace(0, 300)\n",
    "X_eval = np.array([time_eval**0, time_eval**1, time_eval**2, time_eval**3]).T\n",
    "\n",
    "# Plot the results\n",
    "plt.plot(time,Ca,'o-')\n",
    "plt.plot(time_eval, X_eval@b,'--')\n",
    "plt.xlabel('Time $t$')\n",
    "plt.ylabel('Concentration $C_A$')\n",
    "plt.show()"
   ],
   "execution_count": 0,
   "outputs": [
    {
     "output_type": "display_data",
     "data": {
      "image/png": "[encoded data removed]",
      "text/plain": [
       "<Figure size 432x288 with 1 Axes>"
      ]
     },
     "metadata": {
      "tags": []
     }
    }
   ]
  },
  {
   "cell_type": "markdown",
   "metadata": {
    "id": "POzALRttLpie",
    "colab_type": "text"
   },
   "source": [
    "The function itself is obviously non-linear. However, because it is a linear combination of non-linear things, we can do this. We could add whatever basis functions we want into this if we wanted!"
   ]
  },
  {
   "cell_type": "code",
   "metadata": {
    "id": "YJWcj7QsL3Bf",
    "colab_type": "code",
    "outputId": "ac757f6a-d04c-4915-acf6-f096b70f1cc4",
    "executionInfo": {
     "status": "ok",
     "timestamp": 1588080057215,
     "user_tz": 240,
     "elapsed": 787,
     "user": {
      "displayName": "Zachary Ulissi",
      "photoUrl": "",
      "userId": "07633171379186475882"
     }
    },
    "colab": {
     "base_uri": "https://localhost:8080/",
     "height": 286
    }
   },
   "source": [
    "X = np.array([time**0, time**1, time**2, np.log(5+time**2)]).T\n",
    "b = np.linalg.solve(X.T@X, X.T@Ca)\n",
    "\n",
    "# Calculate the fitted polynomial at 50 points between 0 and 300\n",
    "time_eval = np.linspace(0, 300)\n",
    "X_eval = np.array([time_eval**0, time_eval**1, time_eval**2, np.log(5+time_eval**2)]).T\n",
    "\n",
    "# Plot the results\n",
    "plt.plot(time,Ca,'o-')\n",
    "plt.plot(time_eval, X_eval@b,'--')\n",
    "plt.xlabel('Time $t$')\n",
    "plt.ylabel('Concentration $C_A$')\n",
    "plt.show()"
   ],
   "execution_count": 0,
   "outputs": [
    {
     "output_type": "display_data",
     "data": {
      "image/png": "[encoded data removed]",
      "text/plain": [
       "<Figure size 432x288 with 1 Axes>"
      ]
     },
     "metadata": {
      "tags": []
     }
    }
   ]
  },
  {
   "cell_type": "code",
   "metadata": {
    "id": "spgtHIMZ8sIZ",
    "colab_type": "code",
    "outputId": "90b8d687-dd2e-46d9-cd17-aa4a0f46516b",
    "executionInfo": {
     "status": "ok",
     "timestamp": 1588080068711,
     "user_tz": 240,
     "elapsed": 465,
     "user": {
      "displayName": "Zachary Ulissi",
      "photoUrl": "",
      "userId": "07633171379186475882"
     }
    },
    "colab": {
     "base_uri": "https://localhost:8080/",
     "height": 35
    }
   },
   "source": [
    "b"
   ],
   "execution_count": 0,
   "outputs": [
    {
     "output_type": "execute_result",
     "data": {
      "text/plain": [
       "array([ 5.15521783e-02, -1.39456759e-04,  2.07746595e-07, -9.46249946e-04])"
      ]
     },
     "metadata": {
      "tags": []
     },
     "execution_count": 39
    }
   ]
  },
  {
   "cell_type": "markdown",
   "metadata": {
    "id": "zIMk7E00MIoe",
    "colab_type": "text"
   },
   "source": [
    "Here we can see that the best fit actually includes a little bit of the log function. "
   ]
  },
  {
   "cell_type": "markdown",
   "metadata": {
    "id": "Ne04Xh8PMZV9",
    "colab_type": "text"
   },
   "source": [
    "## Linear regresion minimizes the sum squared error\n",
    "\n",
    "I claimed that solving this equation was equivalent to minimizing the summed squared errors. Here we demonstrate that is consistent with our observation for the first parameter.\n",
    "\n",
    "\n"
   ]
  },
  {
   "cell_type": "code",
   "metadata": {
    "id": "j1DlrgFjMgI9",
    "colab_type": "code",
    "outputId": "856944d0-ee26-458f-8e4a-dd55319c86c4",
    "executionInfo": {
     "status": "ok",
     "timestamp": 1588080933879,
     "user_tz": 240,
     "elapsed": 644,
     "user": {
      "displayName": "Zachary Ulissi",
      "photoUrl": "",
      "userId": "07633171379186475882"
     }
    },
    "colab": {
     "base_uri": "https://localhost:8080/",
     "height": 303
    }
   },
   "source": [
    "X = np.array([time**0, time**1, time**2, time**3]).T\n",
    "b = np.linalg.solve(X.T@X,X.T@Ca)\n",
    "\n",
    "P = np.linspace(0.9*b[0],1.1*b[0])\n",
    "b_copy = b.copy()\n",
    "\n",
    "errors = []\n",
    "for p in P:\n",
    "    b_copy[0]=p\n",
    "    error = np.sum((Ca-X@b_copy)**2.)\n",
    "    errors.append(error)\n",
    "    \n",
    "plt.plot(P,errors)\n",
    "\n",
    "plt.xlabel('intercept, b[0]')\n",
    "plt.ylabel('SSE')"
   ],
   "execution_count": 0,
   "outputs": [
    {
     "output_type": "execute_result",
     "data": {
      "text/plain": [
       "Text(0, 0.5, 'SSE')"
      ]
     },
     "metadata": {
      "tags": []
     },
     "execution_count": 44
    },
    {
     "output_type": "display_data",
     "data": {
      "image/png": "[encoded data removed]",
      "text/plain": [
       "<Figure size 432x288 with 1 Axes>"
      ]
     },
     "metadata": {
      "tags": []
     }
    }
   ]
  },
  {
   "cell_type": "code",
   "metadata": {
    "id": "LKfyE8MQNjKR",
    "colab_type": "code",
    "outputId": "68818d3f-5f31-43f0-90be-413aff2b89a2",
    "executionInfo": {
     "status": "ok",
     "timestamp": 1588080892622,
     "user_tz": 240,
     "elapsed": 322,
     "user": {
      "displayName": "Zachary Ulissi",
      "photoUrl": "",
      "userId": "07633171379186475882"
     }
    },
    "colab": {
     "base_uri": "https://localhost:8080/",
     "height": 35
    }
   },
   "source": [
    "print(b)"
   ],
   "execution_count": 0,
   "outputs": [
    {
     "output_type": "stream",
     "text": [
      "[ 4.98714286e-02 -2.74476190e-04  9.32857143e-07 -1.26666667e-09]\n"
     ],
     "name": "stdout"
    }
   ]
  },
  {
   "cell_type": "markdown",
   "metadata": {
    "id": "D45XFoKuN2yM",
    "colab_type": "text"
   },
   "source": [
    "The minimum in the sum square error is precisely at the bottom of this well!"
   ]
  },
  {
   "cell_type": "markdown",
   "metadata": {
    "id": "N6cdW6mQPvIc",
    "colab_type": "text"
   },
   "source": [
    "## Metrics to evaluate how well two models fit\n",
    "\n"
   ]
  },
  {
   "cell_type": "markdown",
   "metadata": {
    "id": "FRU0iEyOP2Ae",
    "colab_type": "text"
   },
   "source": [
    "-   The error in the fit is defined as: $\\bf{e} = \\bf{y} - \\bf{X}\\cdot \\bf{p}$\n",
    "\n",
    "-   We can compute the summed squared error as $SSE = \\bf{e} \\cdot \\bf{e}$\n",
    "-   We define $SST = \\sum (\\bf{y} - \\overline{y})^2 = (\\bf{y} - \\overline{y})\\cdot(\\bf{y} - \\overline{y})$\n",
    "\n",
    "-   We can use that to compute $R^2 = 1 - SSE/SST$ which roughly corresponds to the fraction of variance in the data explained by the model.\n",
    "\n",
    "- Other common metrics include the root mean squared error, and the mean absolute error. \n",
    "-   Let us calculate each of these"
   ]
  },
  {
   "cell_type": "code",
   "metadata": {
    "id": "x08kfyXFyf9B",
    "colab_type": "code",
    "outputId": "c4ebf693-624d-481e-fbd9-1d3ea4fb10e7",
    "executionInfo": {
     "status": "ok",
     "timestamp": 1588081427135,
     "user_tz": 240,
     "elapsed": 335,
     "user": {
      "displayName": "Zachary Ulissi",
      "photoUrl": "",
      "userId": "07633171379186475882"
     }
    },
    "colab": {
     "base_uri": "https://localhost:8080/",
     "height": 69
    }
   },
   "source": [
    "\n",
    "y = Ca\n",
    "e = Ca - np.dot(X,b)\n",
    "SSE = np.dot(e, e)\n",
    "\n",
    "yb = y - np.mean(y)\n",
    "SST = np.dot(yb, yb)\n",
    "\n",
    "Rsq = 1-SSE/SST\n",
    "\n",
    "print('R^2 = %1.5f'%Rsq)\n",
    "\n",
    "mean_absolute_error = np.mean(np.abs(e))\n",
    "\n",
    "print('Mean absolute error = %1.6f'%mean_absolute_error)\n",
    "\n",
    "root_mean_squared_error = np.sqrt(np.mean(e**2))\n",
    "\n",
    "print('RMSE = %1.6f'%root_mean_squared_error)"
   ],
   "execution_count": 0,
   "outputs": [
    {
     "output_type": "stream",
     "text": [
      "R^2 = 0.99969\n",
      "Mean absolute error = 0.000167\n",
      "RMSE = 0.000190\n"
     ],
     "name": "stdout"
    }
   ]
  },
  {
   "cell_type": "markdown",
   "metadata": {
    "id": "3T3tmRm2swGV",
    "colab_type": "text"
   },
   "source": [
    "We also made an assumption (implicitly) that the errors were Gaussian distributed and random. It's good to check that this is in fact the case. If the residuals do not look gaussian distributed and random, you are probably missing additional physics/effects/etc."
   ]
  },
  {
   "cell_type": "code",
   "metadata": {
    "id": "y-Cn1i-rs87z",
    "colab_type": "code",
    "outputId": "ec62e04b-b235-4bea-cf97-56092ed3ec35",
    "executionInfo": {
     "status": "ok",
     "timestamp": 1588081540895,
     "user_tz": 240,
     "elapsed": 535,
     "user": {
      "displayName": "Zachary Ulissi",
      "photoUrl": "",
      "userId": "07633171379186475882"
     }
    },
    "colab": {
     "base_uri": "https://localhost:8080/",
     "height": 285
    }
   },
   "source": [
    "plt.plot(time,e,'.--')\n",
    "plt.xlabel('Time')\n",
    "plt.ylabel('Residuals')\n",
    "plt.show()"
   ],
   "execution_count": 0,
   "outputs": [
    {
     "output_type": "display_data",
     "data": {
      "image/png": "[encoded data removed]",
      "text/plain": [
       "<Figure size 432x288 with 1 Axes>"
      ]
     },
     "metadata": {
      "tags": []
     }
    }
   ]
  },
  {
   "cell_type": "code",
   "metadata": {
    "id": "jRXhzGhvCp3j",
    "colab_type": "code",
    "outputId": "1e0e8918-59d8-4899-d92f-4bc8103cf7ec",
    "executionInfo": {
     "status": "ok",
     "timestamp": 1588081661510,
     "user_tz": 240,
     "elapsed": 497,
     "user": {
      "displayName": "Zachary Ulissi",
      "photoUrl": "",
      "userId": "07633171379186475882"
     }
    },
    "colab": {
     "base_uri": "https://localhost:8080/",
     "height": 339
    }
   },
   "source": [
    "X = np.array([time**0, time**1]).T\n",
    "b = np.linalg.solve(X.T@X,X.T@Ca)\n",
    "\n",
    "y = Ca\n",
    "e = Ca - np.dot(X,b)\n",
    "SSE = np.dot(e, e)\n",
    "\n",
    "yb = y - np.mean(y)\n",
    "SST = np.dot(yb, yb)\n",
    "\n",
    "Rsq = 1-SSE/SST\n",
    "\n",
    "print('R^2 = %1.5f'%Rsq)\n",
    "\n",
    "mean_absolute_error = np.mean(np.abs(e))\n",
    "\n",
    "print('Mean absolute error = %1.6f'%mean_absolute_error)\n",
    "\n",
    "root_mean_squared_error = np.sqrt(np.mean(e**2))\n",
    "\n",
    "print('RMSE = %1.6f'%root_mean_squared_error)\n",
    "\n",
    "plt.plot(time,e,'.--')\n",
    "plt.xlabel('Time')\n",
    "plt.ylabel('Residuals')\n",
    "plt.show()"
   ],
   "execution_count": 0,
   "outputs": [
    {
     "output_type": "stream",
     "text": [
      "R^2 = 0.90734\n",
      "Mean absolute error = 0.002857\n",
      "RMSE = 0.003269\n"
     ],
     "name": "stdout"
    },
    {
     "output_type": "display_data",
     "data": {
      "image/png": "[encoded data removed]",
      "text/plain": [
       "<Figure size 432x288 with 1 Axes>"
      ]
     },
     "metadata": {
      "tags": []
     }
    }
   ]
  },
  {
   "cell_type": "markdown",
   "metadata": {
    "id": "704-XYYsOY4f",
    "colab_type": "text"
   },
   "source": [
    "# Confidence intervals on parameters in linear regression\n",
    "\n",
    "The confidence intervals reflect the range of values we are confident the true parameter lies in. Remember we are only *estimating* these parameters from a small amount of data.\n",
    "\n",
    "The assumption is basically that there is an unknown amount of gaussian noise that is being added to the fitted model to generate the data. Because of this noise, we will obtain a different estimate of the parameters $p$ every time we run the experiment. So, similar to how we estimated the mean and the variance of the estimate above, we can do something similar for the parameters here. \n",
    "\n",
    "The statistics is not so complicated, but it is complicated enough that I would suggest just using a good statistical package to do it for you. For linear really models, I really like [statsmodels](https://www.statsmodels.org/stable/index.html)\n"
   ]
  },
  {
   "cell_type": "code",
   "metadata": {
    "id": "3qo_jB_bPbnE",
    "colab_type": "code",
    "outputId": "b62304e3-66ab-4d8b-b31f-2debdfeb57d3",
    "executionInfo": {
     "status": "ok",
     "timestamp": 1588081943441,
     "user_tz": 240,
     "elapsed": 2925,
     "user": {
      "displayName": "Zachary Ulissi",
      "photoUrl": "",
      "userId": "07633171379186475882"
     }
    },
    "colab": {
     "base_uri": "https://localhost:8080/",
     "height": 176
    }
   },
   "source": [
    "# Install the statsmodels toolbox \n",
    "!pip install statsmodels"
   ],
   "execution_count": 0,
   "outputs": [
    {
     "output_type": "stream",
     "text": [
      "Requirement already satisfied: statsmodels in /usr/local/lib/python3.6/dist-packages (0.10.2)\n",
      "Requirement already satisfied: pandas>=0.19 in /usr/local/lib/python3.6/dist-packages (from statsmodels) (1.0.3)\n",
      "Requirement already satisfied: numpy>=1.11 in /usr/local/lib/python3.6/dist-packages (from statsmodels) (1.18.3)\n",
      "Requirement already satisfied: patsy>=0.4.0 in /usr/local/lib/python3.6/dist-packages (from statsmodels) (0.5.1)\n",
      "Requirement already satisfied: scipy>=0.18 in /usr/local/lib/python3.6/dist-packages (from statsmodels) (1.4.1)\n",
      "Requirement already satisfied: pytz>=2017.2 in /usr/local/lib/python3.6/dist-packages (from pandas>=0.19->statsmodels) (2018.9)\n",
      "Requirement already satisfied: python-dateutil>=2.6.1 in /usr/local/lib/python3.6/dist-packages (from pandas>=0.19->statsmodels) (2.8.1)\n",
      "Requirement already satisfied: six in /usr/local/lib/python3.6/dist-packages (from patsy>=0.4.0->statsmodels) (1.12.0)\n"
     ],
     "name": "stdout"
    }
   ]
  },
  {
   "cell_type": "code",
   "metadata": {
    "id": "s8opYjwuQtY-",
    "colab_type": "code",
    "outputId": "f96901a1-160b-441d-8572-859dac3df109",
    "executionInfo": {
     "status": "ok",
     "timestamp": 1588081998679,
     "user_tz": 240,
     "elapsed": 369,
     "user": {
      "displayName": "Zachary Ulissi",
      "photoUrl": "",
      "userId": "07633171379186475882"
     }
    },
    "colab": {
     "base_uri": "https://localhost:8080/",
     "height": 495
    }
   },
   "source": [
    "import statsmodels.api as sm\n",
    "\n",
    "X = np.array([time**0, time**1]).T\n",
    "\n",
    "mod = sm.OLS(Ca, X)\n",
    "res = mod.fit()\n",
    "\n",
    "res.summary()"
   ],
   "execution_count": 0,
   "outputs": [
    {
     "output_type": "stream",
     "text": [
      "/usr/local/lib/python3.6/dist-packages/statsmodels/stats/stattools.py:71: ValueWarning: omni_normtest is not valid with less than 8 observations; 7 samples were given.\n",
      "  \"samples were given.\" % int(n), ValueWarning)\n"
     ],
     "name": "stderr"
    },
    {
     "output_type": "execute_result",
     "data": {
      "text/html": [
       "<table class=\"simpletable\">\n",
       "<caption>OLS Regression Results</caption>\n",
       "<tr>\n",
       "  <th>Dep. Variable:</th>            <td>y</td>        <th>  R-squared:         </th> <td>   0.907</td>\n",
       "</tr>\n",
       "<tr>\n",
       "  <th>Model:</th>                   <td>OLS</td>       <th>  Adj. R-squared:    </th> <td>   0.889</td>\n",
       "</tr>\n",
       "<tr>\n",
       "  <th>Method:</th>             <td>Least Squares</td>  <th>  F-statistic:       </th> <td>   48.96</td>\n",
       "</tr>\n",
       "<tr>\n",
       "  <th>Date:</th>             <td>Tue, 28 Apr 2020</td> <th>  Prob (F-statistic):</th> <td>0.000918</td>\n",
       "</tr>\n",
       "<tr>\n",
       "  <th>Time:</th>                 <td>13:53:15</td>     <th>  Log-Likelihood:    </th> <td>  30.131</td>\n",
       "</tr>\n",
       "<tr>\n",
       "  <th>No. Observations:</th>      <td>     7</td>      <th>  AIC:               </th> <td>  -56.26</td>\n",
       "</tr>\n",
       "<tr>\n",
       "  <th>Df Residuals:</th>          <td>     5</td>      <th>  BIC:               </th> <td>  -56.37</td>\n",
       "</tr>\n",
       "<tr>\n",
       "  <th>Df Model:</th>              <td>     1</td>      <th>                     </th>     <td> </td>   \n",
       "</tr>\n",
       "<tr>\n",
       "  <th>Covariance Type:</th>      <td>nonrobust</td>    <th>                     </th>     <td> </td>   \n",
       "</tr>\n",
       "</table>\n",
       "<table class=\"simpletable\">\n",
       "<tr>\n",
       "    <td></td>       <th>coef</th>     <th>std err</th>      <th>t</th>      <th>P>|t|</th>  <th>[0.025</th>    <th>0.975]</th>  \n",
       "</tr>\n",
       "<tr>\n",
       "  <th>const</th> <td>    0.0444</td> <td>    0.003</td> <td>   16.843</td> <td> 0.000</td> <td>    0.038</td> <td>    0.051</td>\n",
       "</tr>\n",
       "<tr>\n",
       "  <th>x1</th>    <td>   -0.0001</td> <td> 1.46e-05</td> <td>   -6.997</td> <td> 0.001</td> <td>   -0.000</td> <td>-6.47e-05</td>\n",
       "</tr>\n",
       "</table>\n",
       "<table class=\"simpletable\">\n",
       "<tr>\n",
       "  <th>Omnibus:</th>       <td>   nan</td> <th>  Durbin-Watson:     </th> <td>   0.943</td>\n",
       "</tr>\n",
       "<tr>\n",
       "  <th>Prob(Omnibus):</th> <td>   nan</td> <th>  Jarque-Bera (JB):  </th> <td>   0.729</td>\n",
       "</tr>\n",
       "<tr>\n",
       "  <th>Skew:</th>          <td> 0.552</td> <th>  Prob(JB):          </th> <td>   0.695</td>\n",
       "</tr>\n",
       "<tr>\n",
       "  <th>Kurtosis:</th>      <td> 1.869</td> <th>  Cond. No.          </th> <td>    325.</td>\n",
       "</tr>\n",
       "</table><br/><br/>Warnings:<br/>[1] Standard Errors assume that the covariance matrix of the errors is correctly specified."
      ],
      "text/plain": [
       "<class 'statsmodels.iolib.summary.Summary'>\n",
       "\"\"\"\n",
       "                            OLS Regression Results                            \n",
       "==============================================================================\n",
       "Dep. Variable:                      y   R-squared:                       0.907\n",
       "Model:                            OLS   Adj. R-squared:                  0.889\n",
       "Method:                 Least Squares   F-statistic:                     48.96\n",
       "Date:                Tue, 28 Apr 2020   Prob (F-statistic):           0.000918\n",
       "Time:                        13:53:15   Log-Likelihood:                 30.131\n",
       "No. Observations:                   7   AIC:                            -56.26\n",
       "Df Residuals:                       5   BIC:                            -56.37\n",
       "Df Model:                           1                                         \n",
       "Covariance Type:            nonrobust                                         \n",
       "==============================================================================\n",
       "                 coef    std err          t      P>|t|      [0.025      0.975]\n",
       "------------------------------------------------------------------------------\n",
       "const          0.0444      0.003     16.843      0.000       0.038       0.051\n",
       "x1            -0.0001   1.46e-05     -6.997      0.001      -0.000   -6.47e-05\n",
       "==============================================================================\n",
       "Omnibus:                          nan   Durbin-Watson:                   0.943\n",
       "Prob(Omnibus):                    nan   Jarque-Bera (JB):                0.729\n",
       "Skew:                           0.552   Prob(JB):                        0.695\n",
       "Kurtosis:                       1.869   Cond. No.                         325.\n",
       "==============================================================================\n",
       "\n",
       "Warnings:\n",
       "[1] Standard Errors assume that the covariance matrix of the errors is correctly specified.\n",
       "\"\"\""
      ]
     },
     "metadata": {
      "tags": []
     },
     "execution_count": 58
    }
   ]
  },
  {
   "cell_type": "code",
   "metadata": {
    "id": "WbYeOC_iEgZx",
    "colab_type": "code",
    "outputId": "b8239748-f8c4-48e0-bfa1-e9248e8dc485",
    "executionInfo": {
     "status": "ok",
     "timestamp": 1588082125012,
     "user_tz": 240,
     "elapsed": 337,
     "user": {
      "displayName": "Zachary Ulissi",
      "photoUrl": "",
      "userId": "07633171379186475882"
     }
    },
    "colab": {
     "base_uri": "https://localhost:8080/",
     "height": 571
    }
   },
   "source": [
    "import statsmodels.api as sm\n",
    "\n",
    "X = np.array([time**0, time**1, time**2, time**3]).T\n",
    "\n",
    "mod = sm.OLS(Ca, X)\n",
    "res = mod.fit()\n",
    "\n",
    "res.summary()"
   ],
   "execution_count": 0,
   "outputs": [
    {
     "output_type": "stream",
     "text": [
      "/usr/local/lib/python3.6/dist-packages/statsmodels/stats/stattools.py:71: ValueWarning: omni_normtest is not valid with less than 8 observations; 7 samples were given.\n",
      "  \"samples were given.\" % int(n), ValueWarning)\n"
     ],
     "name": "stderr"
    },
    {
     "output_type": "execute_result",
     "data": {
      "text/html": [
       "<table class=\"simpletable\">\n",
       "<caption>OLS Regression Results</caption>\n",
       "<tr>\n",
       "  <th>Dep. Variable:</th>            <td>y</td>        <th>  R-squared:         </th> <td>   1.000</td>\n",
       "</tr>\n",
       "<tr>\n",
       "  <th>Model:</th>                   <td>OLS</td>       <th>  Adj. R-squared:    </th> <td>   0.999</td>\n",
       "</tr>\n",
       "<tr>\n",
       "  <th>Method:</th>             <td>Least Squares</td>  <th>  F-statistic:       </th> <td>   3200.</td>\n",
       "</tr>\n",
       "<tr>\n",
       "  <th>Date:</th>             <td>Tue, 28 Apr 2020</td> <th>  Prob (F-statistic):</th> <td>9.37e-06</td>\n",
       "</tr>\n",
       "<tr>\n",
       "  <th>Time:</th>                 <td>13:55:22</td>     <th>  Log-Likelihood:    </th> <td>  50.055</td>\n",
       "</tr>\n",
       "<tr>\n",
       "  <th>No. Observations:</th>      <td>     7</td>      <th>  AIC:               </th> <td>  -92.11</td>\n",
       "</tr>\n",
       "<tr>\n",
       "  <th>Df Residuals:</th>          <td>     3</td>      <th>  BIC:               </th> <td>  -92.33</td>\n",
       "</tr>\n",
       "<tr>\n",
       "  <th>Df Model:</th>              <td>     3</td>      <th>                     </th>     <td> </td>   \n",
       "</tr>\n",
       "<tr>\n",
       "  <th>Covariance Type:</th>      <td>nonrobust</td>    <th>                     </th>     <td> </td>   \n",
       "</tr>\n",
       "</table>\n",
       "<table class=\"simpletable\">\n",
       "<tr>\n",
       "    <td></td>       <th>coef</th>     <th>std err</th>      <th>t</th>      <th>P>|t|</th>  <th>[0.025</th>    <th>0.975]</th>  \n",
       "</tr>\n",
       "<tr>\n",
       "  <th>const</th> <td>    0.0499</td> <td>    0.000</td> <td>  178.518</td> <td> 0.000</td> <td>    0.049</td> <td>    0.051</td>\n",
       "</tr>\n",
       "<tr>\n",
       "  <th>x1</th>    <td>   -0.0003</td> <td> 8.82e-06</td> <td>  -31.105</td> <td> 0.000</td> <td>   -0.000</td> <td>   -0.000</td>\n",
       "</tr>\n",
       "<tr>\n",
       "  <th>x2</th>    <td> 9.329e-07</td> <td> 7.21e-08</td> <td>   12.933</td> <td> 0.001</td> <td> 7.03e-07</td> <td> 1.16e-06</td>\n",
       "</tr>\n",
       "<tr>\n",
       "  <th>x3</th>    <td>-1.267e-09</td> <td> 1.58e-10</td> <td>   -8.027</td> <td> 0.004</td> <td>-1.77e-09</td> <td>-7.64e-10</td>\n",
       "</tr>\n",
       "</table>\n",
       "<table class=\"simpletable\">\n",
       "<tr>\n",
       "  <th>Omnibus:</th>       <td>   nan</td> <th>  Durbin-Watson:     </th> <td>   2.600</td>\n",
       "</tr>\n",
       "<tr>\n",
       "  <th>Prob(Omnibus):</th> <td>   nan</td> <th>  Jarque-Bera (JB):  </th> <td>   1.164</td>\n",
       "</tr>\n",
       "<tr>\n",
       "  <th>Skew:</th>          <td>-0.837</td> <th>  Prob(JB):          </th> <td>   0.559</td>\n",
       "</tr>\n",
       "<tr>\n",
       "  <th>Kurtosis:</th>      <td> 1.911</td> <th>  Cond. No.          </th> <td>3.12e+07</td>\n",
       "</tr>\n",
       "</table><br/><br/>Warnings:<br/>[1] Standard Errors assume that the covariance matrix of the errors is correctly specified.<br/>[2] The condition number is large, 3.12e+07. This might indicate that there are<br/>strong multicollinearity or other numerical problems."
      ],
      "text/plain": [
       "<class 'statsmodels.iolib.summary.Summary'>\n",
       "\"\"\"\n",
       "                            OLS Regression Results                            \n",
       "==============================================================================\n",
       "Dep. Variable:                      y   R-squared:                       1.000\n",
       "Model:                            OLS   Adj. R-squared:                  0.999\n",
       "Method:                 Least Squares   F-statistic:                     3200.\n",
       "Date:                Tue, 28 Apr 2020   Prob (F-statistic):           9.37e-06\n",
       "Time:                        13:55:22   Log-Likelihood:                 50.055\n",
       "No. Observations:                   7   AIC:                            -92.11\n",
       "Df Residuals:                       3   BIC:                            -92.33\n",
       "Df Model:                           3                                         \n",
       "Covariance Type:            nonrobust                                         \n",
       "==============================================================================\n",
       "                 coef    std err          t      P>|t|      [0.025      0.975]\n",
       "------------------------------------------------------------------------------\n",
       "const          0.0499      0.000    178.518      0.000       0.049       0.051\n",
       "x1            -0.0003   8.82e-06    -31.105      0.000      -0.000      -0.000\n",
       "x2          9.329e-07   7.21e-08     12.933      0.001    7.03e-07    1.16e-06\n",
       "x3         -1.267e-09   1.58e-10     -8.027      0.004   -1.77e-09   -7.64e-10\n",
       "==============================================================================\n",
       "Omnibus:                          nan   Durbin-Watson:                   2.600\n",
       "Prob(Omnibus):                    nan   Jarque-Bera (JB):                1.164\n",
       "Skew:                          -0.837   Prob(JB):                        0.559\n",
       "Kurtosis:                       1.911   Cond. No.                     3.12e+07\n",
       "==============================================================================\n",
       "\n",
       "Warnings:\n",
       "[1] Standard Errors assume that the covariance matrix of the errors is correctly specified.\n",
       "[2] The condition number is large, 3.12e+07. This might indicate that there are\n",
       "strong multicollinearity or other numerical problems.\n",
       "\"\"\""
      ]
     },
     "metadata": {
      "tags": []
     },
     "execution_count": 59
    }
   ]
  },
  {
   "cell_type": "markdown",
   "metadata": {
    "id": "peni6LmNxSZt",
    "colab_type": "text"
   },
   "source": [
    "This gives us tons of information. The most important is the 95% confidence intervals for each parameter. Note that the estimate for the parameters is exactly the same as the one we found above!\n",
    "\n"
   ]
  },
  {
   "cell_type": "code",
   "metadata": {
    "id": "8h2G2MhvxafZ",
    "colab_type": "code",
    "colab": {}
   },
   "source": [
    ""
   ],
   "execution_count": 0,
   "outputs": []
  },
  {
   "cell_type": "markdown",
   "metadata": {
    "id": "-G9PWORiz3Xl",
    "colab_type": "text"
   },
   "source": [
    "## In-class assignment\n",
    "\n",
    "Fit a quadratic polynomial ($y=ax^2 +bx +c$) to the following data manually.\n",
    "\n",
    "Then, fit it with statsmodels and get the uncertainty in the final parameters.\n",
    "\n",
    "Check the coefficient on the quadratic term; is it clear if the quadratic term is actually necessary?\n"
   ]
  },
  {
   "cell_type": "code",
   "metadata": {
    "id": "fotOQlvR0GwI",
    "colab_type": "code",
    "outputId": "8cb3f4c5-bd0b-4e86-d2b9-8ee28bd651c2",
    "executionInfo": {
     "status": "ok",
     "timestamp": 1588083298021,
     "user_tz": 240,
     "elapsed": 378,
     "user": {
      "displayName": "Zachary Ulissi",
      "photoUrl": "",
      "userId": "07633171379186475882"
     }
    },
    "colab": {
     "base_uri": "https://localhost:8080/",
     "height": 516
    }
   },
   "source": [
    "x = np.array([0, 0.5, 1, 1.5, 2.0, 3.0, 4.0, 6.0, 10])\n",
    "y = np.array([0, -0.157, -0.315, -0.472, -0.629, -0.942, -1.255, -1.884, -3.147])\n",
    "\n",
    "X = np.array([x**2, x**1, x**0]).T\n",
    "\n",
    "mod = sm.OLS(y, X)\n",
    "res = mod.fit()\n",
    "\n",
    "res.summary()"
   ],
   "execution_count": 0,
   "outputs": [
    {
     "output_type": "stream",
     "text": [
      "/usr/local/lib/python3.6/dist-packages/scipy/stats/stats.py:1535: UserWarning: kurtosistest only valid for n>=20 ... continuing anyway, n=9\n",
      "  \"anyway, n=%i\" % int(n))\n"
     ],
     "name": "stderr"
    },
    {
     "output_type": "execute_result",
     "data": {
      "text/html": [
       "<table class=\"simpletable\">\n",
       "<caption>OLS Regression Results</caption>\n",
       "<tr>\n",
       "  <th>Dep. Variable:</th>            <td>y</td>        <th>  R-squared:         </th> <td>   1.000</td> \n",
       "</tr>\n",
       "<tr>\n",
       "  <th>Model:</th>                   <td>OLS</td>       <th>  Adj. R-squared:    </th> <td>   1.000</td> \n",
       "</tr>\n",
       "<tr>\n",
       "  <th>Method:</th>             <td>Least Squares</td>  <th>  F-statistic:       </th> <td>4.042e+06</td>\n",
       "</tr>\n",
       "<tr>\n",
       "  <th>Date:</th>             <td>Tue, 28 Apr 2020</td> <th>  Prob (F-statistic):</th> <td>4.09e-19</td> \n",
       "</tr>\n",
       "<tr>\n",
       "  <th>Time:</th>                 <td>14:14:55</td>     <th>  Log-Likelihood:    </th> <td>  51.242</td> \n",
       "</tr>\n",
       "<tr>\n",
       "  <th>No. Observations:</th>      <td>     9</td>      <th>  AIC:               </th> <td>  -96.48</td> \n",
       "</tr>\n",
       "<tr>\n",
       "  <th>Df Residuals:</th>          <td>     6</td>      <th>  BIC:               </th> <td>  -95.89</td> \n",
       "</tr>\n",
       "<tr>\n",
       "  <th>Df Model:</th>              <td>     2</td>      <th>                     </th>     <td> </td>    \n",
       "</tr>\n",
       "<tr>\n",
       "  <th>Covariance Type:</th>      <td>nonrobust</td>    <th>                     </th>     <td> </td>    \n",
       "</tr>\n",
       "</table>\n",
       "<table class=\"simpletable\">\n",
       "<tr>\n",
       "    <td></td>       <th>coef</th>     <th>std err</th>      <th>t</th>      <th>P>|t|</th>  <th>[0.025</th>    <th>0.975]</th>  \n",
       "</tr>\n",
       "<tr>\n",
       "  <th>x1</th>    <td>   -0.0001</td> <td> 3.69e-05</td> <td>   -3.987</td> <td> 0.007</td> <td>   -0.000</td> <td>-5.69e-05</td>\n",
       "</tr>\n",
       "<tr>\n",
       "  <th>x2</th>    <td>   -0.3131</td> <td>    0.000</td> <td> -829.147</td> <td> 0.000</td> <td>   -0.314</td> <td>   -0.312</td>\n",
       "</tr>\n",
       "<tr>\n",
       "  <th>const</th> <td>   -0.0011</td> <td>    0.001</td> <td>   -1.700</td> <td> 0.140</td> <td>   -0.003</td> <td>    0.000</td>\n",
       "</tr>\n",
       "</table>\n",
       "<table class=\"simpletable\">\n",
       "<tr>\n",
       "  <th>Omnibus:</th>       <td> 3.557</td> <th>  Durbin-Watson:     </th> <td>   0.933</td>\n",
       "</tr>\n",
       "<tr>\n",
       "  <th>Prob(Omnibus):</th> <td> 0.169</td> <th>  Jarque-Bera (JB):  </th> <td>   0.990</td>\n",
       "</tr>\n",
       "<tr>\n",
       "  <th>Skew:</th>          <td> 0.013</td> <th>  Prob(JB):          </th> <td>   0.610</td>\n",
       "</tr>\n",
       "<tr>\n",
       "  <th>Kurtosis:</th>      <td> 1.376</td> <th>  Cond. No.          </th> <td>    78.3</td>\n",
       "</tr>\n",
       "</table><br/><br/>Warnings:<br/>[1] Standard Errors assume that the covariance matrix of the errors is correctly specified."
      ],
      "text/plain": [
       "<class 'statsmodels.iolib.summary.Summary'>\n",
       "\"\"\"\n",
       "                            OLS Regression Results                            \n",
       "==============================================================================\n",
       "Dep. Variable:                      y   R-squared:                       1.000\n",
       "Model:                            OLS   Adj. R-squared:                  1.000\n",
       "Method:                 Least Squares   F-statistic:                 4.042e+06\n",
       "Date:                Tue, 28 Apr 2020   Prob (F-statistic):           4.09e-19\n",
       "Time:                        14:14:55   Log-Likelihood:                 51.242\n",
       "No. Observations:                   9   AIC:                            -96.48\n",
       "Df Residuals:                       6   BIC:                            -95.89\n",
       "Df Model:                           2                                         \n",
       "Covariance Type:            nonrobust                                         \n",
       "==============================================================================\n",
       "                 coef    std err          t      P>|t|      [0.025      0.975]\n",
       "------------------------------------------------------------------------------\n",
       "x1            -0.0001   3.69e-05     -3.987      0.007      -0.000   -5.69e-05\n",
       "x2            -0.3131      0.000   -829.147      0.000      -0.314      -0.312\n",
       "const         -0.0011      0.001     -1.700      0.140      -0.003       0.000\n",
       "==============================================================================\n",
       "Omnibus:                        3.557   Durbin-Watson:                   0.933\n",
       "Prob(Omnibus):                  0.169   Jarque-Bera (JB):                0.990\n",
       "Skew:                           0.013   Prob(JB):                        0.610\n",
       "Kurtosis:                       1.376   Cond. No.                         78.3\n",
       "==============================================================================\n",
       "\n",
       "Warnings:\n",
       "[1] Standard Errors assume that the covariance matrix of the errors is correctly specified.\n",
       "\"\"\""
      ]
     },
     "metadata": {
      "tags": []
     },
     "execution_count": 61
    }
   ]
  },
  {
   "cell_type": "code",
   "metadata": {
    "id": "9_Q6tdjJJOtz",
    "colab_type": "code",
    "outputId": "261ccaf4-7f76-4e20-dad0-c3bd93012cc6",
    "executionInfo": {
     "status": "ok",
     "timestamp": 1588083362391,
     "user_tz": 240,
     "elapsed": 688,
     "user": {
      "displayName": "Zachary Ulissi",
      "photoUrl": "",
      "userId": "07633171379186475882"
     }
    },
    "colab": {
     "base_uri": "https://localhost:8080/",
     "height": 285
    }
   },
   "source": [
    "plt.plot(x,y,'o')"
   ],
   "execution_count": 0,
   "outputs": [
    {
     "output_type": "execute_result",
     "data": {
      "text/plain": [
       "[<matplotlib.lines.Line2D at 0x7f2845b77710>]"
      ]
     },
     "metadata": {
      "tags": []
     },
     "execution_count": 63
    },
    {
     "output_type": "display_data",
     "data": {
      "image/png": "[encoded data removed]",
      "text/plain": [
       "<Figure size 432x288 with 1 Axes>"
      ]
     },
     "metadata": {
      "tags": []
     }
    }
   ]
  },
  {
   "cell_type": "markdown",
   "metadata": {
    "id": "Ol2ayOLbfQI_",
    "colab_type": "text"
   },
   "source": [
    "# Summary\n",
    "\n",
    "- We showed that linear regression (fitting a linear combination of functions) is essentially a linear algebra problem\n",
    "    - First we find the augmented matrix, where each row is a datapoint and each column is a feature (1, X, logx, etc)\n",
    "    - Then we solve $\\arr{X}^T \\arr{X} \\vec{a} = \\arr{X}^T \\vec{y}$\n",
    "    - This solution is the one that minimizes the sum squared error\n",
    "- If we want parameter estimates, then it's probably best to use a package like statsmodel. "
   ]
  },
  {
   "cell_type": "code",
   "metadata": {
    "id": "_-cFtRWbz2co",
    "colab_type": "code",
    "colab": {}
   },
   "source": [
    ""
   ],
   "execution_count": 0,
   "outputs": []
  }
 ]
}