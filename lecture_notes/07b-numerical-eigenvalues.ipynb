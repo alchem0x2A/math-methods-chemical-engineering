{
 "nbformat": 4,
 "nbformat_minor": 0,
 "metadata": {
  "colab": {
   "name": "7b-numerical-eigenvalues.ipynb",
   "provenance": [],
   "collapsed_sections": []
  },
  "kernelspec": {
   "name": "python3",
   "display_name": "Python 3"
  }
 },
 "cells": [
  {
   "cell_type": "markdown",
   "metadata": {
    "id": "8mo0331r7nwY",
    "colab_type": "text",
    "badge": true,
    "repo_name": "ulissigroup/math-methods-chemical-engineering",
    "branch": "master",
    "nb_path": "lecture_notes/07b-numerical-eigenvalues.ipynb",
    "comment": "This badge cell was added by colab-badge-action"
   },
   "source": [
    "<a href=\"https://colab.research.google.com/github/ulissigroup/math-methods-chemical-engineering/blob/master/lecture_notes/07b-numerical-eigenvalues.ipynb\" target=\"_parent\"><img src=\"https://colab.research.google.com/assets/colab-badge.svg\" alt=\"Open In Colab\"/></a>\n",
    "$$\\newcommand{\\arr}[1]{\\underline{\\underline{#1}}}$$    \n",
    "$$\\newcommand{\\vec}[1]{\\underline{#1}}$$   \n",
    "$$\\require{mhchem}$$"
   ]
  },
  {
   "cell_type": "markdown",
   "metadata": {
    "id": "fzpmdqw4k2iW",
    "colab_type": "text"
   },
   "source": [
    "# Eigenvectors in python\n",
    "\n",
    "Unsurprisingly, there is a function to calculate eigenvalues and eigenvectors in python! \n",
    "* For most cases, we can use the ```np.linalg.eig``` function\n",
    "* If we only wanted the eigenvalues, ```np.linalg.eigvals``` will just calculate those. \n"
   ]
  },
  {
   "cell_type": "markdown",
   "metadata": {
    "id": "Fo0w0su0lgJL",
    "colab_type": "text"
   },
   "source": [
    "## Example 1: real roots\n",
    "\n",
    "Let's start with a simple example where we already know the roots: a lower triangular matrix\n",
    "\\begin{align}\n",
    "\\arr{A}=\\begin{bmatrix}6&10&6 \\\\ 0&8&12 \\\\ 0&0&2 \\end{bmatrix} \n",
    "\\end{align}"
   ]
  },
  {
   "cell_type": "code",
   "metadata": {
    "id": "J8R2YVZ3XQ56",
    "colab_type": "code",
    "outputId": "702b6066-d823-4f68-b793-fb1de8c04e24",
    "executionInfo": {
     "status": "ok",
     "timestamp": 1580828849563,
     "user_tz": 300,
     "elapsed": 586,
     "user": {
      "displayName": "Zachary Ulissi",
      "photoUrl": "",
      "userId": "07633171379186475882"
     }
    },
    "colab": {
     "base_uri": "https://localhost:8080/",
     "height": 86
    }
   },
   "source": [
    "import numpy as np\n",
    "\n",
    "A = np.array([[6,10,6],\n",
    "              [0,8,2],\n",
    "              [0,0,2]])\n",
    "\n",
    "eigenvalues, eigenvectors = np.linalg.eig(A)\n",
    "\n",
    "print(eigenvalues)\n",
    "print(eigenvectors)"
   ],
   "execution_count": 0,
   "outputs": [
    {
     "output_type": "stream",
     "text": [
      "[6. 8. 2.]\n",
      "[[ 1.          0.98058068 -0.53452248]\n",
      " [ 0.          0.19611614 -0.26726124]\n",
      " [ 0.          0.          0.80178373]]\n"
     ],
     "name": "stdout"
    }
   ]
  },
  {
   "cell_type": "code",
   "metadata": {
    "id": "brGg630lXF84",
    "colab_type": "code",
    "colab": {}
   },
   "source": [
    "\n",
    "\n",
    "\n",
    "\n",
    "\n",
    "\n",
    "\n",
    "\n",
    "\n",
    "\n",
    "\n",
    "\n",
    "\n",
    "\n",
    "\n",
    "\n",
    "\n",
    "\n",
    "\n",
    "\n",
    "\n",
    "\n",
    "\n",
    "\n",
    "\n",
    "\n",
    "\n",
    "\n"
   ],
   "execution_count": 0,
   "outputs": []
  },
  {
   "cell_type": "code",
   "metadata": {
    "id": "nsi0jnq3k0PY",
    "colab_type": "code",
    "outputId": "9a7bfbe5-7799-4454-d9b3-fa362502c8ec",
    "executionInfo": {
     "status": "ok",
     "timestamp": 1580828907016,
     "user_tz": 300,
     "elapsed": 627,
     "user": {
      "displayName": "Zachary Ulissi",
      "photoUrl": "",
      "userId": "07633171379186475882"
     }
    },
    "colab": {
     "base_uri": "https://localhost:8080/",
     "height": 121
    }
   },
   "source": [
    "import numpy as np\n",
    "\n",
    "A = np.array([[6,10,6], \n",
    "              [0,8,12],\n",
    "              [0,0,2]])\n",
    "\n",
    "# calculate the eigenvalues of A:\n",
    "eigenvalues = np.linalg.eigvals(A)\n",
    "print('The eigenvalues of A are: %s'%eigenvalues)\n",
    "\n",
    "#Calculate both the eigenvalues and eigenvectors of A\n",
    "eigenvalues, eigenvectors = np.linalg.eig(A)\n",
    "# calculate the eigenvalues of A:\n",
    "print('The eigenvalues of A are: %s'%eigenvalues)\n",
    "\n",
    "#Print the first eigenvalue and eigenvector\n",
    "print('The eigenvalue corresponding to lambda=%d is: %s'%(eigenvalues[0],eigenvectors[:,0]))\n",
    "\n",
    "# We can also iterate over each eigenvalue/eigenvector pair\n",
    "for i in range(len(eigenvalues)):\n",
    "  print('The eigenvalue corresponding to lambda=%d is: %s'%(eigenvalues[i],eigenvectors[:,i]))\n"
   ],
   "execution_count": 0,
   "outputs": [
    {
     "output_type": "stream",
     "text": [
      "The eigenvalues of A are: [6. 8. 2.]\n",
      "The eigenvalues of A are: [6. 8. 2.]\n",
      "The eigenvalue corresponding to lambda=6 is: [1. 0. 0.]\n",
      "The eigenvalue corresponding to lambda=6 is: [1. 0. 0.]\n",
      "The eigenvalue corresponding to lambda=8 is: [0.98058068 0.19611614 0.        ]\n",
      "The eigenvalue corresponding to lambda=2 is: [ 0.84270097 -0.48154341  0.24077171]\n"
     ],
     "name": "stdout"
    }
   ]
  },
  {
   "cell_type": "markdown",
   "metadata": {
    "id": "-RG9haPJmLc4",
    "colab_type": "text"
   },
   "source": [
    "Let's compare these to the known values from lecture 6:\n",
    "\n",
    "Eigenspace corresponding to $\\arr{A}$ :\n",
    "\\begin{array}{}\n",
    "6, \\begin{bmatrix} 1\\\\0\\\\0 \\end{bmatrix} ; & 8,\\begin{bmatrix} 5\\\\1\\\\0 \\end{bmatrix}; & 2, \\begin{bmatrix} 7\\\\-4\\\\2\\end{bmatrix} ; & \\vec{x}=\\vec{0}\n",
    "\\end{array}\n",
    "\n",
    "Notice that the eigenvectors returned by numpy are the same ratios, but different absolute numbers. We can rescale these if we need. \n"
   ]
  },
  {
   "cell_type": "code",
   "metadata": {
    "id": "sp1ROp7JXQRW",
    "colab_type": "code",
    "outputId": "1278576c-4c4c-4bd5-c3d5-5848df8c9be2",
    "executionInfo": {
     "status": "ok",
     "timestamp": 1580828990998,
     "user_tz": 300,
     "elapsed": 623,
     "user": {
      "displayName": "Zachary Ulissi",
      "photoUrl": "",
      "userId": "07633171379186475882"
     }
    },
    "colab": {
     "base_uri": "https://localhost:8080/",
     "height": 34
    }
   },
   "source": [
    "eigenvectors[:,1]/eigenvectors[1,1]"
   ],
   "execution_count": 0,
   "outputs": [
    {
     "output_type": "execute_result",
     "data": {
      "text/plain": [
       "array([5., 1., 0.])"
      ]
     },
     "metadata": {
      "tags": []
     },
     "execution_count": 4
    }
   ]
  },
  {
   "cell_type": "code",
   "metadata": {
    "id": "JgTjHZH9XJo5",
    "colab_type": "code",
    "colab": {}
   },
   "source": [
    "\n",
    "\n",
    "\n",
    "\n",
    "\n",
    "\n",
    "\n",
    "\n",
    "\n",
    "\n",
    "\n",
    "\n",
    "\n",
    "\n",
    "\n",
    "\n",
    "\n",
    "\n",
    "\n",
    "\n",
    "\n",
    "\n",
    "\n",
    "\n",
    "\n",
    "\n",
    "\n",
    "\n",
    "\n",
    "\n",
    "\n",
    "\n",
    "\n"
   ],
   "execution_count": 0,
   "outputs": []
  },
  {
   "cell_type": "code",
   "metadata": {
    "id": "NWOayeCdnxqT",
    "colab_type": "code",
    "outputId": "4736ed26-c351-48da-aba4-c87fca31d543",
    "executionInfo": {
     "status": "ok",
     "timestamp": 1580829030721,
     "user_tz": 300,
     "elapsed": 612,
     "user": {
      "displayName": "Zachary Ulissi",
      "photoUrl": "",
      "userId": "07633171379186475882"
     }
    },
    "colab": {
     "base_uri": "https://localhost:8080/",
     "height": 34
    }
   },
   "source": [
    "  print('The eigenvalue corresponding to lambda=%d is: %s'%(eigenvalues[2],eigenvectors[:,2]/eigenvectors[2,2]*2))"
   ],
   "execution_count": 0,
   "outputs": [
    {
     "output_type": "stream",
     "text": [
      "The eigenvalue corresponding to lambda=2 is: [ 7. -4.  2.]\n"
     ],
     "name": "stdout"
    }
   ]
  },
  {
   "cell_type": "markdown",
   "metadata": {
    "id": "psy_t6i2nlqF",
    "colab_type": "text"
   },
   "source": [
    "## Complex roots\n",
    "\n",
    "$ \\arr{A} = \\begin{bmatrix} 1&2 \\\\ -2&1 \\end{bmatrix} $\n",
    "\n",
    "This is easy now that we know how to use ```np.linalg.eig```!"
   ]
  },
  {
   "cell_type": "code",
   "metadata": {
    "id": "aoLJJp7HXPq6",
    "colab_type": "code",
    "outputId": "48eaac70-6031-431a-d647-408d955cd189",
    "executionInfo": {
     "status": "ok",
     "timestamp": 1580829064199,
     "user_tz": 300,
     "elapsed": 638,
     "user": {
      "displayName": "Zachary Ulissi",
      "photoUrl": "",
      "userId": "07633171379186475882"
     }
    },
    "colab": {
     "base_uri": "https://localhost:8080/",
     "height": 69
    }
   },
   "source": [
    "A = np.array([[1,2],\n",
    "              [-2,1]])\n",
    "\n",
    "eigenvalues, eigenvectors = np.linalg.eig(A)\n",
    "\n",
    "print(eigenvalues)\n",
    "print(eigenvectors)"
   ],
   "execution_count": 0,
   "outputs": [
    {
     "output_type": "stream",
     "text": [
      "[1.+2.j 1.-2.j]\n",
      "[[0.        -0.70710678j 0.        +0.70710678j]\n",
      " [0.70710678+0.j         0.70710678-0.j        ]]\n"
     ],
     "name": "stdout"
    }
   ]
  },
  {
   "cell_type": "code",
   "metadata": {
    "id": "KkN1gk-Lwd-w",
    "colab_type": "code",
    "outputId": "9834c745-6b6b-42ed-cac0-ba4088185179",
    "executionInfo": {
     "status": "ok",
     "timestamp": 1580829160051,
     "user_tz": 300,
     "elapsed": 610,
     "user": {
      "displayName": "Zachary Ulissi",
      "photoUrl": "",
      "userId": "07633171379186475882"
     }
    },
    "colab": {
     "base_uri": "https://localhost:8080/",
     "height": 34
    }
   },
   "source": [
    "(1+2.j)**2"
   ],
   "execution_count": 0,
   "outputs": [
    {
     "output_type": "execute_result",
     "data": {
      "text/plain": [
       "(-3+4j)"
      ]
     },
     "metadata": {
      "tags": []
     },
     "execution_count": 14
    }
   ]
  },
  {
   "cell_type": "code",
   "metadata": {
    "id": "yIO8rpQbXLrK",
    "colab_type": "code",
    "colab": {}
   },
   "source": [
    "\n",
    "\n",
    "\n",
    "\n",
    "\n",
    "\n",
    "\n",
    "\n",
    "\n",
    "\n",
    "\n",
    "\n",
    "\n",
    "\n",
    "\n",
    "\n",
    "\n",
    "\n",
    "\n",
    "\n",
    "\n",
    "\n",
    "\n",
    "\n",
    "\n",
    "\n",
    "\n",
    "\n"
   ],
   "execution_count": 0,
   "outputs": []
  },
  {
   "cell_type": "code",
   "metadata": {
    "id": "V2Hl-hGd3HSZ",
    "colab_type": "code",
    "outputId": "ee22f03e-be2c-4913-ce2a-6cb723fa5986",
    "executionInfo": {
     "status": "ok",
     "timestamp": 1580763784751,
     "user_tz": 300,
     "elapsed": 389,
     "user": {
      "displayName": "Zachary Ulissi",
      "photoUrl": "",
      "userId": "07633171379186475882"
     }
    },
    "colab": {
     "base_uri": "https://localhost:8080/",
     "height": 68
    }
   },
   "source": [
    "A = np.array([[1,2],[-2,1]])\n",
    "eigenvalues, eigenvectors = np.linalg.eig(A)\n",
    "\n",
    "print(eigenvalues)\n",
    "print(eigenvectors)"
   ],
   "execution_count": 0,
   "outputs": [
    {
     "output_type": "stream",
     "text": [
      "[1.+2.j 1.-2.j]\n",
      "[[0.        -0.70710678j 0.        +0.70710678j]\n",
      " [0.70710678+0.j         0.70710678-0.j        ]]\n"
     ],
     "name": "stdout"
    }
   ]
  },
  {
   "cell_type": "markdown",
   "metadata": {
    "id": "ZTz5NpmA3SRE",
    "colab_type": "text"
   },
   "source": [
    "Notice that numpy is using \"j\" to indicate a complex number. Otherwise things look pretty simple!\n",
    "\n",
    "### Here are some examples of complex numbers:"
   ]
  },
  {
   "cell_type": "code",
   "metadata": {
    "id": "2ejtV1Z-XN2Z",
    "colab_type": "code",
    "colab": {}
   },
   "source": [
    "\n",
    "\n",
    "\n",
    "\n",
    "\n",
    "\n",
    "\n",
    "\n",
    "\n",
    "\n",
    "\n",
    "\n",
    "\n",
    "\n",
    "\n",
    "\n",
    "\n",
    "\n",
    "\n",
    "\n",
    "\n",
    "\n",
    "\n",
    "\n",
    "\n",
    "\n",
    "\n"
   ],
   "execution_count": 0,
   "outputs": []
  },
  {
   "cell_type": "code",
   "metadata": {
    "id": "6fdg-89m3Z3z",
    "colab_type": "code",
    "outputId": "1b49acde-fc94-4336-d5f0-2330931e1c79",
    "executionInfo": {
     "status": "ok",
     "timestamp": 1580764040379,
     "user_tz": 300,
     "elapsed": 443,
     "user": {
      "displayName": "Zachary Ulissi",
      "photoUrl": "",
      "userId": "07633171379186475882"
     }
    },
    "colab": {
     "base_uri": "https://localhost:8080/",
     "height": 68
    }
   },
   "source": [
    "a = 1+2.j\n",
    "print('a=%s'%str(a))\n",
    "print('a+1=%s'%str(a+1))\n",
    "print('2a=%s'%str(2*a))"
   ],
   "execution_count": 0,
   "outputs": [
    {
     "output_type": "stream",
     "text": [
      "a=(1+2j)\n",
      "a+1=(2+2j)\n",
      "2a=(2+4j)\n"
     ],
     "name": "stdout"
    }
   ]
  },
  {
   "cell_type": "markdown",
   "metadata": {
    "id": "e3HtT5ElWxPn",
    "colab_type": "text"
   },
   "source": [
    "# In-class problem \n",
    "\n",
    "Calculate the eigenvalues and eigenvectors for the matrix \n",
    "\n",
    "$\\arr{A} = \\begin{bmatrix} 0&9&-12 \\\\ -9&0&20 \\\\ 12&-20&0 \\end{bmatrix}$\n"
   ]
  },
  {
   "cell_type": "markdown",
   "metadata": {
    "id": "WKXTJ4og4AYC",
    "colab_type": "text"
   },
   "source": [
    "# Population eigenvalue problem\n",
    "\n",
    "Let's start with calculating the eigenvalues and eigenvectors of the population transition matrix $\\arr{A}$"
   ]
  },
  {
   "cell_type": "code",
   "metadata": {
    "id": "LKcdIx6RXUSL",
    "colab_type": "code",
    "colab": {}
   },
   "source": [
    ""
   ],
   "execution_count": 0,
   "outputs": []
  },
  {
   "cell_type": "code",
   "metadata": {
    "id": "UI8xb7nVXTFW",
    "colab_type": "code",
    "colab": {}
   },
   "source": [
    "\n",
    "\n",
    "\n",
    "\n",
    "\n",
    "\n",
    "\n",
    "\n",
    "\n",
    "\n",
    "\n",
    "\n",
    "\n",
    "\n",
    "\n",
    "\n",
    "\n",
    "\n"
   ],
   "execution_count": 0,
   "outputs": []
  },
  {
   "cell_type": "code",
   "metadata": {
    "id": "0NtoFidD8gSg",
    "colab_type": "code",
    "outputId": "f0808015-0535-49d1-8bdf-0ff4b8545924",
    "executionInfo": {
     "status": "ok",
     "timestamp": 1580829200129,
     "user_tz": 300,
     "elapsed": 628,
     "user": {
      "displayName": "Zachary Ulissi",
      "photoUrl": "",
      "userId": "07633171379186475882"
     }
    },
    "colab": {
     "base_uri": "https://localhost:8080/",
     "height": 86
    }
   },
   "source": [
    "A = np.array([[0.3,0.2,0],\n",
    "              [0.6,0.2,0],\n",
    "              [0.1,0.6,1]])\n",
    "\n",
    "eigenvalues, eigenvectors = np.linalg.eig(A)\n",
    "\n",
    "print(eigenvalues)\n",
    "print(eigenvectors)"
   ],
   "execution_count": 0,
   "outputs": [
    {
     "output_type": "stream",
     "text": [
      "[ 1.  -0.1  0.6]\n",
      "[[ 0.          0.40824829 -0.32444284]\n",
      " [ 0.         -0.81649658 -0.48666426]\n",
      " [ 1.          0.40824829  0.81110711]]\n"
     ],
     "name": "stdout"
    }
   ]
  },
  {
   "cell_type": "markdown",
   "metadata": {
    "id": "zmnCYg8X8uS_",
    "colab_type": "text"
   },
   "source": [
    "Matches up with what we already know! \n",
    "\n",
    "Let's do a little example for a random starting population of 1000 people. "
   ]
  },
  {
   "cell_type": "code",
   "metadata": {
    "id": "oc4djFDmXV1V",
    "colab_type": "code",
    "colab": {}
   },
   "source": [
    ""
   ],
   "execution_count": 0,
   "outputs": []
  },
  {
   "cell_type": "code",
   "metadata": {
    "id": "cbh4kxnJXVJK",
    "colab_type": "code",
    "colab": {}
   },
   "source": [
    "\n",
    "\n",
    "\n",
    "\n",
    "\n",
    "\n",
    "\n",
    "\n",
    "\n",
    "\n",
    "\n",
    "\n",
    "\n",
    "\n",
    "\n",
    "\n",
    "\n",
    "\n",
    "\n",
    "\n",
    "\n",
    "\n",
    "\n"
   ],
   "execution_count": 0,
   "outputs": []
  },
  {
   "cell_type": "code",
   "metadata": {
    "id": "N8ae7zP1-Mod",
    "colab_type": "code",
    "outputId": "80e9de8d-3911-468d-b074-3210cc2affa4",
    "executionInfo": {
     "status": "ok",
     "timestamp": 1580829255895,
     "user_tz": 300,
     "elapsed": 825,
     "user": {
      "displayName": "Zachary Ulissi",
      "photoUrl": "",
      "userId": "07633171379186475882"
     }
    },
    "colab": {
     "base_uri": "https://localhost:8080/",
     "height": 34
    }
   },
   "source": [
    "# Generate three random numbers\n",
    "p = np.random.rand(3)\n",
    "\n",
    "#Normalize the random numbers and multiple by 1000 so that they all add correctly.\n",
    "p = np.round(p/p.sum()*1000)\n",
    "\n",
    "print('Starting population: %d alive, %d sick, %d dead '%(p[0],p[1],p[2]))"
   ],
   "execution_count": 0,
   "outputs": [
    {
     "output_type": "stream",
     "text": [
      "Starting population: 280 alive, 377 sick, 344 dead \n"
     ],
     "name": "stdout"
    }
   ]
  },
  {
   "cell_type": "markdown",
   "metadata": {
    "id": "ajr_GgEWAZPW",
    "colab_type": "text"
   },
   "source": [
    "Now, let's increment the population:"
   ]
  },
  {
   "cell_type": "code",
   "metadata": {
    "id": "9KZb9URQXYsJ",
    "colab_type": "code",
    "colab": {}
   },
   "source": [
    ""
   ],
   "execution_count": 0,
   "outputs": []
  },
  {
   "cell_type": "code",
   "metadata": {
    "id": "hY0266YaAvvO",
    "colab_type": "code",
    "outputId": "9b6c657b-a5bb-43f4-d003-f6d1ce311f8a",
    "executionInfo": {
     "status": "ok",
     "timestamp": 1580829277199,
     "user_tz": 300,
     "elapsed": 631,
     "user": {
      "displayName": "Zachary Ulissi",
      "photoUrl": "",
      "userId": "07633171379186475882"
     }
    },
    "colab": {
     "base_uri": "https://localhost:8080/",
     "height": 34
    }
   },
   "source": [
    "p2 = A@p\n",
    "print('Starting population: %d alive, %d sick, %d dead '%(p2[0],p2[1],p2[2]))"
   ],
   "execution_count": 0,
   "outputs": [
    {
     "output_type": "stream",
     "text": [
      "Starting population: 159 alive, 243 sick, 598 dead \n"
     ],
     "name": "stdout"
    }
   ]
  },
  {
   "cell_type": "code",
   "metadata": {
    "id": "yXEk70zSxQfu",
    "colab_type": "code",
    "outputId": "3c7fa7e7-6bde-478e-871a-8e530f161e56",
    "executionInfo": {
     "status": "ok",
     "timestamp": 1580829345092,
     "user_tz": 300,
     "elapsed": 593,
     "user": {
      "displayName": "Zachary Ulissi",
      "photoUrl": "",
      "userId": "07633171379186475882"
     }
    },
    "colab": {
     "base_uri": "https://localhost:8080/",
     "height": 34
    }
   },
   "source": [
    "p2 = np.linalg.matrix_power(A,20)@p\n",
    "print('Starting population: %d alive, %d sick, %d dead '%(p2[0],p2[1],p2[2]))"
   ],
   "execution_count": 0,
   "outputs": [
    {
     "output_type": "stream",
     "text": [
      "Starting population: 0 alive, 0 sick, 1000 dead \n"
     ],
     "name": "stdout"
    }
   ]
  },
  {
   "cell_type": "markdown",
   "metadata": {
    "id": "hT6RtWKtAyN6",
    "colab_type": "text"
   },
   "source": [
    "Let's do this after n iterations:\n"
   ]
  },
  {
   "cell_type": "code",
   "metadata": {
    "id": "u3FKsDB3XbWZ",
    "colab_type": "code",
    "colab": {}
   },
   "source": [
    ""
   ],
   "execution_count": 0,
   "outputs": []
  },
  {
   "cell_type": "code",
   "metadata": {
    "id": "BQJ1K1_FXavq",
    "colab_type": "code",
    "colab": {}
   },
   "source": [
    "\n",
    "\n",
    "\n",
    "\n",
    "\n",
    "\n",
    "\n",
    "\n",
    "\n",
    "\n",
    "\n",
    "\n",
    "\n",
    "\n",
    "\n",
    "\n",
    "\n",
    "\n",
    "\n",
    "\n",
    "\n",
    "\n",
    "\n",
    "\n",
    "\n",
    "\n",
    "\n",
    "\n",
    "\n"
   ],
   "execution_count": 0,
   "outputs": []
  },
  {
   "cell_type": "code",
   "metadata": {
    "id": "167zc7TFBuzM",
    "colab_type": "code",
    "outputId": "b503a114-216b-4559-e7b9-52bdfb8fd0b3",
    "executionInfo": {
     "status": "ok",
     "timestamp": 1580770208625,
     "user_tz": 300,
     "elapsed": 458,
     "user": {
      "displayName": "Zachary Ulissi",
      "photoUrl": "",
      "userId": "07633171379186475882"
     }
    },
    "colab": {
     "base_uri": "https://localhost:8080/",
     "height": 34
    }
   },
   "source": [
    "p2 = np.linalg.matrix_power(A,20)@p\n",
    "print('Starting population: %d alive, %d sick, %d dead '%(p2[0],p2[1],p2[2]))"
   ],
   "execution_count": 0,
   "outputs": [
    {
     "output_type": "stream",
     "text": [
      "Starting population: 222 alive, 166 sick, 611 dead \n"
     ],
     "name": "stdout"
    }
   ]
  },
  {
   "cell_type": "markdown",
   "metadata": {
    "id": "XcFT5j5RByEq",
    "colab_type": "text"
   },
   "source": [
    "Notice that everyone dies. This happens for any starting configuration. "
   ]
  },
  {
   "cell_type": "markdown",
   "metadata": {
    "id": "VeJ5ItHUCKN9",
    "colab_type": "text"
   },
   "source": [
    "## In-class problem: zombies\n",
    "\n",
    "We discover that there's a 20% chance of a dead person coming back from the dead (a zombie). Calculate the steady state distribution of live, sick, and dead people. "
   ]
  },
  {
   "cell_type": "code",
   "metadata": {
    "id": "zJp0mPoKB0sI",
    "colab_type": "code",
    "outputId": "ebdf3f35-082e-455c-a4f0-17e2daf33216",
    "executionInfo": {
     "status": "ok",
     "timestamp": 1580829684323,
     "user_tz": 300,
     "elapsed": 574,
     "user": {
      "displayName": "Zachary Ulissi",
      "photoUrl": "",
      "userId": "07633171379186475882"
     }
    },
    "colab": {
     "base_uri": "https://localhost:8080/",
     "height": 86
    }
   },
   "source": [
    "A = np.array([[0.3,0.2,0.0],\n",
    "              [0.6,0.2,0.2],\n",
    "              [0.1,0.6,0.8]])\n",
    "\n",
    "eigenvalues, eigenvectors = np.linalg.eig(A)\n",
    "\n",
    "print(eigenvalues)\n",
    "print(eigenvectors)"
   ],
   "execution_count": 0,
   "outputs": [
    {
     "output_type": "stream",
     "text": [
      "[-0.17015621  0.47015621  1.        ]\n",
      "[[ 0.34604809 -0.44068607  0.08630637]\n",
      " [-0.81348329 -0.37492736  0.3020723 ]\n",
      " [ 0.4674352   0.81561343  0.94937007]]\n"
     ],
     "name": "stdout"
    }
   ]
  },
  {
   "cell_type": "code",
   "metadata": {
    "id": "hX2ode91CZq8",
    "colab_type": "code",
    "outputId": "4ebcdfaf-9ef5-461d-df83-bc7863919565",
    "executionInfo": {
     "status": "ok",
     "timestamp": 1580829704422,
     "user_tz": 300,
     "elapsed": 639,
     "user": {
      "displayName": "Zachary Ulissi",
      "photoUrl": "",
      "userId": "07633171379186475882"
     }
    },
    "colab": {
     "base_uri": "https://localhost:8080/",
     "height": 34
    }
   },
   "source": [
    "p2 = np.linalg.matrix_power(A,20)@p\n",
    "print('Starting population: %d alive, %d sick, %d dead '%(p2[0],p2[1],p2[2]))"
   ],
   "execution_count": 0,
   "outputs": [
    {
     "output_type": "stream",
     "text": [
      "Starting population: 64 alive, 226 sick, 710 dead \n"
     ],
     "name": "stdout"
    }
   ]
  },
  {
   "cell_type": "code",
   "metadata": {
    "id": "ziLhlpnegYiT",
    "colab_type": "code",
    "colab": {}
   },
   "source": [
    ""
   ],
   "execution_count": 0,
   "outputs": []
  },
  {
   "cell_type": "code",
   "metadata": {
    "id": "M88Er4H6gYGC",
    "colab_type": "code",
    "colab": {}
   },
   "source": [
    ""
   ],
   "execution_count": 0,
   "outputs": []
  }
 ]
}