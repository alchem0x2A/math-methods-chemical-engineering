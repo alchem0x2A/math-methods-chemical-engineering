{
 "nbformat": 4,
 "nbformat_minor": 0,
 "metadata": {
  "colab": {
   "name": "4-rank-gauss-examples.ipynb",
   "provenance": [],
   "collapsed_sections": []
  },
  "kernelspec": {
   "name": "python3",
   "display_name": "Python 3"
  }
 },
 "cells": [
  {
   "cell_type": "markdown",
   "metadata": {
    "id": "gatzvzgLC4sf",
    "colab_type": "text",
    "badge": true,
    "repo_name": "ulissigroup/math-methods-chemical-engineering",
    "branch": "master",
    "nb_path": "lecture_notes/04-rank-gauss-examples.ipynb",
    "comment": "This badge cell was added by colab-badge-action"
   },
   "source": [
    "<a href=\"https://colab.research.google.com/github/ulissigroup/math-methods-chemical-engineering/blob/master/lecture_notes/04-rank-gauss-examples.ipynb\" target=\"_parent\"><img src=\"https://colab.research.google.com/assets/colab-badge.svg\" alt=\"Open In Colab\"/></a>\n",
    "\n",
    "$$\\newcommand{\\arr}[1]{\\underline{\\underline{#1}}}$$    \n",
    "$$\\newcommand{\\vec}[1]{\\underline{#1}}$$   \n",
    "$$\\require{mhchem}$$\n"
   ]
  },
  {
   "cell_type": "code",
   "metadata": {
    "id": "SfDdP8-rj9xu",
    "colab_type": "code",
    "colab": {}
   },
   "source": [
    ""
   ],
   "execution_count": 0,
   "outputs": []
  },
  {
   "cell_type": "markdown",
   "metadata": {
    "id": "B0SWB0UQoHgG",
    "colab_type": "text"
   },
   "source": [
    "# Chemical Engineering example solved with Gauss elimination\n",
    "\n",
    "Three tanks of water are attached in series. All tanks have the same cross-sectional area $A$. The flow rate through the valves is a function of the height of the water in the tanks (equations below)\n",
    "\n",
    "<img src=\"https://docs.google.com/drawings/d/e/2PACX-1vRdeJhg87qBtUYmI28A_IHSRFfsJQUNfAiBTPTbcsiota93b2pL8MHzdpnXdhX21nG7nDAA1-mYLyh3/pub?w=632&amp;h=245\">\n",
    "\n",
    "\n"
   ]
  },
  {
   "cell_type": "markdown",
   "metadata": {
    "id": "18sLJ7j-ttBy",
    "colab_type": "text"
   },
   "source": [
    "## Mass balances"
   ]
  },
  {
   "cell_type": "markdown",
   "metadata": {
    "id": "A1nAnmq2trA0",
    "colab_type": "text"
   },
   "source": [
    "* Balance on tank 1 at steady state (accum=0)\n",
    "\\begin{align*}\n",
    "\\text{Accumulation}&=\\text{In}-\\text{Out}+\\text{Generation}\\\\\n",
    "0&=\\rho F_0-\\rho F_1\\\\\n",
    "0&=F_0-F_1=F_0-\\frac{h_1-h_2}{R_1}\\\\\n",
    "h_1-h_2&=R_1F_0\n",
    "\\end{align*}\n",
    "To prepare for the augmented matrix, we'll keep unknowns on the left hand side, and constants on the right hand side!\n",
    "* Balance on tank 2 at steady state (accum=0)\n",
    "\\begin{align*}\n",
    "\\text{Accumulation}&=\\text{In}-\\text{Out}+\\text{Generation}\\\\\n",
    "0&=\\rho\\frac{h_1-h_2}{R_1}-\\rho\\frac{h_2-h_3}{R_2}=R_2h_1-R_2h_2-R_1h_2+R_1h_3\\\\\n",
    "R_2h_1-(R_1+R_2)h_2+R_1h_3&=0\n",
    "\\end{align*}\n",
    "* Balance on tank 3 at steady state (accum=0)\n",
    "\\begin{align*}\n",
    "\\text{Accumulation}&=\\text{In}-\\text{Out}+\\text{Generation}\\\\\n",
    "0&=\\rho\\frac{h_2-h_3}{R_2}-\\rho\\frac{h_3}{R_3}=R_3h_2-R_3h_3-R_2h_3\\\\\n",
    "R_3h_2-(R_2+R_3)h_3&=0\n",
    "\\end{align*}\n",
    "\n",
    "\n"
   ]
  },
  {
   "cell_type": "markdown",
   "metadata": {
    "id": "7wPxnXvzu66O",
    "colab_type": "text"
   },
   "source": [
    "## Convert to math problem equation"
   ]
  },
  {
   "cell_type": "markdown",
   "metadata": {
    "id": "sVY-Lc_Lu966",
    "colab_type": "text"
   },
   "source": [
    "\\begin{align*}\n",
    "\\arr{A}\\vec{h}=\\vec{b}\\\\\n",
    "\\begin{bmatrix}\n",
    "1&-1&0\\\\\n",
    "R_2&-(R_1+R_2)&R_1\\\\\n",
    "0&R_3&-(R_2+R_3)\n",
    "\\end{bmatrix}\n",
    "\\begin{bmatrix}\n",
    "h_1\\\\h_2\\\\h_3\n",
    "\\end{bmatrix}&=\\begin{bmatrix}\n",
    "R_1F_0\\\\0\\\\0\n",
    "\\end{bmatrix}\n",
    "\\end{align*}"
   ]
  },
  {
   "cell_type": "markdown",
   "metadata": {
    "id": "VsJA-Wetznn_",
    "colab_type": "text"
   },
   "source": [
    "## Solve system of equations"
   ]
  },
  {
   "cell_type": "markdown",
   "metadata": {
    "id": "l04uPkwozv6S",
    "colab_type": "text"
   },
   "source": [
    "For the situation where $A=5$ m$^2$, $F_0=5$ m$^3$/hr, $R_1=2$ hr/m$^2$, $R_2=1$ hr/m$^2$, $R_3=1$ hr/m$^2$, plug into matrix:\n",
    "\\begin{align*}\n",
    "\\begin{bmatrix}\n",
    "1&-1&0\\\\\n",
    "1&-3&2\\\\\n",
    "0&1&-2\n",
    "\\end{bmatrix}\n",
    "\\begin{bmatrix}\n",
    "h_1\\\\h_2\\\\h_3\n",
    "\\end{bmatrix}&=\\begin{bmatrix}\n",
    "10\\\\0\\\\0\n",
    "\\end{bmatrix}\n",
    "\\end{align*}\n",
    "\n",
    "\n",
    "\n",
    "* Form $[\\arr{A}|\\vec{b}]$\n",
    "\\begin{align*}\n",
    "\\left[\\begin{array}{rrr|r}\n",
    "1&-1&0&10\\\\\n",
    "1&-3&2&0\\\\\n",
    "0&1&-2&0\n",
    "\\end{array}\\right]\n",
    "\\end{align*}\n",
    "* $R_2=R_2-R_1$\n",
    "\\begin{align*}\n",
    "\\left[\\begin{array}{rrr|r}\n",
    "1&-1&0&10\\\\\n",
    "0&-2&2&-10\\\\\n",
    "0&1&-2&0\n",
    "\\end{array}\\right]\n",
    "\\end{align*}\n",
    "* $R_2=-R_2/2$\n",
    "\\begin{align*}\n",
    "\\left[\\begin{array}{rrr|r}\n",
    "1&-1&0&10\\\\\n",
    "0&1&-1&5\\\\\n",
    "0&1&-2&0\n",
    "\\end{array}\\right]\n",
    "\\end{align*}\n",
    "* $R_3=R_2-R_3$\n",
    "\\begin{align*}\n",
    "\\left[\\begin{array}{rrr|r}\n",
    "1&-1&0&10\\\\\n",
    "0&1&-1&5\\\\\n",
    "0&0&1&5\n",
    "\\end{array}\\right]\n",
    "\\end{align*}\n",
    "* $R_2=R_2+R_3$\n",
    "\\begin{align*}\n",
    "\\left[\\begin{array}{rrr|r}\n",
    "1&-1&0&10\\\\\n",
    "0&1&0&10\\\\\n",
    "0&0&1&5\n",
    "\\end{array}\\right]\n",
    "\\end{align*}\n",
    "* $R_1=R_1+R_2$\n",
    "\\begin{align*}\n",
    "\\left[\\begin{array}{rrr|r}\n",
    "1&0&0&20\\\\\n",
    "0&1&0&10\\\\\n",
    "0&0&1&5\n",
    "\\end{array}\\right]\n",
    "\\end{align*}\n",
    "\n",
    "Math solved!"
   ]
  },
  {
   "cell_type": "markdown",
   "metadata": {
    "id": "HDlBA-Jj1N3C",
    "colab_type": "text"
   },
   "source": [
    "## Solve engineering problem"
   ]
  },
  {
   "cell_type": "markdown",
   "metadata": {
    "id": "jjgiOih01P73",
    "colab_type": "text"
   },
   "source": [
    "* $h_1=20$. What units? Remember $h\\sim FR=(m^3/hr)(hr/m^2)=m$\n",
    "* $h_1=20$ m, $h_2=10$ m, $h_3=5$ m.\n",
    "\n",
    "Can this solution make physical sense? Yes!"
   ]
  },
  {
   "cell_type": "markdown",
   "metadata": {
    "colab_type": "text",
    "id": "kJAtVhLiRmIT"
   },
   "source": [
    "# Rank of a matrix"
   ]
  },
  {
   "cell_type": "markdown",
   "metadata": {
    "colab_type": "text",
    "id": "ql6aEAFIRmIX"
   },
   "source": [
    "* The rank of a matrix is the # of non-zero rows after gauss elimination\n",
    "* This tells us about the linear independent of the our system\n"
   ]
  },
  {
   "cell_type": "markdown",
   "metadata": {
    "colab_type": "text",
    "id": "HMZ1I9srRmIb"
   },
   "source": [
    "## Example"
   ]
  },
  {
   "cell_type": "markdown",
   "metadata": {
    "colab_type": "text",
    "id": "5QDVu16PRmId"
   },
   "source": [
    "\\begin{align*}\n",
    "\\arr{A}=\\begin{bmatrix}\n",
    "-3&1&-1\\\\\n",
    "1&0&1\\\\\n",
    "-2&2&2\n",
    "\\end{bmatrix}\n",
    "\\end{align*}\n",
    "* After Gauss elimination\n",
    "\\begin{align*}\n",
    "\\arr{A}=\\begin{bmatrix}\n",
    "1&0&1\\\\\n",
    "0&1&2\\\\\n",
    "0&0&0\n",
    "\\end{bmatrix}\n",
    "\\end{align*}\n",
    "*There are two nonzero rows, so rank$(\\arr{A})=2$. \n",
    "* This also means that only two of these equations are linearly independent!\n",
    "* The reduced echelon matrix tells us that $x_1+x_3$ and $x_1+2x_3$ form **a basis** of the system!\n"
   ]
  },
  {
   "cell_type": "markdown",
   "metadata": {
    "colab_type": "text",
    "id": "Wkb_zLUQRmIf"
   },
   "source": [
    "## Example 2"
   ]
  },
  {
   "cell_type": "markdown",
   "metadata": {
    "colab_type": "text",
    "id": "WzZCxNJIRmIg"
   },
   "source": [
    "Let's say we get an augment matrix after gauss elimination of:\n",
    "\\begin{align*}\n",
    "\\arr{\\tilde{A}}=\\begin{bmatrix}\n",
    "-3&1&-1&-3\\\\\n",
    "1&0&1&5\\\\\n",
    "-2&2&2&-17\n",
    "\\end{bmatrix}\n",
    "\\end{align*}\n",
    "* rank$(\\arr{\\tilde{A}})=3$\n",
    "* rank$(\\arr{A})=2$\n",
    "\n",
    "**No solution!!**\n",
    "\n",
    "For an m=n system like the 3x3 system here:\n",
    "* If rank$(\\arr{A})=$rank$(\\arr{\\tilde{A}})=n$, one unique solution!\n",
    "* If rank$(\\arr{A})<$rank$(\\arr{\\tilde{A}})=n$, no solution!"
   ]
  },
  {
   "cell_type": "markdown",
   "metadata": {
    "id": "PFE-cXpXzlCQ",
    "colab_type": "text"
   },
   "source": [
    "# Inner (dot) products of vectors\n",
    "\n",
    "You've probably done dot products in your calculus class, but let's go ahead and review dot products.\n",
    "\n",
    "* This is a special case of matrix multiplication that occurs very often\n",
    "* If $\\vec{a}$ and $\\vec{b}$ are vectors, both with the same number of elements, then matrix multiplication yields a scalar (a 1x1 matrix) called the inner or dot  product\n",
    "\\begin{align*}\n",
    "\\vec{a}\\cdot\\vec{b}=\\vec{a}^T\\vec{b}=\\begin{bmatrix}a_1&\\dots&a_n\\end{bmatrix}\n",
    "\\begin{bmatrix}b_1\\\\\\vdots\\\\b_n\\end{bmatrix}=\\sum_{l=1}^n a_lb_l\n",
    "\\end{align*}\n",
    "\n",
    "## Example\n",
    "\n",
    "\\begin{align*}\n",
    "\\vec{a}=\\begin{bmatrix}\n",
    "4\\\\-1\\\\2\n",
    "\\end{bmatrix}, \\vec{b}=\\begin{bmatrix}\n",
    "1\\\\0\\\\3\n",
    "\\end{bmatrix}\\\\\n",
    "\\vec{a}\\cdot\\vec{b}=4(1)+-1(0)+2(3)=10\n",
    "\\end{align*}\n",
    "\n",
    "* Matrix multiplication is just a bunch of dot products. For example, in $\\arr{C}=\\arr{A}\\arr{B}$, every operation is just a dot product of a row and columnn vector"
   ]
  },
  {
   "cell_type": "markdown",
   "metadata": {
    "id": "gHzUgKXT2NnL",
    "colab_type": "text"
   },
   "source": [
    "# Diagonal Matrices"
   ]
  },
  {
   "cell_type": "markdown",
   "metadata": {
    "id": "q508i0a93XW_",
    "colab_type": "text"
   },
   "source": [
    "* Definition: Square matrices that have non-zero entries only on the diagonal. Any entry above of below the diagonal is zero\n",
    "* Example:\n",
    "\\begin{align*}\n",
    "\\begin{bmatrix}\n",
    "0.2&0&0\\\\0&5&0\\\\0&0&1\n",
    "\\end{bmatrix}\n",
    "\\end{align*}"
   ]
  },
  {
   "cell_type": "markdown",
   "metadata": {
    "id": "keaLzaiO4zcJ",
    "colab_type": "text"
   },
   "source": [
    "## Identity (unit) matrix\n",
    "\n",
    "* A square matrix  $\\arr{I}$ where every element in the diagonal is 1, and all other elements are 0. \n",
    "\\begin{align*}\n",
    "\\arr{I}=\\begin{bmatrix}1&0\\\\0&1\\end{bmatrix} &&\\arr{I}=\\begin{bmatrix}1&0&0\\\\0&1&0\\\\0&0&1\\end{bmatrix} &&etc\n",
    "\\end{align*}\n",
    "* We can denote the size with $\\arr{I}_n$\n",
    "* **Special property!** Multiplying a matrix $\\arr{A}$ by the same size identity matrix $\\arr{I}$ yields back $\\arr{A}$!\n",
    "\\begin{align*}\n",
    "\\arr{I}\\arr{A}=\\arr{A}\\arr{I}=\\begin{bmatrix}\n",
    "a_{11}&a_{12}\\\\\n",
    "a_{21}&a_{22}\n",
    "\\end{bmatrix}\\begin{bmatrix}\n",
    "1&0\\\\0&1\n",
    "\\end{bmatrix}=\\begin{bmatrix}\n",
    "a_{11}&a_{12}\\\\\n",
    "a_{21}&a_{22}\n",
    "\\end{bmatrix}\n",
    "\\end{align*}"
   ]
  },
  {
   "cell_type": "markdown",
   "metadata": {
    "id": "GnZdykSx3ipv",
    "colab_type": "text"
   },
   "source": [
    "## Scalar matrix\n",
    "\n",
    "* All non-zero entries of a diagonal matrix $\\arr{S}$ are equal to  some number $c$. In other words, $\\arr{S}=c\\arr{I}$\n",
    "\\begin{align*}\n",
    "\\arr{S}=\\begin{bmatrix} c&0\\\\0&c\\end{bmatrix} &&e.g. && \\arr{S}=\\begin{bmatrix} 3&0\\\\0&3\\end{bmatrix}\n",
    "\\end{align*}\n",
    "* From the unit identity info above, $\\arr{S}\\arr{A}=c\\arr{I}\\arr{A}=\\arr{A}\\arr{S}=\\arr{A}c\\arr{I}=c\\arr{A}$"
   ]
  },
  {
   "cell_type": "markdown",
   "metadata": {
    "id": "7nxD2ndi2Ppr",
    "colab_type": "text"
   },
   "source": [
    "# Matrix inversion\n",
    "\n",
    "* A real number $a$ has a multiplicative inverse if there exists a $b$ such that $ab=1$\n",
    "* Any non-zero $a$ has a multiplicative inverse $b=1/a$.\n",
    "\n",
    "We can generalize this idea to matrices!\n",
    "\n",
    "* A square matrix $\\arr{A}$ is **invertible** or **non-singular** if there is a matrix $\\arr{B}$ such that\n",
    "\\begin{align*}\n",
    "\\arr{A}\\arr{B}=\\arr{B}\\arr{A}=\\arr{I}\n",
    "\\end{align*}\n",
    "  * Ex: $\\arr{A}=\\begin{bmatrix}2&4\\\\3&1\\end{bmatrix}$ and $\\arr{B}=\\begin{bmatrix}-1/10&2/5\\\\3/10&-1/5\\end{bmatrix}$ are inverses of each other because $\\arr{A}\\arr{B}=\\arr{B}\\arr{A}=\\arr{I}$\n",
    "* We say $\\arr{B}$ is the multiplicative inverse of $\\arr{A}$\n",
    "* If $\\arr{B}$ and $\\arr{C}$ are both inverses of $\\arr{A}$, then \n",
    "\\begin{align*}\n",
    "\\arr{B}=\\arr{B}\\arr{I}=\\arr{B}(\\arr{A}\\arr{C})=(\\arr{B}\\arr{A})\\arr{C}=\\arr{I}\\arr{C}=\\arr{C} \\\\\\therefore \\arr{B}=\\arr{C} \\text{ and $\\arr{A}$ has at most one inverse}\n",
    "\\end{align*}\n",
    "* The inverse of $\\arr{A}$ is denoted $\\arr{A}^{-1}$\n",
    "* A square matrix is called **singular** if it doesn't have an inverse\n",
    "\n",
    "\n",
    "\n"
   ]
  },
  {
   "cell_type": "markdown",
   "metadata": {
    "id": "8GfQYZmK9xUQ",
    "colab_type": "text"
   },
   "source": [
    "## Computing an inverse"
   ]
  },
  {
   "cell_type": "markdown",
   "metadata": {
    "id": "rmTszRuj9z5x",
    "colab_type": "text"
   },
   "source": [
    "We already have the tools to compute the inverse!! \n",
    "\n",
    "* For a square matrix $\\arr{A}$, we will augment it with the identity matrix\n",
    "* We we will use Gauss elimination to convert $\\arr{A}$ to the identity matrix\n",
    "* The augmented matrix is then the inverse! \n",
    "* Magic! (not really)"
   ]
  },
  {
   "cell_type": "markdown",
   "metadata": {
    "id": "t6A8ZsHL-KdR",
    "colab_type": "text"
   },
   "source": [
    "### Example"
   ]
  },
  {
   "cell_type": "markdown",
   "metadata": {
    "id": "Vi3y0_TP-M_h",
    "colab_type": "text"
   },
   "source": [
    "Find $\\arr{A}^{-1}$ for $\\arr{A}=\\begin{bmatrix}2&-6\\\\4&-2\\end{bmatrix}$\n",
    "\n",
    "* Form augmented matrix\n",
    "\\begin{align*}\n",
    "\\left[\\begin{array}{rr|rr}\n",
    "2&-6&1&0\\\\\n",
    "4&-2&0&1\n",
    "\\end{array}\\right]\n",
    "\\end{align*}\n",
    "* $R_1=R_1/2$\n",
    "\\begin{align*}\n",
    "\\left[\\begin{array}{rr|rr}\n",
    "1&-3&1/2&0\\\\\n",
    "4&-2&0&1\n",
    "\\end{array}\\right]\n",
    "\\end{align*}\n",
    "* $R_2=R_2-4R_1$\n",
    "\\begin{align*}\n",
    "\\left[\\begin{array}{rr|rr}\n",
    "1&-3&1/2&0\\\\\n",
    "0&10&-2&1\n",
    "\\end{array}\\right]\n",
    "\\end{align*}\n",
    "* $R_2=R_2/10$\n",
    "\\begin{align*}\n",
    "\\left[\\begin{array}{rr|rr}\n",
    "1&-3&1/2&0\\\\\n",
    "0&1&-1/5&1/10\n",
    "\\end{array}\\right]\n",
    "\\end{align*}\n",
    "* $R_1=R_1+3R_2$\n",
    "\\begin{align*}\n",
    "\\left[\\begin{array}{rr|rr}\n",
    "1&0&-1/10&3/10\\\\\n",
    "0&1&-1/5&1/10\n",
    "\\end{array}\\right]\n",
    "\\end{align*}\n",
    "\n",
    "* $\\arr{A}^{-1}=\\begin{bmatrix}-1/10&3/10\\\\\n",
    "-1/5&1/10\n",
    "\\end{bmatrix}$\n",
    "* Quick check!\n",
    "\\begin{align*}\n",
    "\\arr{A}\\arr{A}^{-1}=\\arr{I}=\\arr{A}^{-1}\\arr{A}\n",
    "\\end{align*}\n",
    "\n",
    "Let's do this one with python!\n"
   ]
  },
  {
   "cell_type": "code",
   "metadata": {
    "id": "sidcUBea_fOD",
    "colab_type": "code",
    "outputId": "5f5ebe84-facb-4d10-b28f-1854d8ea105c",
    "executionInfo": {
     "status": "ok",
     "timestamp": 1579806730225,
     "user_tz": 300,
     "elapsed": 1476,
     "user": {
      "displayName": "Zachary Ulissi",
      "photoUrl": "",
      "userId": "07633171379186475882"
     }
    },
    "colab": {
     "base_uri": "https://localhost:8080/",
     "height": 85
    }
   },
   "source": [
    "import numpy as np\n",
    "\n",
    "#Define A and the inverse of A\n",
    "A = np.array([[2,-6],[4,-2]])\n",
    "Ainv = np.array([[-1/10,3/10],[-1/5,1/10]])\n",
    "\n",
    "#Note that this looks very good, but some residual rounding errors in the \n",
    "# computation has one element VERY close to zero but not quite right. For \n",
    "# practical purposes, anything less than about 10^-8 is probably the same \n",
    "# thing as zero in numerical methods\n",
    "print(A@Ainv)\n",
    "\n",
    "#Check Ainv*A\n",
    "print(Ainv@A)\n"
   ],
   "execution_count": 0,
   "outputs": [
    {
     "output_type": "stream",
     "text": [
      "[[ 1.00000000e+00 -5.55111512e-17]\n",
      " [ 0.00000000e+00  1.00000000e+00]]\n",
      "[[1.00000000e+00 1.11022302e-16]\n",
      " [0.00000000e+00 1.00000000e+00]]\n"
     ],
     "name": "stdout"
    }
   ]
  },
  {
   "cell_type": "markdown",
   "metadata": {
    "id": "h_RNlwqU89D8",
    "colab_type": "text"
   },
   "source": [
    "# Rank, inverses, and row echelon form, and solving systems of linear equations in numpy"
   ]
  },
  {
   "cell_type": "markdown",
   "metadata": {
    "id": "Yk2Y_2VXA6WX",
    "colab_type": "text"
   },
   "source": [
    "## Rank of a matrix"
   ]
  },
  {
   "cell_type": "markdown",
   "metadata": {
    "id": "WKXinU-jBgyE",
    "colab_type": "text"
   },
   "source": [
    "The ndim property of a numpy array is the same thing as the rank. For the example above:"
   ]
  },
  {
   "cell_type": "code",
   "metadata": {
    "id": "qk94Jxpj8Uml",
    "colab_type": "code",
    "outputId": "22011998-dc6b-422c-ac43-a9358f6b20af",
    "executionInfo": {
     "status": "ok",
     "timestamp": 1579807110363,
     "user_tz": 300,
     "elapsed": 509,
     "user": {
      "displayName": "Zachary Ulissi",
      "photoUrl": "",
      "userId": "07633171379186475882"
     }
    },
    "colab": {
     "base_uri": "https://localhost:8080/",
     "height": 85
    }
   },
   "source": [
    "A = np.array([[-3,1,-1],[1,0,1],[-2,2,2]])\n",
    "print(A)\n",
    "\n",
    "# We can use np.linalg.matrix_rank(A)\n",
    "print('The rank of A is %d'%np.linalg.matrix_rank(A))"
   ],
   "execution_count": 0,
   "outputs": [
    {
     "output_type": "stream",
     "text": [
      "[[-3  1 -1]\n",
      " [ 1  0  1]\n",
      " [-2  2  2]]\n",
      "The rank of A is 2\n"
     ],
     "name": "stdout"
    }
   ]
  },
  {
   "cell_type": "markdown",
   "metadata": {
    "id": "U5KDp7lC1bVs",
    "colab_type": "text"
   },
   "source": [
    "Let's adjust the matrix and see if the rank changes ($a_{22}=2$ to $a_{22}=3$)"
   ]
  },
  {
   "cell_type": "code",
   "metadata": {
    "id": "bnzSI2vp0brp",
    "colab_type": "code",
    "outputId": "0862305d-2659-4f96-aa58-e82acddfd06f",
    "executionInfo": {
     "status": "ok",
     "timestamp": 1579807104985,
     "user_tz": 300,
     "elapsed": 485,
     "user": {
      "displayName": "Zachary Ulissi",
      "photoUrl": "",
      "userId": "07633171379186475882"
     }
    },
    "colab": {
     "base_uri": "https://localhost:8080/",
     "height": 34
    }
   },
   "source": [
    "A = np.array([[-3,1,-1],[1,0,1],[-2,2,3]])\n",
    "\n",
    "# Calculate the matrix rank of A\n",
    "print('The rank of A is %d'%np.linalg.matrix_rank(A))"
   ],
   "execution_count": 0,
   "outputs": [
    {
     "output_type": "stream",
     "text": [
      "The rank of A is 3\n"
     ],
     "name": "stdout"
    }
   ]
  },
  {
   "cell_type": "markdown",
   "metadata": {
    "id": "s6hpRcTw1o5_",
    "colab_type": "text"
   },
   "source": [
    "Confusingly, np.rank(A) **is not** the matrix rank of A."
   ]
  },
  {
   "cell_type": "markdown",
   "metadata": {
    "id": "XeU5cZBCAkdW",
    "colab_type": "text"
   },
   "source": [
    "## Inverse of a matrix\n",
    "\n",
    "Inverses are also easy with np.linalg.inverse"
   ]
  },
  {
   "cell_type": "code",
   "metadata": {
    "id": "gVy_GFeuB7Di",
    "colab_type": "code",
    "outputId": "0cd7c088-ff57-4c37-853a-87f1011e6a08",
    "executionInfo": {
     "status": "ok",
     "timestamp": 1579730931392,
     "user_tz": 300,
     "elapsed": 1445,
     "user": {
      "displayName": "Zachary Ulissi",
      "photoUrl": "",
      "userId": "07633171379186475882"
     }
    },
    "colab": {
     "base_uri": "https://localhost:8080/",
     "height": 52
    }
   },
   "source": [
    "A = np.array([[2,-6],[4,-2]])\n",
    "\n",
    "#Same as the answer we got above!\n",
    "print(np.linalg.inv(A))"
   ],
   "execution_count": 0,
   "outputs": [
    {
     "output_type": "stream",
     "text": [
      "[[-0.1  0.3]\n",
      " [-0.2  0.1]]\n"
     ],
     "name": "stdout"
    }
   ]
  },
  {
   "cell_type": "markdown",
   "metadata": {
    "id": "id_DiyayCOOZ",
    "colab_type": "text"
   },
   "source": [
    "We can ask numpy what the inverse of a singular matrix is, and it will give us an answer, but that answer is garbage."
   ]
  },
  {
   "cell_type": "code",
   "metadata": {
    "id": "rETGPkm9CHNZ",
    "colab_type": "code",
    "outputId": "9abdc8b7-54a5-48d3-9451-98608cb3d2c9",
    "executionInfo": {
     "status": "ok",
     "timestamp": 1579792301310,
     "user_tz": 300,
     "elapsed": 618,
     "user": {
      "displayName": "Zachary Ulissi",
      "photoUrl": "",
      "userId": "07633171379186475882"
     }
    },
    "colab": {
     "base_uri": "https://localhost:8080/",
     "height": 122
    }
   },
   "source": [
    "#Try to get the inverse of a singular matrix\n",
    "A = np.array([[-3,1,-1],[1,0,1],[-2,2,2]])\n",
    "\n",
    "#Same as the answer we got above!\n",
    "Ainv = np.linalg.inv(A) \n",
    "print(Ainv)\n",
    "\n",
    "#Check; notice that Ainv*A is not the identity! This is a problem with numerical\n",
    "# methods; we have to be on top of our game all the time!\n",
    "Ainv@A"
   ],
   "execution_count": 0,
   "outputs": [
    {
     "output_type": "stream",
     "text": [
      "[[-2.25179981e+15 -4.50359963e+15  1.12589991e+15]\n",
      " [-4.50359963e+15 -9.00719925e+15  2.25179981e+15]\n",
      " [ 2.25179981e+15  4.50359963e+15 -1.12589991e+15]]\n"
     ],
     "name": "stdout"
    },
    {
     "output_type": "execute_result",
     "data": {
      "text/plain": [
       "array([[ 1.  ,  0.  ,  1.  ],\n",
       "       [-2.  ,  1.  ,  1.  ],\n",
       "       [ 0.5 ,  0.25,  0.5 ]])"
      ]
     },
     "metadata": {
      "tags": []
     },
     "execution_count": 5
    }
   ]
  },
  {
   "cell_type": "code",
   "metadata": {
    "id": "Di9gIhN7CNsq",
    "colab_type": "code",
    "outputId": "98405a7a-f349-4f6e-9fcd-51a29058f36c",
    "executionInfo": {
     "status": "ok",
     "timestamp": 1579730931393,
     "user_tz": 300,
     "elapsed": 1413,
     "user": {
      "displayName": "Zachary Ulissi",
      "photoUrl": "",
      "userId": "07633171379186475882"
     }
    },
    "colab": {
     "base_uri": "https://localhost:8080/",
     "height": 70
    }
   },
   "source": [
    "Ainv"
   ],
   "execution_count": 0,
   "outputs": [
    {
     "output_type": "execute_result",
     "data": {
      "text/plain": [
       "array([[-2.25179981e+15, -4.50359963e+15,  1.12589991e+15],\n",
       "       [-4.50359963e+15, -9.00719925e+15,  2.25179981e+15],\n",
       "       [ 2.25179981e+15,  4.50359963e+15, -1.12589991e+15]])"
      ]
     },
     "metadata": {
      "tags": []
     },
     "execution_count": 6
    }
   ]
  },
  {
   "cell_type": "markdown",
   "metadata": {
    "id": "WkqPew09B-gH",
    "colab_type": "text"
   },
   "source": [
    "## Gauss elimination\n",
    "\n",
    "* There's not a good method to do Gauss elimination with numerical methods. You can do it you use symbolic math packages (sort of like mathematica, but in python), but these largely defeat the point of using numerical methods! \n",
    "\n",
    "* The closest thing you can do is get a matrix into upper diagonal form, which is echelon form, but this only works for square matrics and isn't really helpful (see https://docs.scipy.org/doc/scipy/reference/generated/scipy.linalg.lu_factor.html)\n",
    "\n",
    "* We use Gauss elimination to solve linear systems and calculate inverses, and there are better ways to do these. "
   ]
  },
  {
   "cell_type": "markdown",
   "metadata": {
    "id": "PXf-MIhBFEQU",
    "colab_type": "text"
   },
   "source": [
    "## Solving a system of linear equations\n",
    "\n",
    "* There are excellent methods to solve a system of linear equations (https://docs.scipy.org/doc/numpy/reference/generated/numpy.linalg.solve.html) that is determined (square) and full rank\n",
    "* solve takes in the matrix $\\arr{A}$ and the vector $\\vec{b}$ in $\\arr{A}\\vec{x}=\\vec{b}$ and returns $\\vec{x}$\n"
   ]
  },
  {
   "cell_type": "markdown",
   "metadata": {
    "id": "I8EWsLz5GJIq",
    "colab_type": "text"
   },
   "source": [
    "### Example for determined system\n",
    "\n",
    "\n",
    "Let's try the example from above for the three-tank system\n",
    "\n",
    "\\begin{align*}\n",
    "\\begin{bmatrix}\n",
    "1&-1&0\\\\\n",
    "1&-3&2\\\\\n",
    "0&1&-2\n",
    "\\end{bmatrix}\n",
    "\\begin{bmatrix}\n",
    "h_1\\\\h_2\\\\h_3\n",
    "\\end{bmatrix}&=\\begin{bmatrix}\n",
    "10\\\\0\\\\0\n",
    "\\end{bmatrix}\n",
    "\\end{align*}"
   ]
  },
  {
   "cell_type": "code",
   "metadata": {
    "id": "QBPRAo2FFahl",
    "colab_type": "code",
    "outputId": "7aa94fe0-db32-46c3-81af-4038d67b5d79",
    "executionInfo": {
     "status": "ok",
     "timestamp": 1579792543304,
     "user_tz": 300,
     "elapsed": 735,
     "user": {
      "displayName": "Zachary Ulissi",
      "photoUrl": "",
      "userId": "07633171379186475882"
     }
    },
    "colab": {
     "base_uri": "https://localhost:8080/",
     "height": 34
    }
   },
   "source": [
    "A = np.array([[1,-1,0],\n",
    "              [1,-3,2],\n",
    "              [0,1,-2]])\n",
    "b = np.array([10,0,0])\n",
    "\n",
    "#Same answer as above!\n",
    "print(np.linalg.solve(A,b))\n"
   ],
   "execution_count": 0,
   "outputs": [
    {
     "output_type": "stream",
     "text": [
      "[20. 10.  5.]\n"
     ],
     "name": "stdout"
    }
   ]
  },
  {
   "cell_type": "markdown",
   "metadata": {
    "id": "YBVOMQ-MGBdP",
    "colab_type": "text"
   },
   "source": [
    "This works really well for a determined system."
   ]
  },
  {
   "cell_type": "markdown",
   "metadata": {
    "id": "0SPrxFUnGPyZ",
    "colab_type": "text"
   },
   "source": [
    "### Example for an underdetermined system\n",
    "\n",
    "Let's do one of the examples from the previous class\n",
    "\n",
    "\\begin{align*}\n",
    "x_1+2x_2+x_3=1\\\\\n",
    "2x_1-x_2+x_2=2\\\\\n",
    "4x_1+3x_2+3x_3=4\\\\\n",
    "3x_1+x_2+2x_3=3\n",
    "\\end{align*}"
   ]
  },
  {
   "cell_type": "code",
   "metadata": {
    "id": "3sMXkSG8Gq08",
    "colab_type": "code",
    "outputId": "082433f2-73f1-4dc5-f347-a662931c93e9",
    "executionInfo": {
     "status": "error",
     "timestamp": 1579792611577,
     "user_tz": 300,
     "elapsed": 1273,
     "user": {
      "displayName": "Zachary Ulissi",
      "photoUrl": "",
      "userId": "07633171379186475882"
     }
    },
    "colab": {
     "base_uri": "https://localhost:8080/",
     "height": 384
    }
   },
   "source": [
    "A = np.array([[1,2,1],\n",
    "              [2,-1,1],\n",
    "              [4,3,3],\n",
    "              [3,1,2]])\n",
    "b = np.array([1,2,4,3])\n",
    "\n",
    "\n",
    "#Same answer!\n",
    "print(np.linalg.solve(A,b))\n"
   ],
   "execution_count": 0,
   "outputs": [
    {
     "output_type": "error",
     "ename": "LinAlgError",
     "evalue": "ignored",
     "traceback": [
      "\u001b[0;31m---------------------------------------------------------------------------\u001b[0m",
      "\u001b[0;31mLinAlgError\u001b[0m                               Traceback (most recent call last)",
      "\u001b[0;32m<ipython-input-7-fb72b6805d72>\u001b[0m in \u001b[0;36m<module>\u001b[0;34m()\u001b[0m\n\u001b[1;32m      7\u001b[0m \u001b[0;34m\u001b[0m\u001b[0m\n\u001b[1;32m      8\u001b[0m \u001b[0;31m#Same answer!\u001b[0m\u001b[0;34m\u001b[0m\u001b[0;34m\u001b[0m\u001b[0;34m\u001b[0m\u001b[0m\n\u001b[0;32m----> 9\u001b[0;31m \u001b[0mprint\u001b[0m\u001b[0;34m(\u001b[0m\u001b[0mnp\u001b[0m\u001b[0;34m.\u001b[0m\u001b[0mlinalg\u001b[0m\u001b[0;34m.\u001b[0m\u001b[0msolve\u001b[0m\u001b[0;34m(\u001b[0m\u001b[0mA\u001b[0m\u001b[0;34m,\u001b[0m\u001b[0mb\u001b[0m\u001b[0;34m)\u001b[0m\u001b[0;34m)\u001b[0m\u001b[0;34m\u001b[0m\u001b[0;34m\u001b[0m\u001b[0m\n\u001b[0m",
      "\u001b[0;32m<__array_function__ internals>\u001b[0m in \u001b[0;36msolve\u001b[0;34m(*args, **kwargs)\u001b[0m\n",
      "\u001b[0;32m/usr/local/lib/python3.6/dist-packages/numpy/linalg/linalg.py\u001b[0m in \u001b[0;36msolve\u001b[0;34m(a, b)\u001b[0m\n\u001b[1;32m    388\u001b[0m     \u001b[0ma\u001b[0m\u001b[0;34m,\u001b[0m \u001b[0m_\u001b[0m \u001b[0;34m=\u001b[0m \u001b[0m_makearray\u001b[0m\u001b[0;34m(\u001b[0m\u001b[0ma\u001b[0m\u001b[0;34m)\u001b[0m\u001b[0;34m\u001b[0m\u001b[0;34m\u001b[0m\u001b[0m\n\u001b[1;32m    389\u001b[0m     \u001b[0m_assertRankAtLeast2\u001b[0m\u001b[0;34m(\u001b[0m\u001b[0ma\u001b[0m\u001b[0;34m)\u001b[0m\u001b[0;34m\u001b[0m\u001b[0;34m\u001b[0m\u001b[0m\n\u001b[0;32m--> 390\u001b[0;31m     \u001b[0m_assertNdSquareness\u001b[0m\u001b[0;34m(\u001b[0m\u001b[0ma\u001b[0m\u001b[0;34m)\u001b[0m\u001b[0;34m\u001b[0m\u001b[0;34m\u001b[0m\u001b[0m\n\u001b[0m\u001b[1;32m    391\u001b[0m     \u001b[0mb\u001b[0m\u001b[0;34m,\u001b[0m \u001b[0mwrap\u001b[0m \u001b[0;34m=\u001b[0m \u001b[0m_makearray\u001b[0m\u001b[0;34m(\u001b[0m\u001b[0mb\u001b[0m\u001b[0;34m)\u001b[0m\u001b[0;34m\u001b[0m\u001b[0;34m\u001b[0m\u001b[0m\n\u001b[1;32m    392\u001b[0m     \u001b[0mt\u001b[0m\u001b[0;34m,\u001b[0m \u001b[0mresult_t\u001b[0m \u001b[0;34m=\u001b[0m \u001b[0m_commonType\u001b[0m\u001b[0;34m(\u001b[0m\u001b[0ma\u001b[0m\u001b[0;34m,\u001b[0m \u001b[0mb\u001b[0m\u001b[0;34m)\u001b[0m\u001b[0;34m\u001b[0m\u001b[0;34m\u001b[0m\u001b[0m\n",
      "\u001b[0;32m/usr/local/lib/python3.6/dist-packages/numpy/linalg/linalg.py\u001b[0m in \u001b[0;36m_assertNdSquareness\u001b[0;34m(*arrays)\u001b[0m\n\u001b[1;32m    211\u001b[0m         \u001b[0mm\u001b[0m\u001b[0;34m,\u001b[0m \u001b[0mn\u001b[0m \u001b[0;34m=\u001b[0m \u001b[0ma\u001b[0m\u001b[0;34m.\u001b[0m\u001b[0mshape\u001b[0m\u001b[0;34m[\u001b[0m\u001b[0;34m-\u001b[0m\u001b[0;36m2\u001b[0m\u001b[0;34m:\u001b[0m\u001b[0;34m]\u001b[0m\u001b[0;34m\u001b[0m\u001b[0;34m\u001b[0m\u001b[0m\n\u001b[1;32m    212\u001b[0m         \u001b[0;32mif\u001b[0m \u001b[0mm\u001b[0m \u001b[0;34m!=\u001b[0m \u001b[0mn\u001b[0m\u001b[0;34m:\u001b[0m\u001b[0;34m\u001b[0m\u001b[0;34m\u001b[0m\u001b[0m\n\u001b[0;32m--> 213\u001b[0;31m             \u001b[0;32mraise\u001b[0m \u001b[0mLinAlgError\u001b[0m\u001b[0;34m(\u001b[0m\u001b[0;34m'Last 2 dimensions of the array must be square'\u001b[0m\u001b[0;34m)\u001b[0m\u001b[0;34m\u001b[0m\u001b[0;34m\u001b[0m\u001b[0m\n\u001b[0m\u001b[1;32m    214\u001b[0m \u001b[0;34m\u001b[0m\u001b[0m\n\u001b[1;32m    215\u001b[0m \u001b[0;32mdef\u001b[0m \u001b[0m_assertFinite\u001b[0m\u001b[0;34m(\u001b[0m\u001b[0;34m*\u001b[0m\u001b[0marrays\u001b[0m\u001b[0;34m)\u001b[0m\u001b[0;34m:\u001b[0m\u001b[0;34m\u001b[0m\u001b[0;34m\u001b[0m\u001b[0m\n",
      "\u001b[0;31mLinAlgError\u001b[0m: Last 2 dimensions of the array must be square"
     ]
    }
   ]
  },
  {
   "cell_type": "markdown",
   "metadata": {
    "id": "hdAvmij3HXAt",
    "colab_type": "text"
   },
   "source": [
    "Notice that np.linalg.solve can't handle this case. We can still get a solution,with np.linalg.lstsq, which tries to find a vector that satisfies this. "
   ]
  },
  {
   "cell_type": "code",
   "metadata": {
    "id": "bnAe0gxYHg7g",
    "colab_type": "code",
    "outputId": "bfd3ed38-a0de-4db0-b916-34edd1e747a5",
    "executionInfo": {
     "status": "ok",
     "timestamp": 1579792744012,
     "user_tz": 300,
     "elapsed": 969,
     "user": {
      "displayName": "Zachary Ulissi",
      "photoUrl": "",
      "userId": "07633171379186475882"
     }
    },
    "colab": {
     "base_uri": "https://localhost:8080/",
     "height": 142
    }
   },
   "source": [
    "#Try least squares solution to this problem\n",
    "x, res, rank, s = np.linalg.lstsq(A,b)\n",
    "\n",
    "#First, print the rank of the matrix:\n",
    "print(rank)\n",
    "\n",
    "#print the solution\n",
    "print(x)\n",
    "\n",
    "#Check that this is a solution\n",
    "print(A@x)"
   ],
   "execution_count": 0,
   "outputs": [
    {
     "output_type": "stream",
     "text": [
      "2\n",
      "[ 0.74285714 -0.08571429  0.42857143]\n",
      "[1. 2. 4. 3.]\n"
     ],
     "name": "stdout"
    },
    {
     "output_type": "stream",
     "text": [
      "/usr/local/lib/python3.6/dist-packages/ipykernel_launcher.py:1: FutureWarning: `rcond` parameter will change to the default of machine precision times ``max(M, N)`` where M and N are the input matrix dimensions.\n",
      "To use the future default and silence this warning we advise to pass `rcond=None`, to keep using the old, explicitly pass `rcond=-1`.\n",
      "  \"\"\"Entry point for launching an IPython kernel.\n"
     ],
     "name": "stderr"
    }
   ]
  },
  {
   "cell_type": "markdown",
   "metadata": {
    "id": "SLPg5h0xIM2x",
    "colab_type": "text"
   },
   "source": [
    "So, np.linalg.lstsq does give us **a solution** but not **all of the solutions**. There are other solutions that also would have worked as we saw. The simplest is [1,0,0] "
   ]
  },
  {
   "cell_type": "code",
   "metadata": {
    "id": "H_F0mtLOIFqD",
    "colab_type": "code",
    "outputId": "b66a0e1d-520b-4d87-f337-1b94cc4028c4",
    "executionInfo": {
     "status": "ok",
     "timestamp": 1579731116599,
     "user_tz": 300,
     "elapsed": 2672,
     "user": {
      "displayName": "Zachary Ulissi",
      "photoUrl": "",
      "userId": "07633171379186475882"
     }
    },
    "colab": {
     "base_uri": "https://localhost:8080/",
     "height": 34
    }
   },
   "source": [
    "A@np.array([1,0,0])"
   ],
   "execution_count": 0,
   "outputs": [
    {
     "output_type": "execute_result",
     "data": {
      "text/plain": [
       "array([1, 2, 4, 3])"
      ]
     },
     "metadata": {
      "tags": []
     },
     "execution_count": 10
    }
   ]
  },
  {
   "cell_type": "markdown",
   "metadata": {
    "id": "3VkPDNB8DpB-",
    "colab_type": "text"
   },
   "source": [
    "Once again, numerical methods can work well, but we have to be extra sharp to make sure we understand what they are doing!"
   ]
  },
  {
   "cell_type": "markdown",
   "metadata": {
    "id": "BiyeQemHIqKL",
    "colab_type": "text"
   },
   "source": [
    "# In-class assignment\n",
    "\n",
    "For the example we did at the beginning of class today (the three tank problem), set up the matrix A and vector b, check the rank of the matrix A, and then solve for the solution x. "
   ]
  },
  {
   "cell_type": "markdown",
   "metadata": {
    "id": "WbrKpXv9UJS5",
    "colab_type": "text"
   },
   "source": [
    "Laika count 40; check the np.linalg.matrix_rank example"
   ]
  },
  {
   "cell_type": "code",
   "metadata": {
    "id": "29jUQHTsBQD-",
    "colab_type": "code",
    "colab": {}
   },
   "source": [
    ""
   ],
   "execution_count": 0,
   "outputs": []
  }
 ]
}