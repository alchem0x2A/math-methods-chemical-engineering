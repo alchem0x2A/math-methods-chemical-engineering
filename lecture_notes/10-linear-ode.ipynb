{
 "nbformat": 4,
 "nbformat_minor": 0,
 "metadata": {
  "colab": {
   "name": "10-linear-ode.ipynb",
   "provenance": [],
   "collapsed_sections": []
  },
  "kernelspec": {
   "name": "python3",
   "display_name": "Python 3"
  }
 },
 "cells": [
  {
   "cell_type": "markdown",
   "metadata": {
    "id": "9K4dcq0xZd7z",
    "colab_type": "text",
    "badge": true,
    "repo_name": "ulissigroup/math-methods-chemical-engineering",
    "branch": "master",
    "nb_path": "lecture_notes/10-linear-ode.ipynb",
    "comment": "This badge cell was added by colab-badge-action"
   },
   "source": [
    "<a href=\"https://colab.research.google.com/github/ulissigroup/math-methods-chemical-engineering/blob/master/lecture_notes/10-linear-ode.ipynb\" target=\"_parent\"><img src=\"https://colab.research.google.com/assets/colab-badge.svg\" alt=\"Open In Colab\"/></a>\n",
    "$$\\newcommand{\\arr}[1]{\\underline{\\underline{#1}}}$$    \n",
    "$$\\newcommand{\\vec}[1]{\\underline{#1}}$$   \n",
    "$$\\require{mhchem}$$"
   ]
  },
  {
   "cell_type": "markdown",
   "metadata": {
    "id": "s-gf3D7CZhTk",
    "colab_type": "text"
   },
   "source": [
    "# Integrating Factors - Recap\n",
    "$\\rightarrow$ Functions that make inexact $1^\\circ$ ODEs exact (can't always find them).\\\n",
    "$\\rightarrow$ Two possibilities in this class: $F(x)$ or $F(y)$\n",
    "* if $F(x)$, then\n",
    "\\begin{align}\n",
    "\\frac{1}{F}\\frac{dF}{dx} = \\frac{1}{Q}\\left[\\frac{\\partial P}{\\partial y} - \\frac{\\partial Q}{\\partial x}\\right] = R(x)\n",
    "\\end{align}\n",
    "and $F(x) = \\exp[\\int R(x)dx]$\n",
    "* if $F(y)$, then \n",
    "\\begin{align}\n",
    "\\frac{1}{F}\\frac{dF}{dy} = \\frac{1}{P}\\left[\\frac{\\partial Q}{\\partial x} - \\frac{\\partial P}{\\partial y}\\right] = R(y)\n",
    "\\end{align}\n",
    "and $F(y) = \\exp[\\int R(y)dy]$\n",
    "\n",
    "$\\rightarrow$ Once you find your I.F., follow the steps for solving an exact equation:\n",
    "1. Write in form $M(x)dx + N(y)dy = 0$\n",
    "2. Check for exactness\n",
    "3. If exact find $u(x,y)$\n",
    "4. Find implicit general solution from $u(x,y)=c$"
   ]
  },
  {
   "cell_type": "markdown",
   "metadata": {
    "id": "QrMFI9u5cLS1",
    "colab_type": "text"
   },
   "source": [
    "# Linear $1^\\circ$ ODEs\n",
    "A $1^\\circ$ differential equation is linear if it can be written:\n",
    "\\begin{align}\n",
    "y' + p(x) y = r(x)\n",
    "\\end{align}\n",
    "$\\rightarrow$ it is linear in $y$ and $y'$\\\n",
    "$\\rightarrow$ $p$ and $r$ may be any function of $x$ only\n",
    "* Two cases to solve:\n",
    "1. Homogeneous Linear ODE\n",
    "\\begin{align}\n",
    "r(x) = 0 && \\implies \\text{can solve by separating}\n",
    "\\end{align}\n",
    "2. Non-homogeneous Linear ODE\n",
    "\\begin{align}\n",
    "r(x) \\neq 0 && \\implies \\text{can solve as an exact equation with a simple integrating factor}\n",
    "\\end{align}"
   ]
  },
  {
   "cell_type": "markdown",
   "metadata": {
    "id": "MI6XO-kUdWWw",
    "colab_type": "text"
   },
   "source": [
    "## Homogeneous Case\n",
    "\\begin{align}\n",
    "y' &+ p(x)y = 0\\\\\n",
    "\\frac{dy}{dx} &= -p(x) y\\\\\n",
    "\\frac{dy}{y} &= -p(x)dx\\\\\n",
    "\\ln y &= -\\int p(x)dx + \\beta\\\\\n",
    "y(x) &= \\alpha \\exp\\left[- \\int p(x) dx\\right]\n",
    "\\end{align}\n",
    "\n",
    "## Non-Homogeneous Case\n",
    "\\begin{align}\n",
    "y' &+ p(x)y = r(x)\\\\\n",
    "\\frac{dy}{dx} &= -p(x)y + r(x)\\\\\n",
    "\\end{align}\n",
    "1. Write in the form\n",
    "\\begin{align}\n",
    "[p(x)y - r(x) ]dx + 1 dy = 0\n",
    "\\end{align}\n",
    "2. Check for exactness:\n",
    "\\begin{align}\n",
    "\\frac{\\partial}{\\partial y}P(x,y) &= \\frac{\\partial}{\\partial x} Q(x,y)\\\\\n",
    "p(x) & \\neq 0 && \\implies \\text{not exact}\n",
    "\\end{align}\n",
    "3. Find an integrating factor. Try $F(x,y)=F(x)$\n",
    "\\begin{align}\n",
    "\\frac{1}{F}\\frac{dF(x)}{dx} &= \\frac{1}{Q} \\left[\\frac{\\partial P}{\\partial y} - \\frac{\\partial Q}{\\partial x} \\right]\\\\\n",
    "&= \\frac{1}{1}(p(x) - 0)\\\\\n",
    "&= p(x)\\\\\n",
    "\\therefore F(x) &= \\exp\\left(\\int p(x)dx\\right) && \\implies \\text{this will always be the I.F. for a linear ODE}\n",
    "\\end{align}\n",
    "\n"
   ]
  },
  {
   "cell_type": "markdown",
   "metadata": {
    "id": "tvipBeCAgJiH",
    "colab_type": "text"
   },
   "source": [
    "* Once you recognize that you have a linear $1^\\circ$ ODE, you know that you can solve it as an exact equation using the I.F. $F(x) = \\exp\\left( \\int p(x)dx \\right)$\n",
    "* Therefore since we will always have the same I.F., let's solve the non-homogeneous linear $1^\\circ$ ODE to obtain a general solution $\\implies$ won't have to derive every time.\n",
    "\\begin{align}\n",
    "F(x)y' + F(x) p(x) y = F(x) r(x)\\\\\n",
    "\\exp\\left[ \\int p(x) dx\\right] y' + \\exp \\left[ \\int p(x) dx\\right] p(x) y = \\exp\\left[\\int p(x)dx \\right] r(x)\\\\\n",
    "\\frac{d}{dx} \\left( \\exp\\left[\\int p(x) dx \\right] y \\right) = \\exp\\left[\\int p(x)dx \\right] r(x) && \\text{(chain rule)}\n",
    "\\end{align}\n",
    "* Note that the RHS is dependent only on x, so we can simply integrate \n",
    "\\begin{align}\n",
    "\\exp \\left[\\int p(x)dx \\right] y = \\int \\exp\\left[\\int p(x)dx \\right] r(x) dx + c\\\\\n",
    "y(x) = \\exp \\left[-\\int p(x)dx \\right]\\left(\\int \\exp \\left[\\int p(x) dx \\right] r(x)dx + c \\right)\\\\\n",
    "\\end{align}\n",
    "\\begin{align}\n",
    "y(x) = e^{-\\int p dx} \\left[\\int e^{\\int p dx} r dx + c \\right] && \\rightarrow \\text{general solution for linear $1^\\circ$ ODE}\n",
    "\\end{align}\n"
   ]
  },
  {
   "cell_type": "markdown",
   "metadata": {
    "id": "XorhS1HxkBOf",
    "colab_type": "text"
   },
   "source": [
    "* If homogeneous, then $r=0$ and $y(x) = ce^{-\\int p dx}$ as we found before.\n",
    "\n",
    "$\\underline{Ex}:$ $\\frac{dy}{dx} = (x+1)^2 - y$\n",
    "\\begin{align}\n",
    "y' + y = (x+1)^2 && \\rightarrow \\text{non-homogeneous linear $1^\\circ$ ODE}\n",
    "\\end{align}\n",
    "$\\therefore$ we know we can solve by turning it into an exact equation using an I.F. of the form \n",
    "\\begin{align}\n",
    "F(x) = \\exp\\left(\\int p(x)dx \\right) && \\text{where $p(x) = 1$ (the coeff. of y)}\\\\\n",
    "F(x) = \\exp\\left(\\int 1 dx \\right) = e^x\n",
    "\\end{align}\n",
    "* Multiply our ODE by our I.F.:\\\n",
    "\\begin{align}\n",
    "e^xy' + e^x y &= e^x(x+1)^2\\\\\n",
    "\\frac{d}{dx}(e^xy) &= e^x(x+1)^2\\\\\n",
    "e^xy &= \\int e^x (x+1)^2 dx\\\\\n",
    "e^xy &= e^x (x^2+1) + c && \\text{integration by parts, often worst step. See this calc in next section}\\\\\n",
    "y(x) &= (x^2+1) + ce^{-x} && \\text{general solution}\n",
    "\\end{align}\n",
    "* Or we could have found this from our fully generalized solution\n",
    "\\begin{align}\n",
    "y(x) &= e^{-\\int p dx} \\left[\\int e^{\\int p dx} r dx + c\\right], && \\text{where $p(x) = 1$ and $r(x) = (x+1)^2$}\\\\\n",
    "y(x) &= e^{-x}\\left[\\int e^x (x+1)^2 dx + c \\right]\\\\\n",
    "&= (x^2 + 1) + ce^{-x}\n",
    "\\end{align}"
   ]
  },
  {
   "cell_type": "markdown",
   "metadata": {
    "id": "5ba9frA5gnJD",
    "colab_type": "text"
   },
   "source": [
    "# Integrating by Parts (Refresher)"
   ]
  },
  {
   "cell_type": "markdown",
   "metadata": {
    "id": "bZqTAd2Vgr_5",
    "colab_type": "text"
   },
   "source": [
    "* Method to integrate product of 2 terms\n",
    "\\begin{align}\n",
    "\\int u \\cdot \\frac{dv}{dx} dx = u \\cdot v - \\int v \\cdot \\frac{du}{dx} dx\n",
    "\\end{align}\n",
    "* Consider $\\int e^x (x+1)^2 dx$\\\n",
    "$\\rightarrow$ easiest to set \n",
    "\\begin{align}\n",
    "u = (x+1)^2 = x^2 + 2x + 1 && \\text{and} && \\frac{dv}{dx} = e^x\n",
    "\\end{align}\n",
    "then,\n",
    "\\begin{align}\n",
    "\\frac{du}{dx} = 2x + 2 && \\text{and} && v = e^x\n",
    "\\end{align}\n",
    "\n",
    "\\begin{align}\n",
    "\\int e^x (x+1)^2 dx = (x+1)^2 e^x - \\int e^x (2x+2) dx && \\text{need IBP again!}\\\\\n",
    "u = 2x + 2 \\implies \\frac{du}{dx} = 2\\\\\n",
    "\\frac{dv}{dx} = e^x \\implies v = e^x\n",
    "\\end{align}\n",
    "\n",
    "\\begin{align}\n",
    "\\text{Integral} &= (x+1)^2 e^x - \\left[(2x+2)e^x - \\int e^x \\cdot 2 dx \\right]\\\\\n",
    "&=  (x+1)^2 e^x - (2x+2)e^x + 2e^x\\\\\n",
    "&= e^x (x^2 + 2x + 2 - 2x -2 + 2)\\\\\n",
    "\\int e^x (x+1)^2 dx &= e^x (x^2+2)\n",
    "\\end{align}"
   ]
  },
  {
   "cell_type": "markdown",
   "metadata": {
    "id": "yTvcIk6kj0id",
    "colab_type": "text"
   },
   "source": [
    "## Recap of linear $1^\\circ ODEs:$\n",
    "\\begin{align}\n",
    "y' + p(x)y &= r(x)\\\\\n",
    "r(x) &= 0 \\implies \\text{homogeneous and separable}\\\\\n",
    "r(x) &\\neq 0 \\implies \\text{non-homogeneous}\\\\\n",
    "\\text{I.F.} = F(x) &= exp\\left[\\int p(x) dx \\right]\n",
    "\\end{align}\n",
    "* Chain rule provides a simple solution:\n",
    "\\begin{align}\n",
    "h = \\int p(x) dx\\\\\n",
    "y(x) = e^{-h}\\left[\\int e^h r(x) dx + c \\right] && \\text{general solution}\n",
    "\\end{align}\n",
    "Integral can be difficult to solve"
   ]
  },
  {
   "cell_type": "markdown",
   "metadata": {
    "id": "7fsPlCpnlQLR",
    "colab_type": "text"
   },
   "source": [
    "## Chemical Eng. Example"
   ]
  },
  {
   "cell_type": "markdown",
   "metadata": {
    "id": "nA5NgkbnlWWD",
    "colab_type": "text"
   },
   "source": [
    "* Ethyl acetate decomposition\n",
    "\\begin{equation}\n",
    "\\ce{CH_3COOC_2H5 + H_2O -> CH_3COOH + C_2H_5OH}\\\\\n",
    "\\text{(A)} \\hspace{2cm} \\text{$\\rightarrow$first order kinetics}\n",
    "\\end{equation}\n",
    "\n",
    "\n",
    "<img src=\"https://docs.google.com/drawings/d/e/2PACX-1vRmfzZPZ4UbOqbcO_9oZcw2odqzqUX9YR-v2VyA6_GkKJqU7qP9H1hfBwE9rmVPaNMtfo9jgyrEiub9/pub?w=316&h=314\">\n",
    "CSTR : Continuous Stirred Tank Reactor"
   ]
  },
  {
   "cell_type": "markdown",
   "metadata": {
    "id": "MzdUecYXUFeM",
    "colab_type": "text"
   },
   "source": [
    "* At steady state, each drop of feed is immediately converted to the composition of product stream.\n",
    "* What is concentration profile of A before steady state?\\\n",
    "Mass balance on A:\n",
    "\\begin{align}\n",
    "\\text{Accum = In - Out + Gen - Consump}\\\\\n",
    "V\\frac{dC}{dt} = FC_{in} - F C(t) - k C(t)\\\\\n",
    "\\frac{dC}{dt} = \\frac{F}{V}C_{in} - \\frac{1}{V}(F+k)C\n",
    "\\end{align}\n",
    "$\\implies$ We can solve 2 ways:\n",
    "1. Separate\n",
    "2. Treat as linear equation"
   ]
  },
  {
   "cell_type": "markdown",
   "metadata": {
    "id": "q7P1psZmVdv5",
    "colab_type": "text"
   },
   "source": [
    "### 1. Separate\n",
    "\\begin{align}\n",
    "\\int \\frac{dC}{\\frac{FC_{in}}{V} - \\frac{(F+k)}{V}C} = \\int dt\n",
    "\\end{align}\n",
    "Useful integral:\n",
    "\\begin{align}\n",
    "\\int(ax + b)^{-1}dx = \\frac{1}{a}\\ln (ax + b) + c\n",
    "\\end{align}\n",
    "Take $a=-\\frac{F+k}{V}$ and $b=\\frac{FC_0}{V}$\n",
    "\\begin{align}\n",
    "\\frac{-V}{(F+k)}\\ln \\left[ \\frac{FC_{in}}{V} - \\frac{(F+k)}{V}C\\right] &= t + \\alpha\\\\\n",
    "\\ln \\left[ \\frac{FC_{in}}{V} - \\frac{(F+k)}{V}C\\right] &= -\\frac{(F+K)}{V}t + \\frac{-(F+k)}{V}\\alpha\n",
    "\\end{align}\n",
    "Take the last term as $\\beta$:\n",
    "\\begin{align}\n",
    "\\frac{FC_{in}}{V} - \\frac{(F+k)}{V}C &= \\exp \\left[\\frac{-(F+k)t}{V} + \\beta \\right]\\\\\n",
    "&=\\phi \\exp \\left[\\frac{-(F+k)}{V}t\\right]\\\\\n",
    "\\end{align}\n",
    "\\begin{align}\n",
    "C(t) &= \\frac{V}{(F+k)}\\left(\\frac{FC_{in}}{V} - \\phi \\exp \\left[\\frac{-(F+k)}{V} t \\right] \\right)\\\\\n",
    "C(t) &= \\frac{FC_{in}}{F+k} - \\gamma \\exp \\left[\\frac{-(F+k)}{V} t \\right] && \\text{General Solution}\n",
    "\\end{align}"
   ]
  },
  {
   "cell_type": "markdown",
   "metadata": {
    "id": "vgPYfT2dZoPv",
    "colab_type": "text"
   },
   "source": [
    "* Find $\\gamma$ with I.C. $C(t=0) = C_0$ which is what the CSTR is charged with; doesn't have to be equal to $C_{in}$\n",
    "\\begin{align}\n",
    "C(0) = C_0 &= \\frac{FC_{in}}{F+k} - \\gamma \\exp(0)\\\\\n",
    "\\gamma &= \\frac{FC_{in}}{F+k} - C_0\n",
    "\\end{align}\n",
    "\\begin{align}\n",
    "C(t) &= \\frac{FC_{in}}{F+k} - \\left(\\frac{FC_{in}}{F+k}-C_0 \\right) \\exp \\left[-\\frac{(F+k)}{V}t \\right]\\\\\n",
    "C(t) &= \\frac{FC_{in}}{F+k}\\left(1 - \\exp \\left[-\\frac{(F+k)}{V}t \\right] \\right) + C_0 \\exp \\left[-\\frac{(F+k)}{V}t \\right] && \\text{specific  solution}\n",
    "\\end{align}\n",
    "\n",
    "Check : Does $C(0) = C_o$? (yes)\\\n",
    "Does $C(t)$ as $T\\rightarrow \\infty$ = $\\frac{F}{(F+k)}C_{in}$? (yes!)"
   ]
  },
  {
   "cell_type": "markdown",
   "metadata": {
    "id": "1tDhAHjl53Mh",
    "colab_type": "text"
   },
   "source": [
    "Laika count 26"
   ]
  },
  {
   "cell_type": "code",
   "metadata": {
    "id": "WaWVB3q654zv",
    "colab_type": "code",
    "colab": {}
   },
   "source": [
    ""
   ],
   "execution_count": 0,
   "outputs": []
  }
 ]
}