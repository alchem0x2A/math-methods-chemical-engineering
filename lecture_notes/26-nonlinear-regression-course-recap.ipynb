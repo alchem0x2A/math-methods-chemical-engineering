{
 "nbformat": 4,
 "nbformat_minor": 0,
 "metadata": {
  "colab": {
   "name": "26-nonlinear-regression-course-recap.ipynb",
   "provenance": [],
   "collapsed_sections": []
  },
  "kernelspec": {
   "name": "python3",
   "display_name": "Python 3"
  }
 },
 "cells": [
  {
   "cell_type": "markdown",
   "metadata": {
    "id": "hxdc7U-1kKL0",
    "colab_type": "text",
    "badge": true,
    "repo_name": "ulissigroup/math-methods-chemical-engineering",
    "branch": "master",
    "nb_path": "lecture_notes/26-nonlinear-regression-course-recap.ipynb",
    "comment": "This badge cell was added by colab-badge-action"
   },
   "source": [
    "<a href=\"https://colab.research.google.com/github/ulissigroup/math-methods-chemical-engineering/blob/master/lecture_notes/26-nonlinear-regression-course-recap.ipynb\" target=\"_parent\"><img src=\"https://colab.research.google.com/assets/colab-badge.svg\" alt=\"Open In Colab\"/></a>\n",
    "$$\\newcommand{\\arr}[1]{\\underline{\\underline{#1}}}$$    \n",
    "$$\\newcommand{\\vec}[1]{\\underline{#1}}$$   \n",
    "$$\\require{mhchem}$$\n"
   ]
  },
  {
   "cell_type": "markdown",
   "metadata": {
    "id": "n63PGfye9pig",
    "colab_type": "text"
   },
   "source": [
    "# Recap on linear regression\n",
    "\n",
    "Last class, we talked about how we could turn linear regression into a linear algebra problem\n",
    "- You can calculate this yourself\n",
    "- You can also do linear regression using statistical packages like statsmodel\n",
    "\n",
    "Today we will discuss two ways of solving non-linear regression problems\n",
    "- Turn a non-linear problem into a linear one and solve\n",
    "- Non-linear curve fitting"
   ]
  },
  {
   "cell_type": "markdown",
   "metadata": {
    "id": "NDQBwO8M2Tmt",
    "colab_type": "text"
   },
   "source": [
    "\n",
    "## Turn a non-linear regression problem into a linear regression problem\n",
    "\n"
   ]
  },
  {
   "cell_type": "markdown",
   "metadata": {
    "id": "PXofbsJg2Tmu",
    "colab_type": "text"
   },
   "source": [
    "-   Rate constants and reaction orders are determined by using models that are fit to experimental data\n",
    "-   A common case is to monitor concentration vs. time in a constant volume, batch reactor\n",
    "-   We consider the disappearance of $A$\n",
    "-   From the mole balance we know:\n",
    "\n",
    "\\begin{equation}\n",
    "\\frac{dN_A}{dt} = r_A V\n",
    "\\end{equation}\n",
    "\n",
    "-   Let us assume the rate law is of the form: $r_A = k C_A^\\alpha$ and a constant volume so that:\n",
    "\n",
    "\\begin{equation}\n",
    "\\frac{dC_A}{dt} = -k C_A^\\alpha\n",
    "\\end{equation}\n",
    "\n",
    "-   Let us be loose with mathematics, rearrange the equation, and take the log of both sides.\n",
    "    -   By loose I mean we take logs of quantities that are not dimensionless\n",
    "\n",
    "\\begin{equation}\n",
    "\\ln(-\\frac{dC_A}{dt}) = \\ln{k} + \\alpha \\ln C_A\n",
    "\\end{equation}\n",
    "\n",
    "-   This suggests that if we could numerically compute $\\frac{dC_A}{dt}$ from our data of $C_A(t)$ then a plot of the log of the negative derivative vs the log of concentration would have\n",
    "    -   an intercept equal to the log of the rate constant, $k$\n",
    "    -   and a slope equal to the reaction order $\\alpha$\n",
    "\n",
    "-   Given the following data, determine the reaction order in A and the rate constant with 95% confidence intervals.\n",
    "\n",
    "<table id=\"orgfd5ae74\" border=\"2\" cellspacing=\"0\" cellpadding=\"6\" rules=\"groups\" frame=\"hsides\">\n",
    "\n",
    "\n",
    "<colgroup>\n",
    "<col  class=\"org-right\" />\n",
    "\n",
    "<col  class=\"org-right\" />\n",
    "</colgroup>\n",
    "<thead>\n",
    "<tr>\n",
    "<th scope=\"col\" class=\"org-right\">time (min)</th>\n",
    "<th scope=\"col\" class=\"org-right\">C\\_A (mol/L)</th>\n",
    "</tr>\n",
    "</thead>\n",
    "\n",
    "<tbody>\n",
    "<tr>\n",
    "<td class=\"org-right\">0</td>\n",
    "<td class=\"org-right\">0.0500</td>\n",
    "</tr>\n",
    "\n",
    "\n",
    "<tr>\n",
    "<td class=\"org-right\">50</td>\n",
    "<td class=\"org-right\">0.0380</td>\n",
    "</tr>\n",
    "\n",
    "\n",
    "<tr>\n",
    "<td class=\"org-right\">100</td>\n",
    "<td class=\"org-right\">0.0306</td>\n",
    "</tr>\n",
    "\n",
    "\n",
    "<tr>\n",
    "<td class=\"org-right\">150</td>\n",
    "<td class=\"org-right\">0.0256</td>\n",
    "</tr>\n",
    "\n",
    "\n",
    "<tr>\n",
    "<td class=\"org-right\">200</td>\n",
    "<td class=\"org-right\">0.0222</td>\n",
    "</tr>\n",
    "\n",
    "\n",
    "<tr>\n",
    "<td class=\"org-right\">250</td>\n",
    "<td class=\"org-right\">0.0195</td>\n",
    "</tr>\n",
    "\n",
    "\n",
    "<tr>\n",
    "<td class=\"org-right\">300</td>\n",
    "<td class=\"org-right\">0.0174</td>\n",
    "</tr>\n",
    "</tbody>\n",
    "</table>\n",
    "\n",
    "\n",
    "- We can get the derivatives by first fitting a spline through the data. The spline is essentially just a smoothing function  \n",
    "-   We will use the `splev` function to numerically compute derivatives from spline fits of the function. \n",
    "-   This works best when the $x$ points are evenly spaced, and they should be monotically increasing or decreasing\n"
   ]
  },
  {
   "cell_type": "code",
   "metadata": {
    "id": "bidKH_Yo2Tmv",
    "colab_type": "code",
    "outputId": "fac7372c-47c3-4a00-ce5e-5832182ecd08",
    "executionInfo": {
     "status": "ok",
     "timestamp": 1588250782130,
     "user_tz": 240,
     "elapsed": 506,
     "user": {
      "displayName": "Zachary Ulissi",
      "photoUrl": "",
      "userId": "07633171379186475882"
     }
    },
    "colab": {
     "base_uri": "https://localhost:8080/",
     "height": 297
    }
   },
   "source": [
    "data=np.array([[0,0.05],\n",
    "               [50,.038],\n",
    "               [100,.0306],\n",
    "               [150,.0256],\n",
    "               [200,.0222],\n",
    "               [250,.0195],\n",
    "               [300,.0174]])\n",
    "\n",
    "plt.plot(data[:,0],data[:,1],'o')\n",
    "plt.xlabel('Time [min]')\n",
    "plt.ylabel('Conc. [mol/L]')"
   ],
   "execution_count": 0,
   "outputs": [
    {
     "output_type": "execute_result",
     "data": {
      "text/plain": [
       "Text(0, 0.5, 'Conc. [mol/L]')"
      ]
     },
     "metadata": {
      "tags": []
     },
     "execution_count": 44
    },
    {
     "output_type": "display_data",
     "data": {
      "image/png": "[encoded data removed]",
      "text/plain": [
       "<Figure size 432x288 with 1 Axes>"
      ]
     },
     "metadata": {
      "tags": [],
      "needs_background": "light"
     }
    }
   ]
  },
  {
   "cell_type": "markdown",
   "metadata": {
    "id": "oCafkMlO2Tmy",
    "colab_type": "text"
   },
   "source": [
    "So, we need to convert the list of numbers to a numpy array so we can do the analysis.\n",
    "\n"
   ]
  },
  {
   "cell_type": "code",
   "metadata": {
    "id": "kVYnxN6K2AVN",
    "colab_type": "code",
    "outputId": "3e11152d-98df-4d11-e997-7cac371a86fc",
    "executionInfo": {
     "status": "ok",
     "timestamp": 1588250967654,
     "user_tz": 240,
     "elapsed": 491,
     "user": {
      "displayName": "Zachary Ulissi",
      "photoUrl": "",
      "userId": "07633171379186475882"
     }
    },
    "colab": {
     "base_uri": "https://localhost:8080/",
     "height": 297
    }
   },
   "source": [
    "import numpy as np\n",
    "import matplotlib.pyplot as plt\n",
    "from scipy import interpolate\n",
    "\n",
    "# data will be a 2d list, which we convert to an array here\n",
    "data = np.array(data)\n",
    "t = data[:, 0]   # column 0\n",
    "Ca = data[:, 1]  # column 1\n",
    "\n",
    "# calculate a spline through the data\n",
    "tck = interpolate.splrep(t, Ca)\n",
    "\n",
    "t_eval = np.linspace(0,300)\n",
    "Ca_spline = interpolate.splev(t_eval, tck)\n",
    "plt.plot(data[:,0],data[:,1],'o', label='Exp Data')\n",
    "plt.plot(t_eval, Ca_spline,'--',label='Spline Fit')\n",
    "plt.xlabel('Time [min]')\n",
    "plt.ylabel('Conc. [mol/L]')\n",
    "plt.legend()"
   ],
   "execution_count": 0,
   "outputs": [
    {
     "output_type": "execute_result",
     "data": {
      "text/plain": [
       "<matplotlib.legend.Legend at 0x7f0ff87a2780>"
      ]
     },
     "metadata": {
      "tags": []
     },
     "execution_count": 45
    },
    {
     "output_type": "display_data",
     "data": {
      "image/png": "[encoded data removed]",
      "text/plain": [
       "<Figure size 432x288 with 1 Axes>"
      ]
     },
     "metadata": {
      "tags": [],
      "needs_background": "light"
     }
    }
   ]
  },
  {
   "cell_type": "code",
   "metadata": {
    "id": "WVNctlap2Tmz",
    "colab_type": "code",
    "outputId": "57356147-608f-4048-92d6-1a21499c8b2c",
    "executionInfo": {
     "status": "ok",
     "timestamp": 1588251301532,
     "user_tz": 240,
     "elapsed": 517,
     "user": {
      "displayName": "Zachary Ulissi",
      "photoUrl": "",
      "userId": "07633171379186475882"
     }
    },
    "colab": {
     "base_uri": "https://localhost:8080/",
     "height": 318
    }
   },
   "source": [
    "import numpy as np\n",
    "import matplotlib.pyplot as plt\n",
    "from scipy import interpolate\n",
    "import statsmodels.api as sm\n",
    "\n",
    "# data will be a 2d list, which we convert to an array here\n",
    "data = np.array(data)\n",
    "t = data[:, 0]   # column 0\n",
    "Ca = data[:, 1]  # column 1\n",
    "\n",
    "# calculate numerical derivatives\n",
    "tck = interpolate.splrep(t, Ca)\n",
    "dCadt = interpolate.splev(t, tck, der=1)\n",
    "\n",
    "# do the transformation\n",
    "x = np.log(Ca)\n",
    "y = np.log(-dCadt)\n",
    "\n",
    "# setup and do the regression\n",
    "# column of ones and x:  y = b + mx\n",
    "X = np.column_stack([x, x**0])\n",
    "\n",
    "mod = sm.OLS(y, X)\n",
    "res = mod.fit()\n",
    "\n",
    "intercept = res.params[1]\n",
    "alpha = res.params[0]\n",
    "\n",
    "confidence_intervals = res.conf_int(0.05)\n",
    "intercept_error = confidence_intervals[1]\n",
    "alpha_error = confidence_intervals[0]\n",
    "\n",
    "\n",
    "print('alpha = {0}, conf interval {1}'.format(alpha, alpha_error))\n",
    "print('k = {0}, conf interval {1}'.format(np.exp(intercept), \n",
    "                                          np.exp(intercept_error)))\n",
    "\n",
    "\n",
    "# always visually inspect the fit\n",
    "plt.plot(x, y,'o')\n",
    "plt.plot(x, res.predict(X))\n",
    "plt.xlabel('$\\ln(C_A)$')\n",
    "plt.ylabel('$\\ln(-dC_A/dt)$')\n",
    "plt.show()"
   ],
   "execution_count": 0,
   "outputs": [
    {
     "output_type": "stream",
     "text": [
      "alpha = 2.0354816446001127, conf interval [1.924 2.147]\n",
      "k = 0.1402128334966632, conf interval [0.094 0.21 ]\n"
     ],
     "name": "stdout"
    },
    {
     "output_type": "display_data",
     "data": {
      "image/png": "[encoded data removed]",
      "text/plain": [
       "<Figure size 432x288 with 1 Axes>"
      ]
     },
     "metadata": {
      "tags": [],
      "needs_background": "light"
     }
    }
   ]
  },
  {
   "cell_type": "code",
   "metadata": {
    "id": "qZpIkBiThUO0",
    "colab_type": "code",
    "outputId": "f286dfd3-b56a-4bc9-dcd1-3b6bd7ca43b2",
    "executionInfo": {
     "status": "ok",
     "timestamp": 1588246512328,
     "user_tz": 240,
     "elapsed": 420,
     "user": {
      "displayName": "Zachary Ulissi",
      "photoUrl": "",
      "userId": "07633171379186475882"
     }
    },
    "colab": {
     "base_uri": "https://localhost:8080/",
     "height": 495
    }
   },
   "source": [
    "res.summary()"
   ],
   "execution_count": 0,
   "outputs": [
    {
     "output_type": "stream",
     "text": [
      "/usr/local/lib/python3.6/dist-packages/statsmodels/stats/stattools.py:71: ValueWarning: omni_normtest is not valid with less than 8 observations; 7 samples were given.\n",
      "  \"samples were given.\" % int(n), ValueWarning)\n"
     ],
     "name": "stderr"
    },
    {
     "output_type": "execute_result",
     "data": {
      "text/html": [
       "<table class=\"simpletable\">\n",
       "<caption>OLS Regression Results</caption>\n",
       "<tr>\n",
       "  <th>Dep. Variable:</th>            <td>y</td>        <th>  R-squared:         </th> <td>   0.998</td>\n",
       "</tr>\n",
       "<tr>\n",
       "  <th>Model:</th>                   <td>OLS</td>       <th>  Adj. R-squared:    </th> <td>   0.997</td>\n",
       "</tr>\n",
       "<tr>\n",
       "  <th>Method:</th>             <td>Least Squares</td>  <th>  F-statistic:       </th> <td>   2210.</td>\n",
       "</tr>\n",
       "<tr>\n",
       "  <th>Date:</th>             <td>Thu, 30 Apr 2020</td> <th>  Prob (F-statistic):</th> <td>8.22e-08</td>\n",
       "</tr>\n",
       "<tr>\n",
       "  <th>Time:</th>                 <td>11:35:11</td>     <th>  Log-Likelihood:    </th> <td>  13.785</td>\n",
       "</tr>\n",
       "<tr>\n",
       "  <th>No. Observations:</th>      <td>     7</td>      <th>  AIC:               </th> <td>  -23.57</td>\n",
       "</tr>\n",
       "<tr>\n",
       "  <th>Df Residuals:</th>          <td>     5</td>      <th>  BIC:               </th> <td>  -23.68</td>\n",
       "</tr>\n",
       "<tr>\n",
       "  <th>Df Model:</th>              <td>     1</td>      <th>                     </th>     <td> </td>   \n",
       "</tr>\n",
       "<tr>\n",
       "  <th>Covariance Type:</th>      <td>nonrobust</td>    <th>                     </th>     <td> </td>   \n",
       "</tr>\n",
       "</table>\n",
       "<table class=\"simpletable\">\n",
       "<tr>\n",
       "    <td></td>       <th>coef</th>     <th>std err</th>      <th>t</th>      <th>P>|t|</th>  <th>[0.025</th>    <th>0.975]</th>  \n",
       "</tr>\n",
       "<tr>\n",
       "  <th>x1</th>    <td>    2.0355</td> <td>    0.043</td> <td>   47.013</td> <td> 0.000</td> <td>    1.924</td> <td>    2.147</td>\n",
       "</tr>\n",
       "<tr>\n",
       "  <th>const</th> <td>   -1.9646</td> <td>    0.157</td> <td>  -12.539</td> <td> 0.000</td> <td>   -2.367</td> <td>   -1.562</td>\n",
       "</tr>\n",
       "</table>\n",
       "<table class=\"simpletable\">\n",
       "<tr>\n",
       "  <th>Omnibus:</th>       <td>   nan</td> <th>  Durbin-Watson:     </th> <td>   2.377</td>\n",
       "</tr>\n",
       "<tr>\n",
       "  <th>Prob(Omnibus):</th> <td>   nan</td> <th>  Jarque-Bera (JB):  </th> <td>   0.735</td>\n",
       "</tr>\n",
       "<tr>\n",
       "  <th>Skew:</th>          <td>-0.181</td> <th>  Prob(JB):          </th> <td>   0.692</td>\n",
       "</tr>\n",
       "<tr>\n",
       "  <th>Kurtosis:</th>      <td> 1.454</td> <th>  Cond. No.          </th> <td>    40.4</td>\n",
       "</tr>\n",
       "</table><br/><br/>Warnings:<br/>[1] Standard Errors assume that the covariance matrix of the errors is correctly specified."
      ],
      "text/plain": [
       "<class 'statsmodels.iolib.summary.Summary'>\n",
       "\"\"\"\n",
       "                            OLS Regression Results                            \n",
       "==============================================================================\n",
       "Dep. Variable:                      y   R-squared:                       0.998\n",
       "Model:                            OLS   Adj. R-squared:                  0.997\n",
       "Method:                 Least Squares   F-statistic:                     2210.\n",
       "Date:                Thu, 30 Apr 2020   Prob (F-statistic):           8.22e-08\n",
       "Time:                        11:35:11   Log-Likelihood:                 13.785\n",
       "No. Observations:                   7   AIC:                            -23.57\n",
       "Df Residuals:                       5   BIC:                            -23.68\n",
       "Df Model:                           1                                         \n",
       "Covariance Type:            nonrobust                                         \n",
       "==============================================================================\n",
       "                 coef    std err          t      P>|t|      [0.025      0.975]\n",
       "------------------------------------------------------------------------------\n",
       "x1             2.0355      0.043     47.013      0.000       1.924       2.147\n",
       "const         -1.9646      0.157    -12.539      0.000      -2.367      -1.562\n",
       "==============================================================================\n",
       "Omnibus:                          nan   Durbin-Watson:                   2.377\n",
       "Prob(Omnibus):                    nan   Jarque-Bera (JB):                0.735\n",
       "Skew:                          -0.181   Prob(JB):                        0.692\n",
       "Kurtosis:                       1.454   Cond. No.                         40.4\n",
       "==============================================================================\n",
       "\n",
       "Warnings:\n",
       "[1] Standard Errors assume that the covariance matrix of the errors is correctly specified.\n",
       "\"\"\""
      ]
     },
     "metadata": {
      "tags": []
     },
     "execution_count": 20
    }
   ]
  },
  {
   "cell_type": "markdown",
   "metadata": {
    "id": "J5P1bVrs2Tm9",
    "colab_type": "text"
   },
   "source": [
    "\n",
    "-   You can see there is a reasonably large range of values for the rate constant and reaction order (although the confidence interval does not contain zero)\n",
    "\n",
    "-   The fit looks ok, but you can see the errors are not exactly random\n",
    "    -   There seems to be systematic trends in a sigmoidal shape of the data\n",
    "    -   That suggests small inadequacy in the model\n",
    "\n",
    "-   Let us examine some methods of evaluating the quality of fit\n",
    "\n",
    "-   First we examine the residuals, or the errors between the data and the model.\n",
    "\n",
    "-   In a good fit, these will be randomly distributed\n",
    "\n",
    "-   In a less good fit, there will be trends\n",
    "\n"
   ]
  },
  {
   "cell_type": "code",
   "metadata": {
    "id": "iqKO9K0I2Tm-",
    "colab_type": "code",
    "outputId": "cf03be0c-dba2-48a3-e209-5e9a8530528a",
    "executionInfo": {
     "status": "ok",
     "timestamp": 1588251490801,
     "user_tz": 240,
     "elapsed": 472,
     "user": {
      "displayName": "Zachary Ulissi",
      "photoUrl": "",
      "userId": "07633171379186475882"
     }
    },
    "colab": {
     "base_uri": "https://localhost:8080/",
     "height": 283
    }
   },
   "source": [
    "residuals = y - res.predict(X)\n",
    "\n",
    "# always visually inspect the fit\n",
    "plt.plot(x, residuals, 'o-')\n",
    "plt.xlabel('$\\ln(C_A)$')\n",
    "plt.ylabel('residuals')\n",
    "plt.show()\n"
   ],
   "execution_count": 0,
   "outputs": [
    {
     "output_type": "display_data",
     "data": {
      "image/png": "[encoded data removed]",
      "text/plain": [
       "<Figure size 432x288 with 1 Axes>"
      ]
     },
     "metadata": {
      "tags": [],
      "needs_background": "light"
     }
    }
   ]
  },
  {
   "cell_type": "markdown",
   "metadata": {
    "id": "renlH8Vs2TnB",
    "colab_type": "text"
   },
   "source": [
    "\n",
    "-   You can see there are trends in this data\n",
    "    -   That means the model may not be complete\n",
    "\n",
    "-   There is uncertainty in the data\n",
    "    -   In each concentration measurement there is uncertainty in the time and value of concentration\n",
    "    -   You need more data to reduce the uncertainty\n",
    "    -   You may also need better data to reduce the uncertainty\n",
    "\n",
    "-   Derivatives tend to *magnify* errors in data\n",
    "    -   The method we used to fit the data contributed to the uncertainty\n",
    "\n",
    "-   We also *nonlinearly* transformed the errors by taking logs and exp of the data and results, which may have skewed the confidence limits\n",
    "\n"
   ]
  },
  {
   "cell_type": "markdown",
   "metadata": {
    "id": "n-69aqdp2TnJ",
    "colab_type": "text"
   },
   "source": [
    "\n",
    "## Nonlinear regression\n",
    "\n"
   ]
  },
  {
   "cell_type": "markdown",
   "metadata": {
    "id": "wvJkiE7x2TnK",
    "colab_type": "text"
   },
   "source": [
    "-   Nonlinear models are abundant in reaction engineering\n",
    "    -   $r = k C_A^n $ is linear in the $k$ parameter, and nonlinear in $n$\n",
    "\n",
    "-   Nonlinear fitting is essentially a non-linear optimization problem\n",
    "\n",
    "-   Unlike linear regression, where we directly compute the parameters using matrix algebra, we have to provide an initial guess and iterate to the solution\n",
    "\n",
    "-   Similar to using fsolve, we must define a function of the model\n",
    "    -   The function takes an independent variable, and parameters, f(x,a,b,&#x2026;)\n",
    "    -   The function should return a value of $y$ for every value of $x$\n",
    "    -   i.e. it should be vectorized\n",
    "\n",
    "-   It is possible to formulate these problems as nonlinear minimization of summed squared errors. See [this example](http://jkitchin.github.io/blog/2013/02/18/Nonlinear-curve-fitting/).\n",
    "\n",
    "-   The function [scipy.optimize.curve_fit](https://docs.scipy.org/doc/scipy/reference/generated/scipy.optimize.curve_fit.html) provides nonlinear fitting of models (functions) to data. \n",
    "\n",
    "\n",
    "Let's say we want to fit some other data to the function $$y=ax/(b+x)$$\n",
    "\n",
    "\n"
   ]
  },
  {
   "cell_type": "code",
   "metadata": {
    "id": "aesf39C9Nudl",
    "colab_type": "code",
    "outputId": "32879d8c-1018-4270-eeec-0fc5f8ec11cb",
    "executionInfo": {
     "status": "ok",
     "timestamp": 1588252126748,
     "user_tz": 240,
     "elapsed": 359,
     "user": {
      "displayName": "Zachary Ulissi",
      "photoUrl": "",
      "userId": "07633171379186475882"
     }
    },
    "colab": {
     "base_uri": "https://localhost:8080/",
     "height": 297
    }
   },
   "source": [
    "import numpy as np\n",
    "\n",
    "x = np.array([0.5, 0.387, 0.24, 0.136, 0.04, 0.011])\n",
    "y = np.array([1.255, 1.25, 1.189, 1.124, 0.783, 0.402])\n",
    "\n",
    "\n",
    "plt.plot(x,y,'o')\n",
    "plt.xlabel('x')\n",
    "plt.ylabel('y')"
   ],
   "execution_count": 0,
   "outputs": [
    {
     "output_type": "execute_result",
     "data": {
      "text/plain": [
       "Text(0, 0.5, 'y')"
      ]
     },
     "metadata": {
      "tags": []
     },
     "execution_count": 49
    },
    {
     "output_type": "display_data",
     "data": {
      "image/png": "[encoded data removed]",
      "text/plain": [
       "<Figure size 432x288 with 1 Axes>"
      ]
     },
     "metadata": {
      "tags": [],
      "needs_background": "light"
     }
    }
   ]
  },
  {
   "cell_type": "code",
   "metadata": {
    "id": "B4XHykHh6JRa",
    "colab_type": "code",
    "outputId": "e1ef760b-0a93-4724-bf97-8fc776714aa7",
    "executionInfo": {
     "status": "ok",
     "timestamp": 1588252207327,
     "user_tz": 240,
     "elapsed": 468,
     "user": {
      "displayName": "Zachary Ulissi",
      "photoUrl": "",
      "userId": "07633171379186475882"
     }
    },
    "colab": {
     "base_uri": "https://localhost:8080/",
     "height": 297
    }
   },
   "source": [
    "from scipy.optimize import curve_fit\n",
    "\n",
    "def func(x, a, b):\n",
    "    'nonlinear function in a and b to fit to data'\n",
    "    return a * x / (b + x)\n",
    "\n",
    "popt, pcov = curve_fit(func, x, y, p0=(-15,3))\n",
    "\n",
    "\n",
    "xrange = np.linspace(0,0.5)\n",
    "fitted_y = func(xrange, *popt)\n",
    "\n",
    "plt.plot(x,y,'o')\n",
    "plt.plot(xrange,fitted_y)\n",
    "\n",
    "plt.xlabel('x')\n",
    "plt.ylabel('y')\n"
   ],
   "execution_count": 0,
   "outputs": [
    {
     "output_type": "execute_result",
     "data": {
      "text/plain": [
       "Text(0, 0.5, 'y')"
      ]
     },
     "metadata": {
      "tags": []
     },
     "execution_count": 53
    },
    {
     "output_type": "display_data",
     "data": {
      "image/png": "[encoded data removed]",
      "text/plain": [
       "<Figure size 432x288 with 1 Axes>"
      ]
     },
     "metadata": {
      "tags": [],
      "needs_background": "light"
     }
    }
   ]
  },
  {
   "cell_type": "code",
   "metadata": {
    "id": "XO46nvzjNfKT",
    "colab_type": "code",
    "outputId": "0a7d0982-5c58-48be-b90e-f2e13abaf442",
    "executionInfo": {
     "status": "ok",
     "timestamp": 1588252248614,
     "user_tz": 240,
     "elapsed": 443,
     "user": {
      "displayName": "Zachary Ulissi",
      "photoUrl": "",
      "userId": "07633171379186475882"
     }
    },
    "colab": {
     "base_uri": "https://localhost:8080/",
     "height": 35
    }
   },
   "source": [
    "print(popt)"
   ],
   "execution_count": 0,
   "outputs": [
    {
     "output_type": "stream",
     "text": [
      "[1.328 0.026]\n"
     ],
     "name": "stdout"
    }
   ]
  },
  {
   "cell_type": "markdown",
   "metadata": {
    "id": "yZNeInig2TnP",
    "colab_type": "text"
   },
   "source": [
    "-   We also need to estimate uncertainties in nonlinear parameters\n",
    "\n",
    "-   `lmfit` provides a nice way to do this\n",
    "\n",
    "[lmfit](https://lmfit.github.io/lmfit-py/)\n",
    "\n",
    "Read the [lmfit](https://lmfit.github.io/lmfit-py/) documentation to see how the confidence intervals are computed\n",
    "\n",
    "Here is an example usage of lmfit.\n",
    "\n"
   ]
  },
  {
   "cell_type": "code",
   "metadata": {
    "id": "9hUADZ3w6xEu",
    "colab_type": "code",
    "outputId": "83561c37-5bb2-4321-8ff3-856926681650",
    "executionInfo": {
     "status": "ok",
     "timestamp": 1588252370345,
     "user_tz": 240,
     "elapsed": 3429,
     "user": {
      "displayName": "Zachary Ulissi",
      "photoUrl": "",
      "userId": "07633171379186475882"
     }
    },
    "colab": {
     "base_uri": "https://localhost:8080/",
     "height": 104
    }
   },
   "source": [
    "!pip install lmfit"
   ],
   "execution_count": 0,
   "outputs": [
    {
     "output_type": "stream",
     "text": [
      "Requirement already satisfied: lmfit in /usr/local/lib/python3.6/dist-packages (1.0.0)\n",
      "Requirement already satisfied: asteval>=0.9.16 in /usr/local/lib/python3.6/dist-packages (from lmfit) (0.9.18)\n",
      "Requirement already satisfied: uncertainties>=3.0.1 in /usr/local/lib/python3.6/dist-packages (from lmfit) (3.1.2)\n",
      "Requirement already satisfied: scipy>=1.2 in /usr/local/lib/python3.6/dist-packages (from lmfit) (1.4.1)\n",
      "Requirement already satisfied: numpy>=1.16 in /usr/local/lib/python3.6/dist-packages (from lmfit) (1.18.3)\n"
     ],
     "name": "stdout"
    }
   ]
  },
  {
   "cell_type": "code",
   "metadata": {
    "id": "FOBWKAJzFNHe",
    "colab_type": "code",
    "outputId": "6f60a138-e330-4242-9a1c-fb90d125af03",
    "executionInfo": {
     "status": "ok",
     "timestamp": 1588252610269,
     "user_tz": 240,
     "elapsed": 489,
     "user": {
      "displayName": "Zachary Ulissi",
      "photoUrl": "",
      "userId": "07633171379186475882"
     }
    },
    "colab": {
     "base_uri": "https://localhost:8080/",
     "height": 574
    }
   },
   "source": [
    "from lmfit import Model\n",
    "\n",
    "gmodel = Model(func, independent_vars=['x'],param_names=['a','b'])\n",
    "params = gmodel.make_params(a=2., b=1.0)\n",
    "result = gmodel.fit(y, params, x=x)\n",
    "\n",
    "print(result.fit_report())\n",
    "xrange = np.linspace(0,0.5)\n",
    "\n",
    "fitted_y = result.eval(x=xrange)\n",
    "\n",
    "\n",
    "plt.plot(x,y,'o')\n",
    "plt.plot(xrange,fitted_y)\n",
    "\n",
    "plt.xlabel('x')\n",
    "plt.ylabel('y')"
   ],
   "execution_count": 0,
   "outputs": [
    {
     "output_type": "stream",
     "text": [
      "[[Model]]\n",
      "    Model(func)\n",
      "[[Fit Statistics]]\n",
      "    # fitting method   = leastsq\n",
      "    # function evals   = 36\n",
      "    # data points      = 6\n",
      "    # variables        = 2\n",
      "    chi-square         = 6.9885e-04\n",
      "    reduced chi-square = 1.7471e-04\n",
      "    Akaike info crit   = -50.3470350\n",
      "    Bayesian info crit = -50.7635160\n",
      "[[Variables]]\n",
      "    a:  1.32753139 +/- 0.00972276 (0.73%) (init = 2)\n",
      "    b:  0.02646155 +/- 0.00102789 (3.88%) (init = 1)\n",
      "[[Correlations]] (unreported correlations are < 0.100)\n",
      "    C(a, b) =  0.711\n"
     ],
     "name": "stdout"
    },
    {
     "output_type": "execute_result",
     "data": {
      "text/plain": [
       "Text(0, 0.5, 'y')"
      ]
     },
     "metadata": {
      "tags": []
     },
     "execution_count": 59
    },
    {
     "output_type": "display_data",
     "data": {
      "image/png": "[encoded data removed]",
      "text/plain": [
       "<Figure size 432x288 with 1 Axes>"
      ]
     },
     "metadata": {
      "tags": [],
      "needs_background": "light"
     }
    }
   ]
  },
  {
   "cell_type": "markdown",
   "metadata": {
    "id": "_SZfcjd02TnU",
    "colab_type": "text"
   },
   "source": [
    "-   Here the two intervals are relatively small, and do not include zero, suggesting both parameters are significant.\n",
    "\n",
    "-   More importantly, the errors are not skewed by a nonlinear transformation.\n",
    "\n",
    "-   Note you have to provide an initial guess.\n",
    "    -   This will not always be easy to guess.\n",
    "    -   There may be more than one minimum in the fit also, so different guesses may give different parameters.\n",
    "\n"
   ]
  },
  {
   "cell_type": "markdown",
   "metadata": {
    "id": "cJZC-TkUkOZD",
    "colab_type": "text"
   },
   "source": [
    "# 06-262 Math Methods Recap\n",
    "\n",
    "* Taught you methods needed to solve steady-state and non-steady-state problems.\n",
    "* Concepts built on each other. Matrix algebra and the concept of eigenvalues and eigenvectors became important in solving systems of ODEs. Our understanding of $1^\\circ$ ODEs helped us solve $2^\\circ$ ODEs. Our understanding of ODEs helps solve PDEs. And homogeneous solutions help us solve non-homogeneous problems"
   ]
  },
  {
   "cell_type": "markdown",
   "metadata": {
    "id": "V9NGxQOFlziQ",
    "colab_type": "text"
   },
   "source": [
    "### Linear Algebra Recap\n",
    "\\begin{align}\n",
    "\\arr{A} = \\begin{bmatrix} a_{11} & a_{12} \\\\ a_{21} & a_{22} \\end{bmatrix} \\rightarrow 2\\times 2 \\text{ matrix}\n",
    "\\end{align}\n",
    "* Allows us to use shorthand in defining linear systems of equations\n",
    "\\begin{align}\n",
    "a_{11}x_1 + a_{12}x_2 + ... + a_{1n}x_n = b_1\\\\\n",
    "a_{11}x_1 + a_{12}x_2 + ... + a_{1n}x_n = b_1\\\\\n",
    ".\\\\.\\\\.\\\\\n",
    "a_{m1}x_1 + a_{m2}x_2 + ... + a_{mn}x_n = b_m\\\\\n",
    "\\implies \\arr{A}\\vec{x} = \\vec{b}\n",
    "\\end{align}\n",
    "Which is homogneous when $\\vec{b} \\equiv \\vec{0}$ and non-homogeneous when $\\vec{b} \\neq \\vec{0}$\n",
    "* We used Gauss Elimination to solve systems of equations.\\\n",
    "E.g.the system\n",
    "\\begin{align}\n",
    "x_1 + 2x_2 - x_3 = 4\\\\\n",
    "4x_2 - 2x_3 = -2\\\\\n",
    "x_1 - 2x_2 + 3x_3 = 0\n",
    "\\end{align}\n",
    "can be represented by\n",
    "\\begin{align}\n",
    "\\left[\\begin{array}{rrr|r} 1 & 2 & -1 & 4\\\\\n",
    "0 & 4 & -2 & -2 \\\\\n",
    "1 & -2 & 3 & 0\\end{array}\\right] \\rightarrow ^{\\text{G.E.}}\n",
    "\\left[\\begin{array}{rrr|r} 1 & 0 & 0 & 5\\\\\n",
    "0 & 1 & 0 & -2 \\\\\n",
    "0 & 0 & 1 & 3\\end{array}\\right]\\\\\n",
    "\\implies x_1 = 5, \\ x_2 = -2, \\ x_3 = 3\n",
    "\\end{align}"
   ]
  },
  {
   "cell_type": "markdown",
   "metadata": {
    "id": "JT96Y2X6Kg9w",
    "colab_type": "text"
   },
   "source": [
    "* Systems of equations can be\n",
    "  1. underdetermined (m<n)\n",
    "  2. determined (m=n)\n",
    "  3. overdetermined (m>n)\\\n",
    "And can have 3 solution scenarios:\n",
    "  1. infinite\n",
    "  2. unique\n",
    "  3. none\\\n",
    "Not dictated by how \"determined\" system is\n",
    "\n",
    "* Determinants $\\rightarrow$ important property to calculate\n",
    "\\begin{equation}\n",
    "  |\\arr{A}| = \\det(\\arr{A})=\\begin{cases}\n",
    "    a_{11} & \\text{if $n=1$}.\\\\\n",
    "    a_{11}A_{11} + a_{12}A_{12} + ... + a_{1n}A_{1n} & \\text{if $n\\neq 1$}.\n",
    "  \\end{cases}\n",
    "\\end{equation}\n",
    "(only for square matrices) Here $A_{11}, \\ A_{12}, \\ A_{1n} ...$ are cofactors\\\n",
    "e.g. for a $2\\times 2$ matrix, $\\det(\\arr{A}) = a_{11}a_{22} - a_{21}a_{12}$\n",
    "\n",
    "* A matrix is singular (non-invertible) when the det. is zero"
   ]
  },
  {
   "cell_type": "markdown",
   "metadata": {
    "id": "XL89iQUgMZTZ",
    "colab_type": "text"
   },
   "source": [
    "* Eigenvalues and eigenvectors\\\n",
    "For an $n\\times n$ matrix $\\arr{A}$, when $\n",
    "\\arr{A}\\vec{x}=\\lambda\\vec{x}$, $\\lambda$ is an eigenvalue and $\\vec{x}$ is the corresponding eigenvector\n",
    "  * $\\lambda$'s found by solving $|\\arr{A}-\\lambda\\arr{I}|=0$\n",
    "  * corresponding $\\vec{x}$ found by solving $(\\arr{A}-\\lambda\\arr{I})\\vec{x}=0$\n",
    "  * the eigenspace of $\\arr{A}$ is $\\vec{x}=\\vec{0}$ (always a solution) + all $\\lambda,\\vec{x}$ pairs\n",
    "  * An $n\\times n$ matrix yields $n$ $\\lambda,\\vec{x}$ pairs."
   ]
  },
  {
   "cell_type": "markdown",
   "metadata": {
    "id": "4kpnhqbPd1bz",
    "colab_type": "text"
   },
   "source": [
    "### ODE Recap"
   ]
  },
  {
   "cell_type": "markdown",
   "metadata": {
    "id": "FedNYrd3d86d",
    "colab_type": "text"
   },
   "source": [
    "* We discussed several types of ODEs. Your ability to solve requires you to classify the ODE\n",
    "  * these 5 classifications, together, will determine your solution method\n",
    "1. Order\\\n",
    "Determined by the order of the highest derivative\\\n",
    "  A. first $\\ y'=5$\\\n",
    "  B. second $\\ y'' + y' + y = 5$\n",
    "2. Seperable-ness\n",
    "  * applies only to $1^\\circ$ ODEs\n",
    "  * can be written as $g(y)\\cdot y'=f(x)$\\\n",
    "  A. separable $\\ y^2\\cdot y'= x + 2$\\\n",
    "  B. non-separable $\\ y' + y = x$\n",
    "3. Exactness\n",
    "  * applies only to $1^\\circ$ ODEs\n",
    "  * can be written as $N(x,y)y'=M(x,y)$ with $\\frac{\\partial N}{\\partial x} = \\frac{\\partial M}{\\partial y}$\\\n",
    "  A. Exact $\\ y\\cdot y'=x^2$ (all separable ODEs are exact)\\\n",
    "  B. Non-exact $y\\cdot y' = x^2 + y$\n",
    "4. Linearity\n",
    "  * can be written as $y''+p(x)y'+q(x)y=r(x)$ where $p,q$ and $r$ are continuous functions of $x$ only\\\n",
    "  A. Linear $\\ y' + xy = 0$\\\n",
    "  B. Non-linear $\\ y\\cdot y' = x^2 + y$\n",
    "5. Homogeneity\n",
    "  * classification applies only to linear equations\n",
    "  * occurs when $r(x) \\equiv 0$\\\n",
    "  A. Homogeneous $y' + xy = 0$\\\n",
    "  B. Non-homogeneous $y'' + y = 5x$"
   ]
  },
  {
   "cell_type": "markdown",
   "metadata": {
    "id": "SANLF8LWgTc1",
    "colab_type": "text"
   },
   "source": [
    "#### Your Approach\n",
    "1. If it is first order:\\\n",
    "  A. separate if possible\\\n",
    "  B. check linearity. If linear, make exact with integrating factor $F(x) = \\exp[\\int p(x)dx]$ and use chain rule to obtain $y(x) = e^{-\\int p(x)dx}[\\int F(x)r(x)dx + c]$\\\n",
    "  C. Write in form $M(x,y)dx+N(x,y)dy=0$, check for exactness.\\\n",
    "  If not exact, try to find integrating factor $F(x)$ or $F(y)$\n",
    "  * If $F(x)$, then $\\frac{1}{F}\\frac{dF}{dx} = \\frac{1}{N}\\left\\{\\frac{\\partial M}{\\partial y} - \\frac{\\partial N}{\\partial x}\\right\\} = R(x)$\\\n",
    "  and $F(x)=\\exp[\\int R(x)dx]$\n",
    "  * If $F(y)$, then $\\frac{1}{F}\\frac{dF}{dy} = \\frac{1}{M}\\left\\{\\frac{\\partial N}{\\partial x} - \\frac{\\partial M}{\\partial y}\\right\\} = R(y)$\\\n",
    "  and $F(y)=\\exp[\\int R(y)dy]$\\\n",
    "  Once your ODE is exact, find $u(x,y)$ s.t. $\\frac{\\partial u}{\\partial x} = M(x,y)$ and $\\frac{\\partial u}{\\partial y} = N(x,y)$\\\n",
    "  Implicit solution is given by $u(x,y)=c$\n",
    "2. If it is second order:\\\n",
    "  A. check homogeneity. If homogeneous, identify the two component solution basis, which depends on the roots of the characteristic equation $\\lambda^2+a\\lambda+b=0$\n",
    "  1. real, distinct roots\\\n",
    "  $y(x)=c_1e^{\\lambda_1x}+c_2e^{\\lambda_2x}$, where $\\lambda=\\frac{1}{2}(a\\pm\\sqrt{a^2-4b})$\n",
    "  2. repeated roots\\\n",
    "  $y(x)=c_1e^{\\lambda x}+c_2xe^{\\lambda x}$ where $\\lambda=-\\frac{1}{2}a$\n",
    "  3. complex roots\\\n",
    "  $y(x)=e^{-\\frac{a}{2}x}[c_1\\sin(\\omega x)+c_2\\cos(\\omega x)]$ where $\\omega=\\sqrt{b-\\frac{1}{4}a^2}$\n",
    "  \n",
    "  B. if non-homogeneous, find homogeneous solution $y_H(x)$, then find a particular solution $y_P(x)$ using either\n",
    "  1. Method of undetermined coefficients\n",
    "    * applicable only for non-homogeneous terms that return themselves as derivatives, e.g. $\\sin x, e^x, x^n$\n",
    "    * assume $y_P(x)$ looks like $r(x)$\n",
    "  2. Variation of Parameters\n",
    "    * works for any $r(x)$\n",
    "    * assume $y_P(x)=u(x)y_1(x)+v(x)y_2(x)$\n",
    "    * Find Wronskian, $W=y_1y_2'-y_2y_1'$, then,\\\n",
    "    $y(x)=y_H(x)+y_1(x)\\int\\frac{-r(x)y_2(x)}{W}dx + y_2(x)\\int\\frac{r(x)y_1(x)}{W}dx$"
   ]
  },
  {
   "cell_type": "markdown",
   "metadata": {
    "id": "Ee40r2LSm1Vi",
    "colab_type": "text"
   },
   "source": [
    "#### Coupled ODEs\n",
    "e.g.\\begin{align}\n",
    "y_1'-y_1+y_2=4\\\\\n",
    "y_2'+y_1=8x\n",
    "\\end{align}\n",
    "especially when working with higher number of equations (like in chemical plant), best to solve simultaneously\n",
    "* Matrices come back:\n",
    "\\begin{align}\n",
    "\\vec{y}'=\\arr{A}\\vec{y}+\\vec{b}(x)\n",
    "\\end{align}\n",
    "where $\\vec{b}(x)$ is the non-homogeneous term, $\\vec{y}$ is an $n\\times 1$ vector of unknown functions and $\\arr{A}$ is an $n\\times n$ coefficient matrix\\\n",
    "For the example, $\\arr{A}=\\begin{bmatrix}1&-1 \\\\ -1&0 \\end{bmatrix}$ and $\\vec{b}=\\begin{bmatrix} 4 \\\\ 8x \\end{bmatrix}$\n",
    "* We proved that the eigenvalues and eigenvectors of $\\arr{A}$ yield the homogenoeus solution:\n",
    "\\begin{align}\n",
    "\\vec{y} = c_1\\vec{x}^{(1)}e^{\\lambda_1t} + c_2\\vec{x}^{(2)}e^{\\lambda_2t} + ... + c_n\\vec{x}^{(n)}e^{\\lambda_nt}\n",
    "\\end{align}\n",
    "for real, distinct eigenvalues\n",
    "* For real, repeated eigenvalues, we must use reduction of order to obtain linearly independent solutions\\\n",
    "e.g. $c_1\\vec{x}^{(1)}e^{\\lambda_1t} + c_2\\vec{x}^{(1)}te^{\\lambda_1t}$ (remember there is also a term from the solution of the generalized eigenvalue problem!)\n",
    "* For complex eigenvalues, we must use Euler's formula\n",
    "\\begin{align}\n",
    "e^{\\omega it} = \\cos(\\omega t) + i\\sin(\\omega t)\n",
    "\\end{align}\n",
    "to change basis and obtain a real solution\n",
    "\\begin{align}\n",
    "\\vec{y}=c_1 \\begin{bmatrix} \\cos\\omega t \\\\ -sin\\omega t \\end{bmatrix} + c_2 \\begin{bmatrix} \\sin \\omega t \\\\ \\cos \\omega t \\end{bmatrix}\n",
    "\\end{align}\n",
    "* Non-homogeneous systems are handled similarly to non-homogeneous single equations\n",
    "  * after finding homogeneous solution, find a particular solution using MUC or VoP\n",
    "  * In both cases, you assume a form of $y_P$\\\n",
    "  MUC: $\\vec{y}_P(t) = \\vec{u}\\sin t + \\vec{v}\\cos t$ (for, say, $5\\cos t$)\\\n",
    "      $\\vec{y}_P(t) = \\vec{u}t^2 + \\vec{v}t + \\vec{w}$ (for, say, $2t^2$)\\\n",
    "  VoP: $\\vec{y}_P(t) = \\arr{Y}(t)\\vec{u}(t)$\\\n",
    "  where $\\arr{Y}(t)$ is the fundamental matrix obtained from your two linearly independent solutions to homogeneous equation\n",
    "* For non-linear ODE's where we can't get the solution, we can still find steady states and do a non-linear stability analysis\n",
    "  * Steady states are straightforward $\\vec{y}'=\\vec{0}$, but you have to find **every steady state!**. Be careful. \n",
    "  * At each steady state, evaluate the jacobian and form a linearized ODE that holds near the steady state. \n",
    "  * Calculate the eigenvalues to understand the type (stability) of the steady state\n",
    "* Boundary Value Problems\n",
    "  * IVPs always have a unique solution provided continuity is met\n",
    "  * BVPs have either no solution, unique or infinite number of solutions $\\rightarrow$ you must think for these\n",
    "* PDEs\n",
    "  * 2 or more indeendent variables\n",
    "  * solve using separation of variables\n",
    "  * order, linearity, homogeneity\n",
    "\n"
   ]
  },
  {
   "cell_type": "markdown",
   "metadata": {
    "id": "Udoa4jh78As1",
    "colab_type": "text"
   },
   "source": [
    "### Statistics \n",
    "\n",
    "At the very end, we covered some simple statistics that will help you next year. \n",
    "* Basic statistics\n",
    "  * Types of distributions (continuous, discrete) and how to evaluate them (PDF, CDF, sampling) in python\n",
    "  * Plotting distribution (**NOT JUST HISTOGRAMS**) and kernel density estimation. \n",
    "  * Fitting distributions based on the CDF\n",
    "  * Estimates for properties of a Gaussian distribution, and the errors on those estimates\n",
    "* Regression\n",
    "  * Linear regression **[testable]**\n",
    "    * Form the augmented matrix $\\arr{X}$ with your non-linear functions\n",
    "    * Solve for the best parameters using the $\\arr{X}^T$ trick\n",
    "    * If you need uncertainty, use a package like statsmodels\n",
    "  * Non-linear regression\n",
    "    * Turn a non-linear problem into a linear one, then solve like that\n",
    "    * Use a tool like curvefit (easiest) or lmfit (if need uncertainty)\n"
   ]
  },
  {
   "cell_type": "code",
   "metadata": {
    "id": "itc32Ju085QS",
    "colab_type": "code",
    "colab": {}
   },
   "source": [
    ""
   ],
   "execution_count": 0,
   "outputs": []
  }
 ]
}