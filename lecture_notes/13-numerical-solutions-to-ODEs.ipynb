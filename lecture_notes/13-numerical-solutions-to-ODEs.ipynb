{
 "nbformat": 4,
 "nbformat_minor": 0,
 "metadata": {
  "colab": {
   "name": "13-numerical-solutions-to-ODEs.ipynb",
   "provenance": [],
   "collapsed_sections": []
  },
  "kernelspec": {
   "name": "python3",
   "display_name": "Python 3"
  }
 },
 "cells": [
  {
   "cell_type": "markdown",
   "metadata": {
    "id": "cBfUDQ9-9Wty",
    "colab_type": "text",
    "badge": true,
    "repo_name": "ulissigroup/math-methods-chemical-engineering",
    "branch": "master",
    "nb_path": "lecture_notes/13-numerical-solutions-to-ODEs.ipynb",
    "comment": "This badge cell was added by colab-badge-action"
   },
   "source": [
    "<a href=\"https://colab.research.google.com/github/ulissigroup/math-methods-chemical-engineering/blob/master/lecture_notes/13-numerical-solutions-to-ODEs.ipynb\" target=\"_parent\"><img src=\"https://colab.research.google.com/assets/colab-badge.svg\" alt=\"Open In Colab\"/></a>\n",
    "$$\\newcommand{\\arr}[1]{\\underline{\\underline{#1}}}$$    \n",
    "$$\\newcommand{\\vec}[1]{\\underline{#1}}$$   \n",
    "$$\\require{mhchem}$$"
   ]
  },
  {
   "cell_type": "markdown",
   "metadata": {
    "id": "bOd5pUnj9YP_",
    "colab_type": "text"
   },
   "source": [
    "# Introduction to Numerical Solution of Differential Equations\n",
    "\n",
    "\n",
    "* We'll start with simple $1^\\circ$ ODE Initial Value Problem (IVP)\n",
    "\\begin{align}\n",
    "\\frac{dy}{dt} = -y, && y(t=0) = 1\n",
    "\\end{align}\n",
    "We've solved this already\n",
    "\\begin{align}\n",
    "y = \\exp(-x)\n",
    "\\end{align}\n",
    "* How would you do this without being able to solve differential equation? The Taylor expansion is a related concept, so let's quickly review that.\n"
   ]
  },
  {
   "cell_type": "markdown",
   "metadata": {
    "colab_type": "text",
    "id": "eYb6PJ5ms6zX"
   },
   "source": [
    "\n",
    "## Benefits of analytical/numerical methods"
   ]
  },
  {
   "cell_type": "markdown",
   "metadata": {
    "colab_type": "text",
    "id": "Xf4TB9LDs6zf"
   },
   "source": [
    "Analytical | Numerical\n",
    "--- | ---\n",
    " \\+ exact solution | - approximation to real solution\n",
    " \\+ tells you which parameters are important | - black box\n",
    " \\+ functional form (engineering insight) | - hard to check if answer is correct\n",
    " - very hard for complicated ODE's | - programming bugs\n",
    " - slow (can take days to work out solution) | \\+ fast to implement\n",
    " - Algebra mistakes | \\+ solve very hard equations\n",
    " - Still have to plot a solution at end | \\+ good to solve engineering problems at specific set of parameters etc.\n",
    " \\+ solve for all parameters"
   ]
  },
  {
   "cell_type": "markdown",
   "metadata": {
    "id": "59fTs9fq9ipz",
    "colab_type": "text"
   },
   "source": [
    "## Taylor expansions\n",
    "* We have a complicated function (based on info at one point) that we want ot approximate. The Taylor series is a polynomial approxiamation of $f$:\n",
    "\\begin{align}\n",
    "\\hat{f} = a + bx + cx^2 + dx^3\n",
    "\\end{align}\n",
    "The simplest approximation is $\\hat{f} = a$. Let's demonstrate with $f(x) = \\exp(x)$\n",
    "\n",
    "* Each coefficient is obtained by matching derivatives\n",
    "\\begin{align}\n",
    "\\hat{f}(x=0) = a = f(x=0)\\\\\n",
    "\\frac{d\\hat{f}}{dx}\\bigg|_{x=0} = b = \\frac{df}{dx}\\bigg|_{x=0}\\\\\n",
    "\\frac{d^2\\hat{f}}{dx^2}\\bigg|_{x=0} = 2c = \\frac{d^2}{dx^2}\\bigg|_{x=0}\n",
    "\\end{align}\n",
    "And so on.."
   ]
  },
  {
   "cell_type": "code",
   "metadata": {
    "id": "Gh_zbgEqAEjR",
    "colab_type": "code",
    "outputId": "60d4ce27-e1fd-47c1-c047-ece20a37d55e",
    "executionInfo": {
     "status": "ok",
     "timestamp": 1582811572628,
     "user_tz": 300,
     "elapsed": 717,
     "user": {
      "displayName": "Zachary Ulissi",
      "photoUrl": "",
      "userId": "07633171379186475882"
     }
    },
    "colab": {
     "base_uri": "https://localhost:8080/",
     "height": 279
    }
   },
   "source": [
    "import numpy as np\n",
    "import matplotlib.pyplot as plt\n",
    "\n",
    "x = np.linspace(0,2)\n",
    "f1 = np.ones(len(x))\n",
    "f2 = 1 + x\n",
    "f3 = 1 + x + x**2 / 2\n",
    "f4 = 1 + x + x**2 / 2 + x**3 / 6\n",
    "f = np.exp(x)\n",
    "plt.plot(x, f1, '--', label = '$\\hat{f}$ = 1')\n",
    "plt.plot(x, f2, '--', label = '$\\hat{f} = 1 + x$')\n",
    "plt.plot(x, f3, '--', label = '$\\hat{f} = 1 + x + x^2 / 2$')\n",
    "plt.plot(x, f4, '--', label = '$\\hat{f} = 1 + x + x^2/2 + x^3/6$')\n",
    "plt.plot(x, f, 'k', label = 'exp(x)')\n",
    "plt.xlabel('x')\n",
    "plt.ylabel('F')\n",
    "plt.legend()\n",
    "plt.show()"
   ],
   "execution_count": 0,
   "outputs": [
    {
     "output_type": "display_data",
     "data": {
      "image/png": "[encoded data removed]",
      "text/plain": [
       "<Figure size 432x288 with 1 Axes>"
      ]
     },
     "metadata": {
      "tags": []
     }
    }
   ]
  },
  {
   "cell_type": "markdown",
   "metadata": {
    "id": "hoiC-5Pyyzni",
    "colab_type": "text"
   },
   "source": [
    "## Example of taylor expansion in python\n",
    "\n",
    "Rather than explicitly coding the Taylor expansion, let's make a little function to do this for us. "
   ]
  },
  {
   "cell_type": "code",
   "metadata": {
    "id": "aj3edDcqy_ux",
    "colab_type": "code",
    "outputId": "6e09edb5-7e74-4b91-e408-1df8d83fa06a",
    "executionInfo": {
     "status": "ok",
     "timestamp": 1582811718132,
     "user_tz": 300,
     "elapsed": 438,
     "user": {
      "displayName": "Zachary Ulissi",
      "photoUrl": "",
      "userId": "07633171379186475882"
     }
    },
    "colab": {
     "base_uri": "https://localhost:8080/",
     "height": 35
    }
   },
   "source": [
    "from scipy.special import factorial\n",
    "\n",
    "def taylor_exp(x,N):\n",
    "  # this function evaluates the taylor expansion of exp(x)\n",
    "\n",
    "  # x is a range of x to evaluate at\n",
    "  # N is the order of the taylor expansion\n",
    "\n",
    "  y=0.0\n",
    "\n",
    "  # Loop over N, adding terms \n",
    "  for n in range(N):\n",
    "      y = y + x**n/factorial(n)\n",
    "\n",
    "  # return the final approximation to y\n",
    "  return y\n",
    "\n",
    "#Test the function for x=2 at order 1    \n",
    "taylor_exp(x=2,N=6)"
   ],
   "execution_count": 0,
   "outputs": [
    {
     "output_type": "execute_result",
     "data": {
      "text/plain": [
       "7.266666666666667"
      ]
     },
     "metadata": {
      "tags": []
     },
     "execution_count": 54
    }
   ]
  },
  {
   "cell_type": "markdown",
   "metadata": {
    "id": "WkBNiyPmzCY-",
    "colab_type": "text"
   },
   "source": [
    "Using this function, we plot the the curves from before."
   ]
  },
  {
   "cell_type": "code",
   "metadata": {
    "id": "STWCpGT3zM8M",
    "colab_type": "code",
    "outputId": "39861351-6edf-458b-f59f-553fb1cfb2ea",
    "executionInfo": {
     "status": "ok",
     "timestamp": 1582811774257,
     "user_tz": 300,
     "elapsed": 673,
     "user": {
      "displayName": "Zachary Ulissi",
      "photoUrl": "",
      "userId": "07633171379186475882"
     }
    },
    "colab": {
     "base_uri": "https://localhost:8080/",
     "height": 297
    }
   },
   "source": [
    "import matplotlib.pyplot as plt\n",
    "import numpy as np\n",
    "\n",
    "# Choose 100 points to evaluate\n",
    "x = np.linspace(0,2,100)\n",
    "\n",
    "# For each order 1 to 5, compute teh approximation and plot\n",
    "for n in range(1,8):\n",
    "  plt.plot(x,taylor_exp(x,n),'--', label='taylor series order %d'%n)\n",
    "\n",
    "# Plot the known (analytical exp(x) ) expression\n",
    "plt.plot(x,np.exp(x),'r',label='exp(x)')\n",
    "\n",
    "# Add x/y labels and legend\n",
    "plt.xlabel('x')\n",
    "plt.ylabel('f=exp(x)')\n",
    "plt.legend()"
   ],
   "execution_count": 0,
   "outputs": [
    {
     "output_type": "execute_result",
     "data": {
      "text/plain": [
       "<matplotlib.legend.Legend at 0x7fb5593d3be0>"
      ]
     },
     "metadata": {
      "tags": []
     },
     "execution_count": 56
    },
    {
     "output_type": "display_data",
     "data": {
      "image/png": "[encoded data removed]",
      "text/plain": [
       "<Figure size 432x288 with 1 Axes>"
      ]
     },
     "metadata": {
      "tags": []
     }
    }
   ]
  },
  {
   "cell_type": "markdown",
   "metadata": {
    "id": "3CAlI1phwKlE",
    "colab_type": "text"
   },
   "source": [
    "There's even a scipy function that will estimate the polynomial terms in the Taylor expansion at a point for an arbitrary function!"
   ]
  },
  {
   "cell_type": "code",
   "metadata": {
    "id": "QCwtli91vmg6",
    "colab_type": "code",
    "outputId": "3c008a47-5819-4e12-dada-f2fefbdc47f3",
    "executionInfo": {
     "status": "ok",
     "timestamp": 1582811841328,
     "user_tz": 300,
     "elapsed": 797,
     "user": {
      "displayName": "Zachary Ulissi",
      "photoUrl": "",
      "userId": "07633171379186475882"
     }
    },
    "colab": {
     "base_uri": "https://localhost:8080/",
     "height": 297
    }
   },
   "source": [
    "import matplotlib.pyplot as plt\n",
    "import numpy as np\n",
    "from scipy.interpolate import approximate_taylor_polynomial \n",
    "\n",
    "# Choose 100 points to evaluate\n",
    "x = np.linspace(0,3,100)\n",
    "\n",
    "def myfunc(x):\n",
    "  return np.sin(x)*np.exp(x)\n",
    "\n",
    "# For each order 1 to 5, compute teh approximation and plot\n",
    "for n in range(1,8):\n",
    "  p = approximate_taylor_polynomial(myfunc, 0, n, scale=0.1)\n",
    "  plt.plot(x,np.polyval(p, x),'--', label='taylor series order %d'%(n+1))\n",
    "\n",
    "# Plot the known (analytical exp(x) ) expression\n",
    "plt.plot(x,myfunc(x),'r',label='exp(x)')\n",
    "\n",
    "# Add x/y labels and legend\n",
    "plt.xlabel('x')\n",
    "plt.ylabel('f=np.sin(x)*np.exp(x)')\n",
    "plt.legend()"
   ],
   "execution_count": 0,
   "outputs": [
    {
     "output_type": "execute_result",
     "data": {
      "text/plain": [
       "<matplotlib.legend.Legend at 0x7fb5592e1cc0>"
      ]
     },
     "metadata": {
      "tags": []
     },
     "execution_count": 58
    },
    {
     "output_type": "display_data",
     "data": {
      "image/png": "[encoded data removed]",
      "text/plain": [
       "<Figure size 432x288 with 1 Axes>"
      ]
     },
     "metadata": {
      "tags": []
     }
    }
   ]
  },
  {
   "cell_type": "markdown",
   "metadata": {
    "id": "J8gsu2yszTTE",
    "colab_type": "text"
   },
   "source": [
    "The Taylor expansion is an approximation to the true solution. Clearly, the answer at $x=2$ gets better as the order of the approximation increases. Let's plot the difference between the true solution and the approximation for various order n"
   ]
  },
  {
   "cell_type": "code",
   "metadata": {
    "id": "6W1Fsp6HOOhJ",
    "colab_type": "code",
    "outputId": "d2a08500-f11e-4c38-aab3-b21e378efa16",
    "executionInfo": {
     "status": "ok",
     "timestamp": 1582811997949,
     "user_tz": 300,
     "elapsed": 872,
     "user": {
      "displayName": "Zachary Ulissi",
      "photoUrl": "",
      "userId": "07633171379186475882"
     }
    },
    "colab": {
     "base_uri": "https://localhost:8080/",
     "height": 299
    }
   },
   "source": [
    "x=2\n",
    "for n in range(1,30):\n",
    "  #Calculate the difference between the true solution and approximate solution at x=2\n",
    "  error = np.abs(np.exp(x)-taylor_exp(x,n))\n",
    "\n",
    "  #plot the error\n",
    "  plt.semilogy(n,error,'ok')\n",
    "\n",
    "# add x/y labels\n",
    "plt.xlabel('Terms in Taylor Series')\n",
    "plt.ylabel('Error in Taylor approx, abs[f(x=2)-exp(x=2)]')"
   ],
   "execution_count": 0,
   "outputs": [
    {
     "output_type": "execute_result",
     "data": {
      "text/plain": [
       "Text(0, 0.5, 'Error in Taylor approx, abs[f(x=2)-exp(x=2)]')"
      ]
     },
     "metadata": {
      "tags": []
     },
     "execution_count": 64
    },
    {
     "output_type": "display_data",
     "data": {
      "image/png": "[encoded data removed]",
      "text/plain": [
       "<Figure size 432x288 with 1 Axes>"
      ]
     },
     "metadata": {
      "tags": []
     }
    }
   ]
  },
  {
   "cell_type": "markdown",
   "metadata": {
    "id": "TWDd0Xs2zpLq",
    "colab_type": "text"
   },
   "source": [
    "* Notice how the error gets smaller and smaller as the number of points goes. \n",
    "\n",
    "* However, this only works so far, and eventually the error saturates. This is because of how numbers are stored in a computer. Floating point numbers are stored as (on a 32-bit computer):\n",
    "\\begin{align}\n",
    "1.362597134568123 \\times 10^{+36} && \\text{(15 decimal places and power of 10)}\n",
    "\\end{align}\n",
    "* Since there's only 16 demical places, we can't really get any more accurate than that. \n",
    "\n",
    "\n"
   ]
  },
  {
   "cell_type": "markdown",
   "metadata": {
    "id": "a65nCXlPDcE3",
    "colab_type": "text"
   },
   "source": [
    "## Euler's Method"
   ]
  },
  {
   "cell_type": "markdown",
   "metadata": {
    "id": "5JQrs1CkDf3h",
    "colab_type": "text"
   },
   "source": [
    "* Simplest possible scheme - use the Taylor expansion to move from one point to the next for integrating. Start with definition of derivative:\n",
    "\\begin{align}\n",
    "\\frac{dy}{dt}\\bigg|_{t=0} = \\frac{y(t=h) - y(t=0)}{h - 0}\\\\\n",
    "\\frac{dy}{dt}\\bigg|_{t=0} = \\frac{y(t_1) - y(t_0)}{t_1 - t_0}\n",
    "\\end{align}\n",
    "Let's rearrange\n",
    "\\begin{align}\n",
    "y(t_1) = \\frac{dy}{dt}\\bigg|_{t_0}(t_1-t_0) + y(t_0) \\ \\rightarrow \\text{  ODE gives us this!}\n",
    "\\end{align}\n",
    "$\\underline{\\text{Ex}}$ : $\\frac{dy}{dt} = - y$,  $\\hspace{1cm}y(t=0) = 1$\n",
    "\\begin{align}\n",
    "y(t&=0) = 1\\\\\n",
    "y(t_1) &= \\frac{dy}{dt}\\bigg|_{t=0} (t_1 - 0) + y(t = 0)\\\\\n",
    "&= -y \\bigg|_{t=0}t_1 + 1\n",
    "\\end{align}\n",
    "Evaluate error for Euler approximation\n",
    "\\begin{align}\n",
    "y(t) = \\exp(-t) \\leftarrow \\text{  known}\\\\\n",
    "y(\\Delta t) = y(0) + \\Delta t \\frac{dy}{dt}\\bigg|_{t=0} + \\frac{\\Delta t^2}{2} \\frac{d^2y}{dt^2}\\bigg|_{t=0} + ...\\\\\n",
    "\\frac{y(\\Delta t) - y(0)}{\\Delta t} = \\frac{dy}{dt}\\bigg|_{t=0} + \\frac{\\Delta t}{2} \\frac{d^2y}{dt^2}\\bigg|_{t=0} + ...\n",
    "\\end{align}\n",
    "We are neglecting the second order terms and beyond. Error decays proportional to $\\Delta t$!\n"
   ]
  },
  {
   "cell_type": "markdown",
   "metadata": {
    "id": "dq2qjQhN1XGk",
    "colab_type": "text"
   },
   "source": [
    "## Example: integrate to t=2 for $y'=-y$ using this method. "
   ]
  },
  {
   "cell_type": "markdown",
   "metadata": {
    "id": "S7x2PSI40YRt",
    "colab_type": "text"
   },
   "source": [
    "## Implementation of Euler's method in python\n",
    "\n",
    "First, let's define a function that represents what we want to integrate, of the form $y'=F(t,y)$"
   ]
  },
  {
   "cell_type": "markdown",
   "metadata": {
    "id": "bKQGaqkc_OeA",
    "colab_type": "text"
   },
   "source": [
    ""
   ]
  },
  {
   "cell_type": "code",
   "metadata": {
    "id": "Bm06lXjX0xTd",
    "colab_type": "code",
    "outputId": "67e42745-6f75-43d0-c5d4-81d6072267b8",
    "executionInfo": {
     "status": "ok",
     "timestamp": 1582812865178,
     "user_tz": 300,
     "elapsed": 454,
     "user": {
      "displayName": "Zachary Ulissi",
      "photoUrl": "",
      "userId": "07633171379186475882"
     }
    },
    "colab": {
     "base_uri": "https://localhost:8080/",
     "height": 35
    }
   },
   "source": [
    "# Define the function we want to integrate\n",
    "def yprime(t,y):\n",
    "  return -y\n",
    "\n",
    "# try y' at t=0, y=1\n",
    "yprime(1/2,1/2)"
   ],
   "execution_count": 0,
   "outputs": [
    {
     "output_type": "execute_result",
     "data": {
      "text/plain": [
       "-0.5"
      ]
     },
     "metadata": {
      "tags": []
     },
     "execution_count": 66
    }
   ]
  },
  {
   "cell_type": "markdown",
   "metadata": {
    "id": "nnyikdc3086M",
    "colab_type": "text"
   },
   "source": [
    "Now, we will write a function that loops through a range of times, and keeps adding the slope each time. "
   ]
  },
  {
   "cell_type": "code",
   "metadata": {
    "id": "SGfYBVOQ0RVx",
    "colab_type": "code",
    "colab": {}
   },
   "source": [
    "def euler_integrate(func, t, y0):\n",
    "  # func: the function to integrate, of the form\n",
    "  #       y'=F(t,y)\n",
    "  # y0:   the initial function value\n",
    "  # t:    the range of times to evaluate\n",
    "\n",
    "  y = [y0]\n",
    "  dt = t[1]-t[0]\n",
    "\n",
    "  #Loop through and implement the update\n",
    "  for new_time in t[1:]:\n",
    "\n",
    "    # current y\n",
    "    current_y = y[-1]\n",
    "\n",
    "    #Get the current derivative\n",
    "    yprime=func(t,current_y)\n",
    "\n",
    "    #Update y, fill this in\n",
    "    updated_y = yprime*dt + current_y\n",
    "\n",
    "    #Save the y\n",
    "    y.append(updated_y)\n",
    "\n",
    "  return y\n"
   ],
   "execution_count": 0,
   "outputs": []
  },
  {
   "cell_type": "markdown",
   "metadata": {
    "id": "d-U3xvEZ1RAq",
    "colab_type": "text"
   },
   "source": [
    "Let's test this function for a step size of 0.5"
   ]
  },
  {
   "cell_type": "code",
   "metadata": {
    "id": "ki6JIXDP1Dmu",
    "colab_type": "code",
    "outputId": "e5e4d9b8-4b7d-447c-b30c-68c84c756cb5",
    "executionInfo": {
     "status": "ok",
     "timestamp": 1582813305866,
     "user_tz": 300,
     "elapsed": 657,
     "user": {
      "displayName": "Zachary Ulissi",
      "photoUrl": "",
      "userId": "07633171379186475882"
     }
    },
    "colab": {
     "base_uri": "https://localhost:8080/",
     "height": 297
    }
   },
   "source": [
    "# Generate a range of t from 0 to 2, with a timestep of 0.5\n",
    "t = np.arange(0,2.1,0.1)\n",
    "\n",
    "# Use or ne function\n",
    "y = euler_integrate(yprime, t, 1)\n",
    "\n",
    "#Plot the results\n",
    "plt.plot(t,y,'ok', label='Numerical Sol''n to dy/dt=-y, y(t=0)=1')\n",
    "plt.xlabel('t')\n",
    "plt.ylabel('Numerical Sol''n to dy/dt=-y, y(t=0)=1')\n",
    "\n",
    "t=np.linspace(0,2,100)\n",
    "\n",
    "plt.plot(t,np.exp(-t),'k-', label='full solution, $e^{-t}$')\n",
    "plt.legend()\n",
    "plt.xlabel('t')\n",
    "plt.ylabel('y')"
   ],
   "execution_count": 0,
   "outputs": [
    {
     "output_type": "execute_result",
     "data": {
      "text/plain": [
       "Text(0, 0.5, 'y')"
      ]
     },
     "metadata": {
      "tags": []
     },
     "execution_count": 69
    },
    {
     "output_type": "display_data",
     "data": {
      "image/png": "[encoded data removed]",
      "text/plain": [
       "<Figure size 432x288 with 1 Axes>"
      ]
     },
     "metadata": {
      "tags": []
     }
    }
   ]
  },
  {
   "cell_type": "markdown",
   "metadata": {
    "id": "td4R-XcZx2cA",
    "colab_type": "text"
   },
   "source": [
    "Let's play around with the step size and see how the error at t=2 changes"
   ]
  },
  {
   "cell_type": "code",
   "metadata": {
    "id": "EZRXwmt7yLRE",
    "colab_type": "code",
    "outputId": "8929f9be-6ed1-4ab7-f26a-497de3a86f5e",
    "executionInfo": {
     "status": "ok",
     "timestamp": 1582813375139,
     "user_tz": 300,
     "elapsed": 418,
     "user": {
      "displayName": "Zachary Ulissi",
      "photoUrl": "",
      "userId": "07633171379186475882"
     }
    },
    "colab": {
     "base_uri": "https://localhost:8080/",
     "height": 35
    }
   },
   "source": [
    "t = np.arange(0,2.01,0.0001)\n",
    "y = euler_integrate(yprime, t, 1)\n",
    "\n",
    "print('Error of f(x=2) = %f'%abs(y[-1]-np.exp(-t[-1])))"
   ],
   "execution_count": 0,
   "outputs": [
    {
     "output_type": "stream",
     "text": [
      "Error of f(x=2) = 0.000013\n"
     ],
     "name": "stdout"
    }
   ]
  },
  {
   "cell_type": "code",
   "metadata": {
    "id": "CAOV_WEyxza8",
    "colab_type": "code",
    "outputId": "a0666995-02f8-432b-8d45-db6c86c34e17",
    "executionInfo": {
     "status": "ok",
     "timestamp": 1582813434992,
     "user_tz": 300,
     "elapsed": 1001,
     "user": {
      "displayName": "Zachary Ulissi",
      "photoUrl": "",
      "userId": "07633171379186475882"
     }
    },
    "colab": {
     "base_uri": "https://localhost:8080/",
     "height": 301
    }
   },
   "source": [
    "# Scan over a range of time steps\n",
    "\n",
    "for dt in [1,.5,.1,.05,.01]:\n",
    "\n",
    "  # Calculate the solution\n",
    "  t = np.arange(0,2.01,dt)\n",
    "  y = euler_integrate(yprime, t, 1)\n",
    "\n",
    "  # Plot the error (difference beteween analytical \n",
    "  # solution and numerical solution)\n",
    "  plt.loglog(dt,abs(y[-1]-np.exp(-t[-1])),'ok')\n",
    "\n",
    "# Plot a simple -1 log scaling to show the error drops\n",
    "dt=np.logspace(-2,0);\n",
    "plt.plot(dt,dt/10,'k--',label='Slope 1')\n",
    "\n",
    "plt.xlabel('Time Step')\n",
    "plt.ylabel('Error at t=2 for y\\'=-y, y(0)=1')\n",
    "plt.legend()"
   ],
   "execution_count": 0,
   "outputs": [
    {
     "output_type": "execute_result",
     "data": {
      "text/plain": [
       "<matplotlib.legend.Legend at 0x7fb558daef28>"
      ]
     },
     "metadata": {
      "tags": []
     },
     "execution_count": 74
    },
    {
     "output_type": "display_data",
     "data": {
      "image/png": "[encoded data removed]",
      "text/plain": [
       "<Figure size 432x288 with 1 Axes>"
      ]
     },
     "metadata": {
      "tags": []
     }
    }
   ]
  },
  {
   "cell_type": "markdown",
   "metadata": {
    "id": "P_ntLQQC0fBc",
    "colab_type": "text"
   },
   "source": [
    "# Euler's method with second derivatives\n",
    "\n",
    "We truncated the approximation at the first derivative in the Euler scheme. An obvious question is whether using the second derivative would improve things?\n",
    "\n",
    "For example, let's propose a new method:\n",
    "\\begin{align}\n",
    "y(t) - y(t_0) = \\Delta t \\frac{dy}{dt}\\bigg|_{t = t_0} + \\frac{\\Delta t^2}{2} \\frac{d^2y}{dt^2}\\bigg|_{t = t_0}\n",
    "\\end{align}\n",
    "We have a new term, if we know $\\frac{d^2y}{dt^2}\\bigg|_{t=t_0}$. Now the order should be better as $\\Delta t^2$"
   ]
  },
  {
   "cell_type": "markdown",
   "metadata": {
    "id": "a67G_iDGJjLD",
    "colab_type": "text"
   },
   "source": [
    "### Example with second order\n",
    "$y(t_1) = -t + 1$\\\n",
    "or more generally:\n",
    "\\begin{align}\n",
    "y(t_1) = -y (t_0) (t_1 - t_0) + y(t_0)\n",
    "\\end{align}\n",
    "Remember, this only really holds for $t_1 - t_0 \\rightarrow 0$\n",
    "\n",
    "<img src=\"https://docs.google.com/drawings/d/e/2PACX-1vSgJC6gobNTNfiWxOfOGH1RhSYBz1tefW9Nbmbdul4yPxR7FZjQBe1bfFgy_SaWqiYI6c4Y7nwg2ryw/pub?w=558&h=283\">"
   ]
  },
  {
   "cell_type": "markdown",
   "metadata": {
    "id": "pw5U0aYfbIaA",
    "colab_type": "text"
   },
   "source": [
    "## Python implementation of the second order Euler method"
   ]
  },
  {
   "cell_type": "code",
   "metadata": {
    "id": "3NG9TtP6bJ8g",
    "colab_type": "code",
    "outputId": "30956da9-d57c-451f-fda3-f8df4a51a3fa",
    "executionInfo": {
     "status": "ok",
     "timestamp": 1582813902560,
     "user_tz": 300,
     "elapsed": 614,
     "user": {
      "displayName": "Zachary Ulissi",
      "photoUrl": "",
      "userId": "07633171379186475882"
     }
    },
    "colab": {
     "base_uri": "https://localhost:8080/",
     "height": 297
    }
   },
   "source": [
    "# Define the function we want to integrate\n",
    "def yprime_yprimeprime(t,y):\n",
    "  #return y', y''\n",
    "  return -y, y\n",
    "\n",
    "def euler_2nd_derivative_integrate(func, t, y0):\n",
    "\n",
    "  y = [y0]\n",
    "  current_time = t[0]\n",
    "  dt = t[1]-t[0]\n",
    "\n",
    "  #Loop through and implement the update\n",
    "  for new_time in t[1:]:\n",
    "\n",
    "    current_y = y[-1]\n",
    "\n",
    "    #Get the current derivative\n",
    "    yprime, yprimeprime=func(t,current_y)\n",
    "\n",
    "    #Find the current step size\n",
    "    updated_y = current_y + dt*yprime + dt**2/2*yprimeprime\n",
    "\n",
    "    #Save the y\n",
    "    y.append(updated_y)\n",
    "\n",
    "  return y\n",
    "\n",
    "t = np.arange(0,2.1,0.5)\n",
    "y = euler_integrate(yprime, t, 1)\n",
    "plt.plot(t,y,'ok', label='1st-order Euler Sol''n')\n",
    "\n",
    "y = euler_2nd_derivative_integrate(yprime_yprimeprime, t, 1)\n",
    "plt.plot(t,y,'or', label='2nd-order Euler Sol''n')\n",
    "\n",
    "t = np.linspace(0,2,100)\n",
    "plt.plot(t,np.exp(-t),'k-', label='full solution, $e^{-t}$')\n",
    "\n",
    "plt.xlabel('t')\n",
    "plt.ylabel('y')\n",
    "plt.legend()\n",
    "\n"
   ],
   "execution_count": 0,
   "outputs": [
    {
     "output_type": "execute_result",
     "data": {
      "text/plain": [
       "<matplotlib.legend.Legend at 0x7fb558954780>"
      ]
     },
     "metadata": {
      "tags": []
     },
     "execution_count": 77
    },
    {
     "output_type": "display_data",
     "data": {
      "image/png": "[encoded data removed]",
      "text/plain": [
       "<Figure size 432x288 with 1 Axes>"
      ]
     },
     "metadata": {
      "tags": []
     }
    }
   ]
  },
  {
   "cell_type": "markdown",
   "metadata": {
    "id": "BklxCIXUbnDL",
    "colab_type": "text"
   },
   "source": [
    "Let's see how accurate this new method is with respect to step size!"
   ]
  },
  {
   "cell_type": "code",
   "metadata": {
    "id": "PY0-ZPMebtH6",
    "colab_type": "code",
    "outputId": "92010156-d9d7-4c96-ee4e-bdf9b8e0fe7e",
    "executionInfo": {
     "status": "ok",
     "timestamp": 1582813907528,
     "user_tz": 300,
     "elapsed": 1295,
     "user": {
      "displayName": "Zachary Ulissi",
      "photoUrl": "",
      "userId": "07633171379186475882"
     }
    },
    "colab": {
     "base_uri": "https://localhost:8080/",
     "height": 301
    }
   },
   "source": [
    "# Scan over a range of time steps\n",
    "\n",
    "for dt in [1,.5,.1,.05,.01]:\n",
    "\n",
    "  # Calculate the solution\n",
    "  t = np.arange(0,2.01,dt)\n",
    "  y = euler_integrate(yprime, t, 1)\n",
    "\n",
    "  # Plot the error (difference beteween analytical \n",
    "  # solution and numerical solution)\n",
    "  plt.loglog(dt,abs(y[-1]-np.exp(-t[-1])),'ok')\n",
    "\n",
    "  # Calculate the solution\n",
    "  t = np.arange(0,2.01,dt)\n",
    "  y = euler_2nd_derivative_integrate(yprime_yprimeprime, t, 1)\n",
    "\n",
    "  # Plot the error (difference beteween analytical \n",
    "  # solution and numerical solution)\n",
    "  plt.loglog(dt,abs(y[-1]-np.exp(-t[-1])),'or')\n",
    "\n",
    "# Plot a simple -1 log scaling to show the error drops\n",
    "dt=np.logspace(-2,0);\n",
    "plt.plot(dt,dt/10,'k--',label='First order Euler')\n",
    "\n",
    "dt=np.logspace(-2,0);\n",
    "plt.plot(dt,dt**2./20,'r--', label='Euler with 2nd Derivatives')\n",
    "\n",
    "\n",
    "plt.xlabel('Time Step')\n",
    "plt.ylabel('Error at t=2 for y\\'=-y, y(0)=1')\n",
    "plt.legend()"
   ],
   "execution_count": 0,
   "outputs": [
    {
     "output_type": "execute_result",
     "data": {
      "text/plain": [
       "<matplotlib.legend.Legend at 0x7fb558954978>"
      ]
     },
     "metadata": {
      "tags": []
     },
     "execution_count": 78
    },
    {
     "output_type": "display_data",
     "data": {
      "image/png": "[encoded data removed]",
      "text/plain": [
       "<Figure size 432x288 with 1 Axes>"
      ]
     },
     "metadata": {
      "tags": []
     }
    }
   ]
  },
  {
   "cell_type": "markdown",
   "metadata": {
    "id": "UE_2BZuLOS94",
    "colab_type": "text"
   },
   "source": [
    "\n",
    "## Mid-point method\n",
    "\n",
    "* So, we have a method that allows us to integrate forward as long as our step size is small enough. However, we want the step size to be large to keep our method fast. What can we do to improve this?\n",
    "\n",
    "* We showed an example of a second order method if we know the second derivative to help in our Taylor series. We can so similarly well with other schemes.\n",
    "\n",
    "<img src=\"https://docs.google.com/drawings/d/e/2PACX-1vRnHTAakWpLwYKmHHkSQtfEcBe9IYZse9Sz3DLt5paAkwYClrhBRzp88uAr4BxIFrn_2qA5YYmOhOhj/pub?w=460&amp;h=808\">"
   ]
  },
  {
   "cell_type": "markdown",
   "metadata": {
    "id": "4fIx9SanQedA",
    "colab_type": "text"
   },
   "source": [
    "The problem here is that $\\frac{dy}{dt}\\bigg|_{t=0}$ is not a good approximation everywhere in the interval and expectedly at the end. So, let's make a better approximation. Let's take a step half way across the interval using the first approximation.\n",
    "\\begin{align}\n",
    "y(\\Delta t) = y(0) + \\Delta t \\frac{dy}{dt} \\bigg|_{t = \\frac{\\Delta t}{2}}\\\\\n",
    "\\frac{dy}{dt}\\bigg|_{t = \\frac{\\Delta t}{2}} = \\frac{dy}{dt}\\bigg|_{t=0} + \\left( \\frac{\\Delta t}{2}\\right) \\frac{d^2y}{dt^2}\\bigg|_{t=0} + \\frac{1}{2} \\left( \\frac{\\Delta t}{2}\\right)^2 \\frac{d^3y}{dt^3}\\bigg|_{t=0} + ...\\\\\n",
    "y(\\Delta t) = y(t=0) + \\Delta t \\left(\\frac{dy}{dt}\\bigg|_{t=0} + \\frac{\\Delta t}{2} \\frac{d^2}{dt^2}\\bigg|_{t=0} + ... \\right)\n",
    "\\end{align}\n",
    "Last full term is the approximation of mid-point slope. Thus, mid-point method is an $O(\\Delta t^2)$ method without using any information from the second derivative. Proposed process:\n",
    "\\begin{align}\n",
    "y_{N+\\frac{1}{2}} = y_N + \\frac{\\Delta t}{2} \\frac{dy}{dt}\\bigg|_N\\\\\n",
    "y_{N+1} = y_N + \\Delta t \\frac{dy}{dt}\\bigg|_{N+\\frac{1}{2}}\n",
    "\\end{align}\n",
    "$\\underline{\\text{Ex}}$:  $\\frac{dy}{dt} = -y, \\hspace{1cm} y(t=0)=1$\n",
    "\\begin{align}\n",
    "y_{N+\\frac{1}{2}} = 1 + \\frac{\\Delta t}{2} \\frac{dy}{dt}\\bigg|_{t=0} = 1 - \\frac{\\Delta t}{2}\\\\\n",
    "y_{N+1} = 1 + \\Delta t \\left(- \\left(1 - \\frac{\\Delta t}{2} \\right) \\right) = 1 - \\Delta t \\left(1 - \\frac{\\Delta t}{2} \\right) \n",
    "\\end{align}"
   ]
  },
  {
   "cell_type": "markdown",
   "metadata": {
    "id": "TR_8tSGeb6g-",
    "colab_type": "text"
   },
   "source": [
    "## Python implementation of the mid-point method\n",
    "\n",
    "\n"
   ]
  },
  {
   "cell_type": "code",
   "metadata": {
    "id": "0dzEWI3EcAM8",
    "colab_type": "code",
    "colab": {}
   },
   "source": [
    "def midpoint_integrate(func, t, y0):\n",
    "  # func: the function to integrate, of the form\n",
    "  #       y'=F(t,y)\n",
    "  # y0:   the initial function value\n",
    "  # t:    the range of times to evaluate\n",
    "\n",
    "  y = [y0]\n",
    "  dt = t[1]-t[0]\n",
    "\n",
    "  #Loop through and implement the update\n",
    "  for new_time in t[1:]:\n",
    "\n",
    "    current_y = y[-1]\n",
    "\n",
    "    #Get the current derivative\n",
    "    yprime=func(t,current_y)\n",
    "\n",
    "    #Get the mid-point\n",
    "    yN12= current_y + yprime * dt/2\n",
    "\n",
    "    #Get the derivative at the mid-point\n",
    "    yprimeN12= func(t+dt/2, yN12) # fill this in\n",
    "\n",
    "    #Take the full step\n",
    "    updated_y= current_y + dt*yprimeN12 # fill this in\n",
    "\n",
    "    #Save the y\n",
    "    y.append(updated_y)\n",
    "\n",
    "  return y\n"
   ],
   "execution_count": 0,
   "outputs": []
  },
  {
   "cell_type": "code",
   "metadata": {
    "id": "W2qSS2lZfHc_",
    "colab_type": "code",
    "outputId": "0418564e-042b-4d8a-b4ef-ded78674dfeb",
    "executionInfo": {
     "status": "ok",
     "timestamp": 1582814452895,
     "user_tz": 300,
     "elapsed": 598,
     "user": {
      "displayName": "Zachary Ulissi",
      "photoUrl": "",
      "userId": "07633171379186475882"
     }
    },
    "colab": {
     "base_uri": "https://localhost:8080/",
     "height": 297
    }
   },
   "source": [
    "t = np.arange(0,2.1,0.5)\n",
    "y = euler_integrate(yprime, t, 1)\n",
    "plt.plot(t,y,'ok', label='1st-order Euler Sol''n')\n",
    "\n",
    "y = euler_2nd_derivative_integrate(yprime_yprimeprime, t, 1)\n",
    "plt.plot(t,y,'or', label='2nd-order Euler Sol''n')\n",
    "\n",
    "y = midpoint_integrate(yprime, t, 1)\n",
    "plt.plot(t,y,'ob', markersize=2, label='Mid-point method Sol''n')\n",
    "\n",
    "t = np.linspace(0,2,100)\n",
    "plt.plot(t,np.exp(-t),'k-', label='full solution, $e^{-t}$')\n",
    "\n",
    "plt.xlabel('t')\n",
    "plt.ylabel('y')\n",
    "plt.legend()\n"
   ],
   "execution_count": 0,
   "outputs": [
    {
     "output_type": "execute_result",
     "data": {
      "text/plain": [
       "<matplotlib.legend.Legend at 0x7fb5588d6cf8>"
      ]
     },
     "metadata": {
      "tags": []
     },
     "execution_count": 80
    },
    {
     "output_type": "display_data",
     "data": {
      "image/png": "[encoded data removed]",
      "text/plain": [
       "<Figure size 432x288 with 1 Axes>"
      ]
     },
     "metadata": {
      "tags": []
     }
    }
   ]
  },
  {
   "cell_type": "code",
   "metadata": {
    "id": "t0CPfxN1dlJS",
    "colab_type": "code",
    "outputId": "aaa697db-fd5c-429b-cc85-7c67f524f7b9",
    "executionInfo": {
     "status": "ok",
     "timestamp": 1582814518296,
     "user_tz": 300,
     "elapsed": 1188,
     "user": {
      "displayName": "Zachary Ulissi",
      "photoUrl": "",
      "userId": "07633171379186475882"
     }
    },
    "colab": {
     "base_uri": "https://localhost:8080/",
     "height": 301
    }
   },
   "source": [
    "# Scan over a range of time steps\n",
    "\n",
    "for dt in [1,.5,.1,.05,.01]:\n",
    "\n",
    "  # Calculate the solution\n",
    "  t = np.arange(0,2.01,dt)\n",
    "  y = euler_integrate(yprime, t, 1)\n",
    "\n",
    "  # Plot the error (difference beteween analytical \n",
    "  # solution and numerical solution)\n",
    "  plt.loglog(dt,abs(y[-1]-np.exp(-t[-1])),'ok')\n",
    "\n",
    "  # Calculate the solution\n",
    "  y = euler_2nd_derivative_integrate(yprime_yprimeprime, t, 1)\n",
    "\n",
    "  # Plot the error (difference beteween analytical \n",
    "  # solution and numerical solution)\n",
    "  plt.loglog(dt,abs(y[-1]-np.exp(-t[-1])),'or')\n",
    "\n",
    "  # Calculate the solution\n",
    "  y = midpoint_integrate(yprime, t, 1)\n",
    "\n",
    "  # Plot the error (difference beteween analytical \n",
    "  # solution and numerical solution)\n",
    "  plt.loglog(dt,abs(y[-1]-np.exp(-t[-1])),'ob', markersize=3)\n",
    "\n",
    "# Plot a simple -1 log scaling to show the error drops\n",
    "dt=np.logspace(-2,0);\n",
    "plt.plot(dt,dt/10,'k--',label='First order Euler')\n",
    "\n",
    "dt=np.logspace(-2,0);\n",
    "plt.plot(dt,dt**2./20,'r--', label='Euler with 2nd Derivatives, or Mid-Point')\n",
    "\n",
    "\n",
    "plt.xlabel('Time Step')\n",
    "plt.ylabel('Error at t=2 for y\\'=-y, y(0)=2')\n",
    "plt.legend()"
   ],
   "execution_count": 0,
   "outputs": [
    {
     "output_type": "execute_result",
     "data": {
      "text/plain": [
       "<matplotlib.legend.Legend at 0x7fb55884a278>"
      ]
     },
     "metadata": {
      "tags": []
     },
     "execution_count": 81
    },
    {
     "output_type": "display_data",
     "data": {
      "image/png": "[encoded data removed]",
      "text/plain": [
       "<Figure size 432x288 with 1 Axes>"
      ]
     },
     "metadata": {
      "tags": []
     }
    }
   ]
  },
  {
   "cell_type": "markdown",
   "metadata": {
    "id": "kNu2MajzYNg1",
    "colab_type": "text"
   },
   "source": [
    "## Final Method: Runge-Kutta"
   ]
  },
  {
   "cell_type": "markdown",
   "metadata": {
    "id": "UQJZDbEGYRIj",
    "colab_type": "text"
   },
   "source": [
    "* There are many possible ways to approximate these differential equations. Euler and mid-point are very simple and not widely used in practice. \n",
    "* Which method you use depends on your problem and limitations/constraints. \n",
    "* The Runge-Kutta method works very well and is widely used in practice, and is a reasonable trade-off in Order, complexity, speed etc. This is an $O(\\Delta t^4)$ method - extemely powerful.\\\n",
    "Def:\n",
    "\\begin{align}\n",
    "k_1 &= \\Delta t \\cdot f(t^N, y^N)\\\\\n",
    "k_2 &= \\Delta t \\cdot f\\left(t^N+\\frac{\\Delta t}{2}, y^N + \\frac{k_1}{2}\\right)\\\\\n",
    "k_3 &= \\Delta t \\cdot f\\left(t^N+\\frac{\\Delta t}{2}, y^N + \\frac{k_2}{2}\\right)\\\\\n",
    "k_4 &= \\Delta t \\cdot f(t^N+\\Delta t, y^N + k_3)\\\\\n",
    "y^{N+1} &= y^N + \\frac{k_1}{6} + \\frac{k_2}{3} + \\frac{k_3}{3} +  \\frac{k_4}{6}\n",
    "\\end{align}\n",
    "Very similar to ODE45 in Matlab\n"
   ]
  },
  {
   "cell_type": "markdown",
   "metadata": {
    "id": "YXqanBqFgC9-",
    "colab_type": "text"
   },
   "source": [
    "# Numerical integration in scipy\n",
    "\n",
    "* scipy contains a well-rounded ODE integration method ``scipy.integrate.solve_ivp``. It works pretty much the same as the other methods we've seen in terms of functional form. Linke here: https://docs.scipy.org/doc/scipy/reference/generated/scipy.integrate.solve_ivp.html#scipy.integrate.solve_ivp\n",
    "* The only additional trick is that this method can figure out a reasonable guess for the step size\n",
    "\n"
   ]
  },
  {
   "cell_type": "code",
   "metadata": {
    "id": "bwIUBCWMhXHy",
    "colab_type": "code",
    "outputId": "527dce56-fb8f-4520-cecb-5e385de7248f",
    "executionInfo": {
     "status": "ok",
     "timestamp": 1582815011711,
     "user_tz": 300,
     "elapsed": 625,
     "user": {
      "displayName": "Zachary Ulissi",
      "photoUrl": "",
      "userId": "07633171379186475882"
     }
    },
    "colab": {
     "base_uri": "https://localhost:8080/",
     "height": 297
    }
   },
   "source": [
    "from scipy.integrate import solve_ivp\n",
    "\n",
    "def yprime(t,y):\n",
    "  return -y\n",
    "\n",
    "sol = solve_ivp(yprime, [0,2], [1])\n",
    "\n",
    "plt.plot(sol.t,sol.y[0,:],'ok',label='solve_ivp')\n",
    "\n",
    "t = np.linspace(0,2,100)\n",
    "plt.plot(t,np.exp(-t),'k-', label='full solution, $e^{-t}$')\n",
    "\n",
    "plt.xlabel('t')\n",
    "plt.ylabel('y')\n",
    "plt.legend()\n"
   ],
   "execution_count": 0,
   "outputs": [
    {
     "output_type": "execute_result",
     "data": {
      "text/plain": [
       "<matplotlib.legend.Legend at 0x7fb558616240>"
      ]
     },
     "metadata": {
      "tags": []
     },
     "execution_count": 82
    },
    {
     "output_type": "display_data",
     "data": {
      "image/png": "[encoded data removed]",
      "text/plain": [
       "<Figure size 432x288 with 1 Axes>"
      ]
     },
     "metadata": {
      "tags": []
     }
    }
   ]
  },
  {
   "cell_type": "markdown",
   "metadata": {
    "id": "JbvgKM3Xicgg",
    "colab_type": "text"
   },
   "source": [
    "We can also do the same thing and get it to evaluate at a bunch of points. "
   ]
  },
  {
   "cell_type": "code",
   "metadata": {
    "id": "4NCcApiujHV5",
    "colab_type": "code",
    "outputId": "0929a1dc-651d-4fa6-afc5-587e94391fda",
    "executionInfo": {
     "status": "ok",
     "timestamp": 1582815098088,
     "user_tz": 300,
     "elapsed": 540,
     "user": {
      "displayName": "Zachary Ulissi",
      "photoUrl": "",
      "userId": "07633171379186475882"
     }
    },
    "colab": {
     "base_uri": "https://localhost:8080/",
     "height": 297
    }
   },
   "source": [
    "from scipy.integrate import solve_ivp\n",
    "\n",
    "def yprime(t,y):\n",
    "  return -y\n",
    "\n",
    "t = np.linspace(0,2,20)\n",
    "\n",
    "sol = solve_ivp(yprime, [0,2], [1], t_eval=t)\n",
    "\n",
    "plt.plot(sol.t,sol.y[0,:],'ok',label='solve_ivp')\n",
    "\n",
    "t = np.linspace(0,2,100)\n",
    "plt.plot(t,np.exp(-t),'k-', label='full solution, $e^{-t}$')\n",
    "\n",
    "plt.xlabel('t')\n",
    "plt.ylabel('y')\n",
    "plt.legend()\n"
   ],
   "execution_count": 0,
   "outputs": [
    {
     "output_type": "execute_result",
     "data": {
      "text/plain": [
       "<matplotlib.legend.Legend at 0x7fb558844eb8>"
      ]
     },
     "metadata": {
      "tags": []
     },
     "execution_count": 83
    },
    {
     "output_type": "display_data",
     "data": {
      "image/png": "[encoded data removed]",
      "text/plain": [
       "<Figure size 432x288 with 1 Axes>"
      ]
     },
     "metadata": {
      "tags": []
     }
    }
   ]
  },
  {
   "cell_type": "markdown",
   "metadata": {
    "id": "dwUJfZncjMu4",
    "colab_type": "text"
   },
   "source": [
    "* The solve_ivp documentation has some nice comments for what to do it things go wrong:\n",
    "\n",
    "``If not sure, first try to run \u2018RK45\u2019. If it makes unusually many iterations, diverges, or fails, your problem is likely to be stiff and you should use \u2018Radau\u2019 or \u2018BDF\u2019. \u2018LSODA\u2019 can also be a good universal choice, but it might be somewhat less convenient to work with as it wraps old Fortran code``\n",
    "\n",
    "\n"
   ]
  },
  {
   "cell_type": "markdown",
   "metadata": {
    "id": "laLGe2JmadYz",
    "colab_type": "text"
   },
   "source": [
    "### Higher order example"
   ]
  },
  {
   "cell_type": "markdown",
   "metadata": {
    "id": "W8h_XTllkaqe",
    "colab_type": "text"
   },
   "source": [
    "Notice that we haven't really discussed any higher-order examples, just first order differential equations. We can solve higher order differential equations using a little trick. We haven'y really talked about systems of differential equations, but let's take a little detour based no the notes from Tuesday. \n",
    "\n",
    "We're interested in trying to solve $$y''+2y'-3y=0, y(0)=1, y'(0)=4$$. A system of differential equations is (which we'll discuss in more detail later) is:\n",
    "\\begin{align}\n",
    "\\vec{y} = \\begin{bmatrix} y_1 \\\\ y_2 \\end{bmatrix}&& \\vec{y}' = \\begin{bmatrix} y_1' \\\\ y_2'  \\end{bmatrix} \n",
    "\\end{align}\n",
    "For a second order differential equation, let's say $y_1=y$ and $y_2=y'$. That leaves:\n",
    "\\begin{align}\n",
    "\\vec{y} = \\begin{bmatrix} y\\\\y' \\end{bmatrix}&& \\vec{y}' = \\begin{bmatrix} y' \\\\ y''  \\end{bmatrix} \n",
    "\\end{align}\n",
    "We can use the ODE to substitute for the y'' assuming we can re-arrange correctly.\n",
    "\\begin{align}\n",
    "\\vec{y} = \\begin{bmatrix} y\\\\y' \\end{bmatrix}&& \\vec{y}' = \\begin{bmatrix} y' \\\\ 3y-2y'  \\end{bmatrix}&&\\vec{y}(t=0) = \\begin{bmatrix} 1\\\\4  \\end{bmatrix} \n",
    "\\end{align}\n",
    "\n",
    "We can easily solve this with ``solve_ivp``. "
   ]
  },
  {
   "cell_type": "code",
   "metadata": {
    "id": "ER2Zvz0gmEr7",
    "colab_type": "code",
    "outputId": "b860a59a-e08e-4aaf-8ae2-56081a56442c",
    "executionInfo": {
     "status": "ok",
     "timestamp": 1582815563614,
     "user_tz": 300,
     "elapsed": 653,
     "user": {
      "displayName": "Zachary Ulissi",
      "photoUrl": "",
      "userId": "07633171379186475882"
     }
    },
    "colab": {
     "base_uri": "https://localhost:8080/",
     "height": 297
    }
   },
   "source": [
    "def second_order_yprime(t, y_vec):\n",
    "  # t is the same t as before\n",
    "  # y_vec is now a vector of y, y'\n",
    "\n",
    "  y, yprime = y_vec\n",
    "\n",
    "  return [yprime, \n",
    "          3*y-2*yprime]\n",
    "\n",
    "t = np.linspace(0,2,20)\n",
    "\n",
    "y_vec_initial = [0,4]\n",
    "\n",
    "sol = solve_ivp(second_order_yprime, [0,2], y_vec_initial, t_eval=t)\n",
    "\n",
    "plt.plot(sol.t,sol.y[0,:],'k-',label='solve_ivp')\n",
    "\n",
    "plt.xlabel('t')\n",
    "plt.ylabel('y')\n",
    "plt.legend()\n"
   ],
   "execution_count": 0,
   "outputs": [
    {
     "output_type": "execute_result",
     "data": {
      "text/plain": [
       "<matplotlib.legend.Legend at 0x7fb5586259e8>"
      ]
     },
     "metadata": {
      "tags": []
     },
     "execution_count": 84
    },
    {
     "output_type": "display_data",
     "data": {
      "image/png": "[encoded data removed]",
      "text/plain": [
       "<Figure size 432x288 with 1 Axes>"
      ]
     },
     "metadata": {
      "tags": []
     }
    }
   ]
  },
  {
   "cell_type": "markdown",
   "metadata": {
    "id": "NtDoD1ejnoWk",
    "colab_type": "text"
   },
   "source": [
    "# In-class example\n",
    "\n"
   ]
  },
  {
   "cell_type": "markdown",
   "metadata": {
    "id": "51RsMnnUn2vg",
    "colab_type": "text"
   },
   "source": [
    "Solve the system $$y''+0.5y'+y=0, y(0)=3,y'(0)=4$$\n",
    "\n",
    "Note that this system has complex roots to the characteristic equation!"
   ]
  },
  {
   "cell_type": "code",
   "metadata": {
    "id": "HkBLDSsrnroU",
    "colab_type": "code",
    "outputId": "8ecb4545-4fcb-40cf-b238-6974c41624f4",
    "executionInfo": {
     "status": "ok",
     "timestamp": 1582815925907,
     "user_tz": 300,
     "elapsed": 688,
     "user": {
      "displayName": "Zachary Ulissi",
      "photoUrl": "",
      "userId": "07633171379186475882"
     }
    },
    "colab": {
     "base_uri": "https://localhost:8080/",
     "height": 297
    }
   },
   "source": [
    "def second_order_yprime(t, y_vec):\n",
    "  # t is the same t as before\n",
    "  # y_vec is now a vector of y, y'\n",
    "\n",
    "  y, yprime = y_vec\n",
    "\n",
    "  return [ yprime, # fill this in, first derivative of y, \n",
    "          -0.5*yprime-y] # fill this in, second derivative of y\n",
    "\n",
    "t = np.linspace(0,10,100)\n",
    "\n",
    "y_vec_initial = [3,4]\n",
    "\n",
    "sol = solve_ivp(second_order_yprime, [0,10], y_vec_initial, t_eval=t)\n",
    "\n",
    "\n",
    "plt.plot(sol.t,sol.y[0,:],'k-',label='solve_ivp')\n",
    "\n",
    "sol = solve_ivp(second_order_yprime, [0,10], y_vec_initial)\n",
    "\n",
    "plt.plot(sol.t,sol.y[0,:],'ko',label='solve_ivp points')\n",
    "\n",
    "plt.xlabel('t')\n",
    "plt.ylabel('y')\n",
    "plt.legend()\n"
   ],
   "execution_count": 0,
   "outputs": [
    {
     "output_type": "execute_result",
     "data": {
      "text/plain": [
       "<matplotlib.legend.Legend at 0x7fb55558f828>"
      ]
     },
     "metadata": {
      "tags": []
     },
     "execution_count": 85
    },
    {
     "output_type": "display_data",
     "data": {
      "image/png": "[encoded data removed]",
      "text/plain": [
       "<Figure size 432x288 with 1 Axes>"
      ]
     },
     "metadata": {
      "tags": []
     }
    }
   ]
  },
  {
   "cell_type": "markdown",
   "metadata": {
    "id": "5GiIYcwplJAU",
    "colab_type": "text"
   },
   "source": [
    "## Practical tips:\n",
    "* Very important to check whether the answer is reasonable\n",
    "* If you solve a problem with $\\Delta t = 0.1$ (or some other number), always check that your answer does not change with $\\Delta t = \\frac{0.1}{2}$\n",
    "* Before solving a problem with numerical methods, make sure you can correctly code the RHS of the equation.\n",
    "* If you are getting strange results, try a stiff solver instead. See the notes in t"
   ]
  }
 ]
}