{
 "nbformat": 4,
 "nbformat_minor": 0,
 "metadata": {
  "colab": {
   "name": "11a-transient-CSTR-solution.ipynb",
   "provenance": [],
   "collapsed_sections": []
  },
  "kernelspec": {
   "name": "python3",
   "display_name": "Python 3"
  }
 },
 "cells": [
  {
   "cell_type": "markdown",
   "metadata": {
    "id": "PuvuSPIf5J_y",
    "colab_type": "text",
    "badge": true,
    "repo_name": "ulissigroup/math-methods-chemical-engineering",
    "branch": "master",
    "nb_path": "lecture_notes/11a-transient-CSTR-solution.ipynb",
    "comment": "This badge cell was added by colab-badge-action"
   },
   "source": [
    "<a href=\"https://colab.research.google.com/github/ulissigroup/math-methods-chemical-engineering/blob/master/lecture_notes/11a-transient-CSTR-solution.ipynb\" target=\"_parent\"><img src=\"https://colab.research.google.com/assets/colab-badge.svg\" alt=\"Open In Colab\"/></a>\n",
    "$$\\newcommand{\\arr}[1]{\\underline{\\underline{#1}}}$$    \n",
    "$$\\newcommand{\\vec}[1]{\\underline{#1}}$$   \n",
    "$$\\require{mhchem}$$\n"
   ]
  },
  {
   "cell_type": "markdown",
   "metadata": {
    "id": "Fd66EUfa5q8X",
    "colab_type": "text"
   },
   "source": [
    "# Reactor sizing problem. [25 pt]\n",
    "\n",
    "You\u2019re going to solve help me solve a reaction engineering problem without taking reaction engineering. Don\u2019t tell your instructors next year, just tell them how obvious it when you do the first homework! (25 pt) \n",
    "\n",
    "Consider the reaction $\\ce{A->B}$. The reaction is second order ($r=-k C_A^2$), $k=300$dm$^3$/mol/hr\n",
    "\n",
    "* For a CSTR with constant inflow (constant concentration of A coming in) and outflow like we did in class, use a mass or mol balance on A to find the differential equation for A. The flow rate rate in is 10 dm$^3$/hr. The concentration in the inlet stream is 0.5 mol/dm$^3$.\n",
    "* Solve for the particular solution assuming you know the volume V. "
   ]
  },
  {
   "cell_type": "markdown",
   "metadata": {
    "id": "Dx99irJq6cY_",
    "colab_type": "text"
   },
   "source": [
    "The differential equation that we need to solve is:\n",
    "\\begin{align*}\n",
    "\\frac{dC_AV}{dt}=QC_{af}-QC_A-kVC_A^2&& C_A(t=0)=C_{A0}\n",
    "\\end{align*}"
   ]
  },
  {
   "cell_type": "markdown",
   "metadata": {
    "id": "hVpZ00fd6ogE",
    "colab_type": "text"
   },
   "source": [
    "# Solution for a transient CSTR\n",
    "\n",
    "First, we assume that the volume is constant. \n",
    "\\begin{align*}\n",
    "V\\frac{dC_A}{dt}=QC_{af}-QC_A-kVC_A^2\n",
    "\\end{align*}\n",
    "Rearranging\n",
    "\\begin{align*}\n",
    "\\frac{dC_A}{dt}=\\frac{Q}{V}C_{af}-\\frac{Q}{V}C_A-kC_A^2\n",
    "\\end{align*}\n",
    "Let's define $\\tau=V/Q$ to make our lives easier.\n",
    "\\begin{align*}\n",
    "\\frac{dC_A}{dt}=\\frac{1}{\\tau}C_{af}-\\frac{1}{\\tau}C_A-kC_A^2=\\frac{-1}{\\tau}(k\\tau C_A^2+C_A-C_{af})\n",
    "\\end{align*}\n",
    "This is already separable:\n",
    "\\begin{align*}\n",
    "\\frac{dC_A}{k\\tau C_A^2+C_A-C_{af}}=\\frac{-dt}{\\tau}\n",
    "\\end{align*}\n",
    "Integrating both sides\n",
    "\\begin{align*}\n",
    "\\int\\frac{dC_A}{k\\tau C_A^2+C_A-C_{af}}=\\int\\frac{-dt}{\\tau}\n",
    "\\end{align*}\n",
    "Now, the left hand side is possible with the integral formula\n",
    "\\begin{align*}\n",
    "\\int \\frac{dx}{ax^2+bx+c}=\\frac{2}{\\sqrt{4ac-b^2}}\\tan^{-1}\\left(\\frac{2ax+b}{\\sqrt{4ac-b^2}}\\right)\n",
    "\\end{align*}\n",
    "This is the same as the previous integral, with $a=k, b=1, c=-C_{af}$. Let's define\n",
    "\\begin{align*}\n",
    "\\beta=\\sqrt{4ac-b^2}=\\sqrt{-4k\\tau C_{af}-1}\n",
    "\\end{align*}\n",
    "This is actually imaginary! Very interesting, but let's not worry about it for now. So, we have\n",
    "\\begin{align*}\n",
    "\\frac{2}{\\sqrt{-4k\\tau C_{af}-1}}\\tan^{-1}\\left(\\frac{2k\\tau C_A+1}{\\sqrt{-4\\tau kC_{af}-1}}\\right)=\\frac{-t}{\\tau}+\\alpha\n",
    "\\end{align*}\n",
    "where $\\alpha$ is the currently unknown constant of integration. Substitute $\\beta$\n",
    "\\begin{align*}\n",
    "\\frac{2}{\\beta}\\tan^{-1}\\left(\\frac{2k\\tau C_A+1}{\\beta}\\right)=\\frac{-t}{\\tau}+\\alpha\n",
    "\\end{align*}\n",
    "Solving for $C_A$\n",
    "\\begin{align*}\n",
    "\\frac{2k\\tau C_A+1}{\\beta}&=\\tan\\left(-\\frac{\\beta}{2}t+\\alpha\\right)\\\\\n",
    "C_A&=\\frac{1}{2k\\tau }\\left[\\beta\\tan\\left(-\\frac{\\beta}{2}t+\\alpha\\right)-1\\right]\n",
    "\\end{align*}\n",
    "Pretty close! Now we just have to solve for $\\alpha$ from the innitial condition $C_A(t=0)=C_{A0}$.\n",
    "\\begin{align*}\n",
    "C_A(t=0)&=C_{A0}=\\frac{1}{2k\\tau }\\left[\\beta\\tan\\alpha-1\\right]\\\\\n",
    "\\alpha&=\\tan^{-1}\\left(\\frac{2k\\tau C_{A0}+1}{\\beta}\\right)\n",
    "\\end{align*}\n",
    "Plugging this back in:\n",
    "\\begin{align*}\n",
    "C_A&=\\frac{1}{2k\\tau }\\left[\\beta\\tan\\left(-\\frac{\\beta}{2}t+\\tan^{-1}\\left(\\frac{2k\\tau C_{A0}+1}{\\beta}\\right)\\right)-1\\right]\n",
    "\\end{align*}\n",
    "\n",
    "At this point, it's completely unclear to me what this looks like, so let's just go ahead and plot this thing with some reference values."
   ]
  },
  {
   "cell_type": "code",
   "metadata": {
    "id": "ZS3-O-C2j_q6",
    "colab_type": "code",
    "outputId": "0ca3aff0-3960-4050-c4b4-fb47be783e74",
    "executionInfo": {
     "status": "ok",
     "timestamp": 1582208359283,
     "user_tz": 300,
     "elapsed": 842,
     "user": {
      "displayName": "Zachary Ulissi",
      "photoUrl": "",
      "userId": "07633171379186475882"
     }
    },
    "colab": {
     "base_uri": "https://localhost:8080/",
     "height": 330
    }
   },
   "source": [
    "import numpy as np\n",
    "\n",
    "V = 10 #dm^3\n",
    "Q = 10 #dm^3/hr\n",
    "k = 300 #dm^3/mol/hr\n",
    "Caf = 0.5 #mol/dm^3\n",
    "Ca0 = 4 #mol/dm^3\n",
    "\n",
    "t = np.linspace(0,0.5)\n",
    "\n",
    "beta=(-4*k*Caf-1)**0.5\n",
    "\n",
    "Ca = 1/2/k*(beta*np.tan(-beta/2*t+\n",
    "                        np.arctan((2*k*Ca0+1)/beta))-1)\n",
    "\n",
    "import matplotlib.pyplot as plt\n",
    "\n",
    "plt.plot(t,Ca)\n",
    "plt.xlabel('t')\n",
    "plt.ylabel('C_A')"
   ],
   "execution_count": 0,
   "outputs": [
    {
     "output_type": "stream",
     "text": [
      "/usr/local/lib/python3.6/dist-packages/numpy/core/_asarray.py:85: ComplexWarning: Casting complex values to real discards the imaginary part\n",
      "  return array(a, dtype, copy=False, order=order)\n"
     ],
     "name": "stderr"
    },
    {
     "output_type": "execute_result",
     "data": {
      "text/plain": [
       "Text(0, 0.5, 'C_A')"
      ]
     },
     "metadata": {
      "tags": []
     },
     "execution_count": 18
    },
    {
     "output_type": "display_data",
     "data": {
      "image/png": "[encoded data removed]",
      "text/plain": [
       "<Figure size 432x288 with 1 Axes>"
      ]
     },
     "metadata": {
      "tags": []
     }
    }
   ]
  },
  {
   "cell_type": "markdown",
   "metadata": {
    "id": "EOgb7XpPp66a",
    "colab_type": "text"
   },
   "source": [
    "Let's check $C_A$ to see what it looks like since we're getting this warning."
   ]
  },
  {
   "cell_type": "code",
   "metadata": {
    "id": "XI2IWS3Dpeqz",
    "colab_type": "code",
    "outputId": "8760ff23-54d4-497c-e6f0-91e03c27e0c0",
    "executionInfo": {
     "status": "ok",
     "timestamp": 1582207733613,
     "user_tz": 300,
     "elapsed": 451,
     "user": {
      "displayName": "Zachary Ulissi",
      "photoUrl": "",
      "userId": "07633171379186475882"
     }
    },
    "colab": {
     "base_uri": "https://localhost:8080/",
     "height": 446
    }
   },
   "source": [
    "Ca"
   ],
   "execution_count": 0,
   "outputs": [
    {
     "output_type": "execute_result",
     "data": {
      "text/plain": [
       "array([1.        +1.43979487e-15j, 0.61990999+5.38445124e-16j,\n",
       "       0.44933556+2.74708364e-16j, 0.35256583+1.63856910e-16j,\n",
       "       0.29028362+1.07357130e-16j, 0.24688703+7.48624611e-17j,\n",
       "       0.21495173+5.45551515e-17j, 0.19049393+4.10696872e-17j,\n",
       "       0.17118427+3.16893337e-17j, 0.15556976+2.49212714e-17j,\n",
       "       0.14269706+1.98911982e-17j, 0.1319147 +1.60601726e-17j,\n",
       "       0.12276235+1.30817222e-17j, 0.11490551+1.07251439e-17j,\n",
       "       0.10809525+8.83217081e-18j, 0.10214251+7.29140892e-18j,\n",
       "       0.09690107+6.02268842e-18j, 0.09225614+4.96717249e-18j,\n",
       "       0.08811625+4.08092768e-18j, 0.0844077 +3.33063977e-18j,\n",
       "       0.08107038+2.69069586e-18j, 0.0780548 +2.14115734e-18j,\n",
       "       0.07531984+1.66632679e-18j, 0.07283105+1.25371820e-18j,\n",
       "       0.07055934+8.93306329e-19j, 0.06848   +5.76971982e-19j,\n",
       "       0.06657187+2.98087251e-19j, 0.06481675+5.12017325e-20j,\n",
       "       0.0631989 -1.68197263e-19j, 0.06170462-3.63869746e-19j,\n",
       "       0.06032194-5.38967122e-19j, 0.05904035-6.96145292e-19j,\n",
       "       0.05785059-8.37654154e-19j, 0.05674448-9.65408922e-19j,\n",
       "       0.05571474-1.08104737e-18j, 0.05475487-1.18597604e-18j,\n",
       "       0.0538591 -1.28140784e-18j, 0.05302221-1.36839268e-18j,\n",
       "       0.05223954-1.44784272e-18j, 0.05150688-1.52055320e-18j,\n",
       "       0.0508204 -1.58721967e-18j, 0.05017666-1.64845244e-18j,\n",
       "       0.04957252-1.70478860e-18j, 0.04900513-1.75670215e-18j,\n",
       "       0.04847187-1.80461258e-18j, 0.04797038-1.84889210e-18j,\n",
       "       0.04749845-1.88987177e-18j, 0.04705411-1.92784680e-18j,\n",
       "       0.04663549-1.96308101e-18j, 0.04624093-1.99581069e-18j])"
      ]
     },
     "metadata": {
      "tags": []
     },
     "execution_count": 6
    }
   ]
  },
  {
   "cell_type": "markdown",
   "metadata": {
    "id": "RnmIzYgtp5lL",
    "colab_type": "text"
   },
   "source": [
    "Notice that the imaginary part is basically zero in every case. "
   ]
  },
  {
   "cell_type": "markdown",
   "metadata": {
    "id": "qwj3iLQpqFmY",
    "colab_type": "text"
   },
   "source": [
    "We can actually simplify this down even further! If we use the definition of the arctan of an imaginary number, and the definition of tan of imaginary numbers, we eventually get to\n",
    "\\begin{align*}\n",
    "C_A=\\frac{-Q}{2Vk}+\\frac{\\sqrt{Q^2+4C_{af}kVQ}}{2Vk}\\tanh\\left(\\frac{\\sqrt{Q^2+4C_{af}kVQ}}{2V}t+2\\tanh^{-1}\\left[\\frac{Q+2C_{A0}kV}{\\sqrt{Q^2+4C_{af}kVQ}}\\right]\\right)\n",
    "\\end{align*}\n",
    "\n",
    "The two definitions you need to make this happen are:\n",
    "\\begin{align*}\n",
    "i\\tanh z=\\tan iz && \\tan^{-1}(ix)=i\\tanh^{-1}(x)\n",
    "\\end{align*}\n"
   ]
  },
  {
   "cell_type": "code",
   "metadata": {
    "id": "k_eBGxq_r9uZ",
    "colab_type": "code",
    "outputId": "a31ad2c2-383f-4c6a-df32-d8887355100f",
    "executionInfo": {
     "status": "ok",
     "timestamp": 1582208131162,
     "user_tz": 300,
     "elapsed": 718,
     "user": {
      "displayName": "Zachary Ulissi",
      "photoUrl": "",
      "userId": "07633171379186475882"
     }
    },
    "colab": {
     "base_uri": "https://localhost:8080/",
     "height": 610
    }
   },
   "source": [
    "# Original equation\n",
    "Ca = 1/2/k*(beta*np.tan(-beta/2*t+\n",
    "                        np.arctan((2*k*Ca0+1)/beta))-1)\n",
    "\n",
    "# Simplified equation\n",
    "alpha = (Q**2+4*Caf*k*V*Q)**0.5\n",
    "Ca_simplified = -Q/2/V/k + alpha/2/V/k*np.tanh(alpha/2/V*t+np.arctanh((Q+2*Ca0*k*V)/alpha+0j)  )\n",
    "import matplotlib.pyplot as plt\n",
    "\n",
    "plt.plot(t,Ca)\n",
    "plt.xlabel('Time [hr]')\n",
    "plt.ylabel('C_A [mol/dm^3]')\n",
    "plt.show()\n",
    "plt.plot(t,Ca_simplified)\n",
    "plt.xlabel('Time [hr]')\n",
    "plt.ylabel('C_A, simplified [mol/dm^3]')\n",
    "plt.show()"
   ],
   "execution_count": 0,
   "outputs": [
    {
     "output_type": "stream",
     "text": [
      "/usr/local/lib/python3.6/dist-packages/numpy/core/_asarray.py:85: ComplexWarning: Casting complex values to real discards the imaginary part\n",
      "  return array(a, dtype, copy=False, order=order)\n"
     ],
     "name": "stderr"
    },
    {
     "output_type": "display_data",
     "data": {
      "image/png": "[encoded data removed]",
      "text/plain": [
       "<Figure size 432x288 with 1 Axes>"
      ]
     },
     "metadata": {
      "tags": []
     }
    },
    {
     "output_type": "stream",
     "text": [
      "/usr/local/lib/python3.6/dist-packages/numpy/core/_asarray.py:85: ComplexWarning: Casting complex values to real discards the imaginary part\n",
      "  return array(a, dtype, copy=False, order=order)\n"
     ],
     "name": "stderr"
    },
    {
     "output_type": "display_data",
     "data": {
      "image/png": "[encoded data removed]",
      "text/plain": [
       "<Figure size 432x288 with 1 Axes>"
      ]
     },
     "metadata": {
      "tags": []
     }
    }
   ]
  },
  {
   "cell_type": "code",
   "metadata": {
    "id": "FRsrmtDuyB12",
    "colab_type": "code",
    "outputId": "3a74e21b-c650-4c6c-e708-182c20d715ab",
    "executionInfo": {
     "status": "ok",
     "timestamp": 1582155812793,
     "user_tz": 300,
     "elapsed": 470,
     "user": {
      "displayName": "Zachary Ulissi",
      "photoUrl": "",
      "userId": "07633171379186475882"
     }
    },
    "colab": {
     "base_uri": "https://localhost:8080/",
     "height": 451
    }
   },
   "source": [
    "Ca_simplified"
   ],
   "execution_count": 0,
   "outputs": [
    {
     "output_type": "execute_result",
     "data": {
      "text/plain": [
       "array([0.00166113-4.97057185e-18j, 0.00267418-4.94728687e-18j,\n",
       "       0.00368187-4.91802208e-18j, 0.00468297-4.88292074e-18j,\n",
       "       0.00567633-4.84215300e-18j, 0.0066608 -4.79591414e-18j,\n",
       "       0.00763528-4.74442264e-18j, 0.00859872-4.68791805e-18j,\n",
       "       0.00955014-4.62665865e-18j, 0.01048857-4.56091905e-18j,\n",
       "       0.01141315-4.49098771e-18j, 0.01232304-4.41716436e-18j,\n",
       "       0.01321748-4.33975747e-18j, 0.01409576-4.25908171e-18j,\n",
       "       0.01495726-4.17545548e-18j, 0.01580141-4.08919855e-18j,\n",
       "       0.01662769-4.00062975e-18j, 0.01743567-3.91006486e-18j,\n",
       "       0.01822498-3.81781463e-18j, 0.01899529-3.72418294e-18j,\n",
       "       0.01974637-3.62946520e-18j, 0.02047801-3.53394685e-18j,\n",
       "       0.02119007-3.43790216e-18j, 0.02188249-3.34159308e-18j,\n",
       "       0.02255523-3.24526842e-18j, 0.02320832-3.14916313e-18j,\n",
       "       0.02384181-3.05349774e-18j, 0.02445583-2.95847802e-18j,\n",
       "       0.02505051-2.86429478e-18j, 0.02562606-2.77112379e-18j,\n",
       "       0.0261827 -2.67912582e-18j, 0.02672067-2.58844687e-18j,\n",
       "       0.02724027-2.49921841e-18j, 0.0277418 -2.41155776e-18j,\n",
       "       0.02822559-2.32556857e-18j, 0.028692  -2.24134129e-18j,\n",
       "       0.02914138-2.15895380e-18j, 0.02957414-2.07847194e-18j,\n",
       "       0.02999065-1.99995022e-18j, 0.03039133-1.92343245e-18j,\n",
       "       0.03077658-1.84895242e-18j, 0.03114683-1.77653458e-18j,\n",
       "       0.0315025 -1.70619473e-18j, 0.03184401-1.63794068e-18j,\n",
       "       0.0321718 -1.57177290e-18j, 0.03248628-1.50768519e-18j,\n",
       "       0.03278788-1.44566526e-18j, 0.03307703-1.38569537e-18j,\n",
       "       0.03335413-1.32775285e-18j, 0.0336196 -1.27181069e-18j])"
      ]
     },
     "metadata": {
      "tags": []
     },
     "execution_count": 41
    }
   ]
  },
  {
   "cell_type": "markdown",
   "metadata": {
    "id": "79p_exLD00eC",
    "colab_type": "text"
   },
   "source": [
    "Notice the two solutions are exactly the same! "
   ]
  },
  {
   "cell_type": "code",
   "metadata": {
    "id": "n3Pe-TrT2QEv",
    "colab_type": "code",
    "colab": {}
   },
   "source": [
    ""
   ],
   "execution_count": 0,
   "outputs": []
  }
 ]
}