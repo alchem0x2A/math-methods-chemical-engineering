{
 "nbformat": 4,
 "nbformat_minor": 0,
 "metadata": {
  "colab": {
   "name": "16-coupled-odes",
   "provenance": [],
   "collapsed_sections": []
  },
  "kernelspec": {
   "name": "python3",
   "display_name": "Python 3"
  }
 },
 "cells": [
  {
   "cell_type": "markdown",
   "metadata": {
    "id": "65xtrrjwcbox",
    "colab_type": "text",
    "badge": true,
    "repo_name": "ulissigroup/math-methods-chemical-engineering",
    "branch": "master",
    "nb_path": "lecture_notes/16-coupled-odes.ipynb",
    "comment": "This badge cell was added by colab-badge-action"
   },
   "source": [
    "<a href=\"https://colab.research.google.com/github/ulissigroup/math-methods-chemical-engineering/blob/master/lecture_notes/16-coupled-odes.ipynb\" target=\"_parent\"><img src=\"https://colab.research.google.com/assets/colab-badge.svg\" alt=\"Open In Colab\"/></a>\n",
    "$$\\newcommand{\\arr}[1]{\\underline{\\underline{#1}}}$$    \n",
    "$$\\newcommand{\\vec}[1]{\\underline{#1}}$$   \n",
    "$$\\require{mhchem}$$"
   ]
  },
  {
   "cell_type": "markdown",
   "metadata": {
    "id": "HdcUtYHJrO_Q",
    "colab_type": "text"
   },
   "source": [
    "# Notes for online / zoom lectures from dry-run\n",
    "\n",
    "Zoom:\n",
    "* Please mute your mic's. You can easily unmute by clicking the unmute button, or you can also hold the spacebar to talk\n",
    "* In the participants list (button at the bottom to show), you can add feedback like \"raise your hand\" etc\n",
    "* You can annotate what I'm drawing by going to the top of your screen -> other -> annotate to help with asking questions\n",
    "* Lectures will be recorded for students in other time zones and posted to the google drive. Because there is student discussion, you may not share the recordings outside of this class in any way (federal regulations).\n",
    "* You can have your camera on or not. All things considered, I would probably prefer some of you having the cams on to get some sense of whether/how you are following along. It is not very exciting to talk to black rectangles.  \n",
    "* All class/OH zoom links are in the google calendar: https://calendar.google.com/calendar/b/1?cid=YW5kcmV3LmNtdS5lZHVfM3BwcHFmZjk4dDQ2ZDRjdm4xMjc0dms0a2tAZ3JvdXAuY2FsZW5kYXIuZ29vZ2xlLmNvbQ\n",
    "\n",
    "Class notes:\n",
    "* We will have a 5min break as normal\n",
    "* You are welcome to follow along with the notes in colab, or by directly going to the jamboard link, which allows you to flip between the note pages. \n",
    "* If copying/writing notes helps you remember content, you should continue to do that as if you were in class\n",
    "\n",
    "Logistics:\n",
    "* HW8 is due tomorrow Fri at noon EST. For this week, if you submit something you get credit for it. HW8 is on the exam.\n",
    "* There is a bonus OH today that Matt will lead 4-5pm\n",
    "* Exam 2 is on Tuesday. I will attempt to use the lockdown browser in canvas, but since this is a test I will also email the pdf's. ODE's are less formulaic than the linear algebra we needed, so I expect this exam will be harder for you than the first one. \n",
    "* If you are outside of EST and need to take the exam at another time, please email me this week\n"
   ]
  },
  {
   "cell_type": "markdown",
   "metadata": {
    "id": "kWcrbMYacd7x",
    "colab_type": "text"
   },
   "source": [
    "# Couple Differential Equations\n",
    "* Everything we've done so far has involved functions that depend only on independent variables:\\\n",
    "e.g.,\n",
    "\\begin{align}\n",
    "y(x) &&  or && y(x,t)\\\\\n",
    "\\frac{dy}{dx} \\text{ for ODEs } && && \n",
    "\\frac{\\partial y}{\\partial x} \\& \\frac{\\partial y}{\\partial t} \\text{ for PDEs}\n",
    "\\end{align}\n",
    "* Sometimes, functions can depend on other functions. e.g. given $y_1(x)$ & $y_2(x)$\n",
    "\\begin{align}\n",
    "\\frac{dy_1}{dx} = y_2\\\\\n",
    "\\frac{dy_2}{dx} = y_1 + \\sin x\n",
    "\\end{align}\n",
    "are coupled ODEs. Sometimes, we can solve by substitution (e.g. take derivative of equation 1 above and substitute into equation 2) but often will want/need to solve simultaneously."
   ]
  },
  {
   "cell_type": "markdown",
   "metadata": {
    "id": "3ivATgSNfDW-",
    "colab_type": "text"
   },
   "source": [
    "### Chemical Engineering Example\n",
    "Tanks in series example\n",
    "\n",
    "<img src=\"https://docs.google.com/drawings/d/e/2PACX-1vQ4Tx8bePykBg6D30A_nTyemk4WQsF4afTw65ZDy7k1ekplD1rXFc0q3P37WKdGpIURitwDuCEMawhb/pub?w=558&h=283\">\n",
    "\n",
    "\\begin{align}\n",
    "F_1 &= \\frac{h_1 - h_2}{R_1}\\\\\n",
    "F_{out} &= \\frac{h_2}{R_2}\n",
    "\\end{align}\n",
    "* No feed to first tank; $F_1$ and $F_{out}$ are volumetric flow rates controlled by resistance valves and are proportional to water height in each tank ( which is a function of time)\n",
    "* System is coupled because $F_1$ depends on both $h_1(t)$ and $h_2(t)$.\\\n",
    "Tank 1 MB: \n",
    "\\begin{align}\n",
    "\\frac{dM}{dt} &= -\\rho \\cdot F_1 && \\left[ \\frac{kg}{s} \\right] = \\left[\\frac{kg}{m^3} \\right] \\cdot \\left[\\frac{m^3}{s} \\right]\\\\\n",
    "\\rho A_1 \\frac{dh_1}{dt} &= -\\rho \\left(\\frac{h_1 - h_2}{R_1} \\right) && \\left[\\frac{kg}{m^3} \\right] \\cdot [m^2] \\cdot \\left[\\frac{m}{s} \\right] = \\left[\\frac{kg}{s} \\right]\\\\\n",
    "\\frac{dh_1}{dt} &= \\frac{h_2}{\\tau_1} - \\frac{h_1}{\\tau_1}\n",
    "\\end{align}\n",
    "where $\\tau \\equiv A_iR_i \\ [=] \\ time$ is the \"residence time\"\\\n",
    "Tank 2 MB: \n",
    "\\begin{align}\n",
    "\\rho A_2 \\frac{dh_2}{dt} &= \\rho(F_1 - F_{out})\\\\\n",
    "\\frac{dh_2}{dt} &= \\frac{1}{A_2} \\left( \\frac{h_1 - h_2}{R_1} - \\frac{h_2}{R_2}\\right)\\\\\n",
    "&= \\frac{R_2}{\\tau_2}\\left( \\frac{h_1 - h_2}{R_1} - \\frac{h_2}{R_2}\\right)\\\\\n",
    "&= \\frac{R_2h_1}{R_1\\tau_2} - \\frac{R_2h_2}{R_1\\tau_2} - \\frac{h_2}{\\tau_2}\\\\\n",
    "\\frac{dh_2}{dt} &= \\frac{R_2}{R_1\\tau_2}h_1 - \\frac{1}{\\tau_2}\\left(1 + \\frac{R_2}{R_1} \\right)h_2\n",
    "\\end{align}"
   ]
  },
  {
   "cell_type": "markdown",
   "metadata": {
    "id": "flTpLrZymt32",
    "colab_type": "text"
   },
   "source": [
    "## Convert two first-order diff eq to a second order diff eq\n",
    "$\\implies$ In HW7, the approach you used was to solve the system by taking the derivative of the $1^{st}$ MB and using it to eliminate $h_2(t)$\n",
    "\\begin{align}\n",
    "\\frac{d^2h_1}{dt^2} &= \\frac{1}{\\tau_1}\\frac{dh_2}{dt} - \\frac{1}{\\tau_1}\\frac{dh_1}{dt}\\\\\n",
    "\\frac{dh_2}{dt} &= \\tau_1 \\frac{d^2h_1}{dt^2} + \\frac{dh_1}{dt}\n",
    "\\end{align}\n",
    "And (from the $1^{st}$ MB):\n",
    "\\begin{align}\n",
    "h_2 = \\tau_1 \\frac{dh_1}{dt} + h_1\n",
    "\\end{align}\n",
    "* Plug those into MB #2\n",
    "\\begin{align}\n",
    "\\tau_1 \\frac{d^2h_1}{dt^2} + \\frac{dh_1}{dt} = \\frac{R_2}{R_1\\tau_2}h_1 - \\frac{1}{\\tau_2}\\left(1 + \\frac{R_2}{R_2} \\right)\\left(\\tau_1 \\frac{dh_1}{dt} + h_1 \\right)\n",
    "\\end{align}\n",
    "simplify:\n",
    "\\begin{align}\n",
    "h_1'' + \\left(\\frac{\\tau_2 + \\tau_1 + \\frac{R_2}{R_1}\\tau_1}{\\tau_1\\tau_2} \\right) h_1' + \\frac{1}{\\tau_1\\tau_2}h_1 = 0\n",
    "\\end{align}\n",
    "* whew! Now we need to solve for $h_1(t)$ and then plug back in to find $h_2(t)$\n",
    "* Too much work! Can we solve for $h_1(t)$ and $h_2(t)$ simultanously?\n"
   ]
  },
  {
   "cell_type": "markdown",
   "metadata": {
    "id": "PlBRWkOot2PH",
    "colab_type": "text"
   },
   "source": [
    "## Solving as coupled differential equations \n",
    "\n",
    "\\begin{align}\n",
    "h_1' &= -\\frac{1}{\\tau_1}h_1 + \\frac{1}{\\tau_1}h_2\\\\\n",
    "h_2' &= \\frac{R_2}{R_1\\tau_2}h_1 - \\left(1 + \\frac{R_2}{R_1} \\right)\\frac{1}{\\tau_2}h_2\n",
    "\\end{align}\n",
    "* Now let's set\n",
    "\\begin{align}\n",
    "a_{11} = -\\frac{1}{\\tau_1} && a_{12} = \\frac{1}{\\tau_1}\\\\\n",
    "a_{21} = \\frac{R_2}{R_1\\tau_2} && a_{22} = -\\frac{1}{\\tau_2}\\left(1 + \\frac{R_2}{R_1}\\right)\n",
    "\\end{align}\n",
    "\n",
    "* Then we have:\n",
    "\\begin{align}\n",
    "h_1' = a_{11}h_1 + a_{12}h_2\\\\\n",
    "h_2' = a_{21}h_1 + a_{22}h_2\n",
    "\\end{align}\n",
    "* Look familiar?\n",
    "\\begin{align}\n",
    "\\begin{bmatrix}h_1' \\\\ h_2' \\end{bmatrix} &= \\begin{bmatrix} a_{11} & a_{12} \\\\ a_{21} & a_{22}\\end{bmatrix} \\begin{bmatrix} h_1 \\\\ h_2 \\end{bmatrix}\\\\\n",
    "\\vec{h'} = \\arr{A} \\vec{h}\n",
    "\\end{align}\n",
    "* Let's foray into derivative matrices before returning to our tank problem\\\n",
    "Property: \n",
    "\\begin{align}\n",
    "\\begin{bmatrix}\\frac{dy_1}{dt} \\\\ \\frac{dy_2}{dt} \\end{bmatrix} = \\begin{bmatrix} y_1' \\\\ y_2' \\end{bmatrix} = \\frac{d}{dt}\\begin{bmatrix}y_1 \\\\ y_2 \\end{bmatrix} \\rightarrow \\text{take derivative of each element}\n",
    "\\end{align}\n",
    "$\\underline{\\text{Ex}}$: If $\\vec{y}(x) = \\begin{bmatrix}4t & 3t^2 \\\\ 2t^3 & t \\end{bmatrix}$, then $\\vec{y'}(x) = \\begin{bmatrix}4 & 6t \\\\ 6t^2 & 1 \\end{bmatrix}$\n",
    "* Goal is to solve $\\vec{y'} = \\frac{d}{dt} \\vec{y} = \\arr{A}\\vec{y}$ for $\\vec{y}(t)$\n",
    "\\begin{align}\n",
    "\\begin{bmatrix}y_1' \\\\ y_2' \\end{bmatrix} = \\begin{bmatrix} a_{11} & a_{12} \\\\ a_{21} & a_{22} \\end{bmatrix} \\begin{bmatrix} y_1 \\\\ y_2\\end{bmatrix}\n",
    "\\end{align}\n",
    "$y_1(t)$ and $y_2(t)$ are coupled functions, not basis functions.\n",
    "* Let's assume $\\vec{y}$ takes the form $\\vec{y} = \\vec{x}e^{\\lambda t}$ wher $\\vec{x}$ is a vector of constants\n",
    "\\begin{align}\n",
    "\\therefore \\vec{y'} = \\lambda \\vec{x}e^{\\lambda t}\n",
    "\\end{align}\n",
    "* Plugging back into $\\vec{y'} = \\arr{A}\\vec{y}$ gives\n",
    "\\begin{align}\n",
    "\\lambda \\vec{x} e^{\\lambda t} &= \\arr{A}\\vec{x}e^{\\lambda t}\\\\\n",
    "\\lambda \\vec{x} &= \\arr{A}\\vec{x}\n",
    "\\end{align}\n",
    "$\\therefore$Any set of $y_1(t) = x_1e^{\\lambda t}$ and $y_2(t) = x_2e^{\\lambda t}$ that fits $\\lambda\\vec{x} = \\arr{A} \\vec{x}$ are solutions. Therefore, finding the eigenvalues and eigenvectors of $\\arr{A}$ will yield solution."
   ]
  },
  {
   "cell_type": "markdown",
   "metadata": {
    "id": "ajnQFK_izzHv",
    "colab_type": "text"
   },
   "source": [
    "$\\underline{\\text{Example}}$: \n",
    "\\begin{align}\n",
    "y_1' &= -4y_1 - 6y_2\\\\\n",
    "y_2' &= y_1 + y_2\n",
    "\\end{align}\n",
    "* By assuming that $\\vec{y} = \\vec{x}e^{\\lambda t}$, we can find the eigenvalues and vectors of $\\arr{A}$ to identify $\\vec{x}$ and $\\lambda$ to solve system.\n",
    "* Find $\\lambda$ and $\\vec{x}$ by solving\n",
    "\\begin{align}\n",
    "\\det(\\arr{A} - \\lambda \\arr{I}) = 0\\\\\n",
    "\\left|\\begin{array}{} -4-\\lambda & -6 \\\\ 1 & 1-\\lambda \\end{array}\\right| = 0\\\\\n",
    "(-4-\\lambda)(1-\\lambda) - (-6)(1) = 0\\\\\n",
    "-4 + 3\\lambda + \\lambda^2 + 6 = 0 \\\\\n",
    "\\lambda^2 + 3\\lambda + 2 = 0&& \\leftarrow \\text{char. eqn. of $\\arr{A}$}\\\\\n",
    "(\\lambda + 2)(\\lambda + 1) = 0\\\\\n",
    "\\lambda_1 = -2; \\hspace{0.5cm} \\lambda_2 = -1 && \\leftarrow \\text{eigenvalues} \n",
    "\\end{align}\n",
    "* Find eigenvector $\\vec{x}^{(1)}$ associated with $\\lambda_1 = -2$. \\\n",
    "solve\n",
    "\\begin{align}\n",
    "\\arr{A}\\vec{x}^{(1)} = \\lambda_1 \\vec{x}^{(1)}\\\\\n",
    "(\\arr{A} - \\lambda_1\\arr{I}) \\vec{x}^{(1)} = \\vec{0}\\\\\n",
    "\\begin{bmatrix}-2 & -6 \\\\ 1 & 3 \\end{bmatrix} \\begin{bmatrix}x_1 \\\\ x_2 \\end{bmatrix} = \\begin{bmatrix} 0 \\\\ 0 \\end{bmatrix} \\implies x_1 + 3x_2 = 0\n",
    "\\end{align}"
   ]
  },
  {
   "cell_type": "markdown",
   "metadata": {
    "id": "qrgaJHSA3yf8",
    "colab_type": "text"
   },
   "source": [
    "Set $x_1 = 1$ (arbitrary) then $x_2 = -\\frac{1}{3}$ \\\n",
    "$\\therefore \\vec{x}^{(1)} = \\begin{bmatrix} 1 \\\\ -\\frac{1}{3} \\end{bmatrix}$ and $\\vec{y} = \\begin{bmatrix} 1 \\\\ -\\frac{1}{3}\\end{bmatrix} e^{-2t}$ is a solution. \\\n",
    "Enough?\\\n",
    "No. Two coupled $1^\\circ$ ODEs will yield two solutions with two arbitrary constants.The rest of the solution comes from $2^{nd}$ eigenvalue and eigenvector\n",
    "* Find eigenvector $\\vec{x}^{(2)}$ associated with $\\lambda_2 = -1$\n",
    "\\begin{align}\n",
    "(\\arr{A} - \\lambda_2 \\arr{I}) = \\vec{0}\\\\\n",
    "\\begin{bmatrix}-3 & -6 \\\\ 1 & 2 \\end{bmatrix} \\begin{bmatrix} x_1 \\\\ x_2 \\end{bmatrix} = \\begin{bmatrix} 0 \\\\ 0 \\end{bmatrix}\\\\\n",
    "x_1 + 2x_2 = 0\\\\\n",
    "\\text{set } x_1 = 1\\\\\n",
    "\\therefore x_2 = -\\frac{1}{2}\n",
    "\\end{align}\n",
    "$\\therefore x^{(2)} = \\begin{bmatrix} 1 \\\\ -\\frac{1}{2} \\end{bmatrix} $ and $\\vec{y} = \\begin{bmatrix} 1 \\\\ -\\frac{1}{2} \\end{bmatrix} e^{-t}$ is a solution\n",
    "* The general solution to $\\vec{y}' = \\arr{A}\\vec{y}$ is \n",
    "\\begin{align}\n",
    "\\vec{y} &= c_1\\vec{x}^{(1)} e^{\\lambda_1t} + c_2\\vec{x}^{(2)}e^{\\lambda_2t}\\\\\n",
    "\\implies y_1 &= c_1e^{-2t} + c_2e^{-t}\\\\\n",
    "y_2 &= -\\frac{1}{3}c_1e^{-2t} - \\frac{1}{2}c_2e^{-t}\n",
    "\\end{align}\n",
    "We have two constants in total from two integrations. We began with two $1^\\circ$ ODEs\n",
    "* Let's check our answer:\n",
    "\\begin{align}\n",
    "y_1' &= -2c_1e^{-2t} - c_2e^{-t}\\\\\n",
    "y_2' &= \\frac{2}{3}c_1e^{-2t} + \\frac{1}{2}c_2e^{-t}\n",
    "\\end{align}\n",
    "Plug into one original equation:\n",
    "\\begin{align}\n",
    "y_1' &= -4y_1 - 6y_2\\\\\n",
    "-2c_1e^{-2t} - c_2e^{-t} &= -4[c_1e^{-2t} + c_2e^{-t}] -6[-\\frac{1}{3}c_1e^{-2t} - \\frac{1}{2}c_2e^{-t}]\\\\\n",
    "&= (-4+2)c_1e^{-2t} + (-4+3)c_2e^{-t}\\\\\n",
    "&= -2c_1e^{-2t} - c_2e^{-t}\n",
    "\\end{align}\n",
    "And the other:\n",
    "\\begin{align}\n",
    "y_2' &= y_1 + y_2\\\\\n",
    "\\frac{2}{3}c_1e^{-2t} + \\frac{1}{2}c_2e^{-t} &= c_1e^{-2t} + c_2e^{-t} - \\frac{1}{3}c_1e^{-2t}-\\frac{1}{2}c_2e^{-t}\\\\\n",
    "&= \\frac{2}{3}c_1e^{-2t} + \\frac{1}{2}c_2e^{-t}\n",
    "\\end{align}"
   ]
  },
  {
   "cell_type": "markdown",
   "metadata": {
    "id": "rq8HSqLLXLYT",
    "colab_type": "text"
   },
   "source": [
    "Now, let's return to our tanks:\\\n",
    "$\\vec{h}' = \\arr{A}\\vec{h}$ where\n",
    "\\begin{align}\n",
    "\\arr{A} = \\begin{bmatrix} -\\frac{1}{\\tau_1} & \\frac{1}{\\tau_1} \\\\ \\frac{R_2}{R_1\\tau_2} & -\\left(\\frac{R_1 + R_2}{R_1\\tau_2}\\right) \\end{bmatrix}\n",
    "\\end{align}\n",
    "* Assume solution of form $\\vec{h}= \\vec{x}e^{\\lambda t}$\n",
    "* Solve by inserting values for $R_2,R_2,\\tau_1$ and $\\tau_2 \\rightarrow$ then find eigenvalues ($\\lambda_1$ and $\\lambda_2$) and eigenvectors ($\\vec{x}^{(1)}$ and $\\vec{x}^{(2)}$) of $\\arr{A}$\n",
    "* General solution will be\n",
    "\\begin{align}\n",
    "\\vec{h} &= c_1\\vec{x}^{(1)}e^{\\lambda_1t} + c_2\\vec{x}^{(2)}e^{\\lambda_2t}\\\\\n",
    "\\implies h_1(t) &= c_1x_1^{(1)}e^{\\lambda_1t} + c_1x_1^{(2)}e^{\\lambda_2t}\\\\\n",
    "h_2(t) &= c_1x_2^{(1)}e^{\\lambda_1t} + c_2x_2^{(2)}e^{\\lambda_2t} \n",
    "\\end{align}\n",
    "For example, given:\n",
    "\\begin{align}\n",
    "A_1 = 5\\  m^2, R_1 = 2 \\ hr/m^2 \\rightarrow \\tau_1 = 10\\  hr\\\\\n",
    "A_2 = 5 \\ m^2, R_2 = 1 \\ hr/m^2 \\rightarrow \\tau_2 = 5\\ \n",
    " hr\\\\\n",
    "\\therefore \\arr{A} = \\begin{bmatrix} -0.1 & 0.1 \\\\ 0.1 & -0.3 \\end{bmatrix} [=] \\frac{1}{hr}\n",
    "\\end{align}\n",
    "* Find eigenvalues\n",
    "\\begin{align}\n",
    "|\\arr{A} - \\lambda\\arr{I}| = 0\\\\\n",
    "\\left|\\begin{array}{} -0.1-\\lambda & 0.1 \\\\ 0.1 & -0.3-\\lambda \\end{array}\\right| = 0\\\\\n",
    "(-0.1-\\lambda)(-0.3-\\lambda)-0.01 = 0\\\\\n",
    "\\lambda^2 + 0.4 \\lambda + 0.02 = 0\\\\\n",
    "\\implies \\lambda_1 = -0.06 \\frac{1}{hr}\\\\\n",
    "\\lambda_2 = -0.34 \\frac{1}{hr} &&\\rightarrow \\text{same units as $\\arr{A}\\hspace{1cm}$ ($\\arr{A}\\vec{x} = \\lambda \\vec{x}$)}\n",
    "\\end{align}"
   ]
  },
  {
   "cell_type": "markdown",
   "metadata": {
    "id": "yMVQmM6rdSXx",
    "colab_type": "text"
   },
   "source": [
    "* Find $\\vec{x}^{(1)}$ associated with $\\lambda_1 = -0.06 \\ hr^{-1}$\n",
    "\\begin{align}\n",
    "\\begin{bmatrix} -0.04 & 0.1 \\\\ 0.1 & -0.24 \\end{bmatrix} \\begin{bmatrix} x_1 \\\\ x_2 \\end{bmatrix} = \\begin{bmatrix} 0 \\\\ 0 \\end{bmatrix}\\\\\n",
    "\\implies -0.04 x_1 + 0.1 x_2 = 0\\\\\n",
    "x_1 = \\frac{0.1}{+0.04}x_2 \\simeq 2.5x_2 \\implies \\vec{x}^{(1)} \\simeq \\begin{bmatrix} 2.5 \\\\ 1 \\end{bmatrix}\n",
    "\\end{align}\n",
    "* Find $\\vec{x}^{(2)}$ associated with $\\lambda_2 = -0.34\\ hr^{-1}$\n",
    "\\begin{align}\n",
    "\\begin{bmatrix} 0.24 & 0.1 \\\\ 0.1 & 0.04 \\end{bmatrix} \\begin{bmatrix} x_1 \\\\ x_2 \\end{bmatrix} = \\begin{bmatrix} 0 \\\\ 0 \\end{bmatrix}\\\\\n",
    "\\implies 0.24 x_1 + 0.1 x_2 = 0\\\\\n",
    "x_1 = \\frac{0.1}{-0.24}x_2 \\simeq -0.42x_2 \\implies \\vec{x}^{(2)} \\simeq \\begin{bmatrix} -0.42 \\\\ 1 \\end{bmatrix}\n",
    "\\end{align} \n",
    "* General solution is:\n",
    "\\begin{align}\n",
    "\\vec{h} = c_1\\begin{bmatrix}2.5 \\\\ 1 \\end{bmatrix}e^{-0.06\\ hr^{-1}t} + c_2 \\begin{bmatrix} -0.42 \\\\ 1 \\end{bmatrix} e^{-0.34\\ hr^{-1}t}\n",
    "\\end{align}"
   ]
  },
  {
   "cell_type": "markdown",
   "metadata": {
    "id": "XtBceTOghWkz",
    "colab_type": "text"
   },
   "source": [
    "## Numerical calculation of eigenvalues/eigenvectors\n",
    "\n",
    "Remember we can get the eigenvectors/eigenvalues from scipy."
   ]
  },
  {
   "cell_type": "code",
   "metadata": {
    "id": "I1d4-5KLhaOC",
    "colab_type": "code",
    "outputId": "c7a299bd-1714-4bb5-9159-4177611d406e",
    "executionInfo": {
     "status": "ok",
     "timestamp": 1584626653989,
     "user_tz": 240,
     "elapsed": 373,
     "user": {
      "displayName": "Zachary Ulissi",
      "photoUrl": "",
      "userId": "07633171379186475882"
     }
    },
    "colab": {
     "base_uri": "https://localhost:8080/",
     "height": 137
    }
   },
   "source": [
    "import numpy as np\n",
    "\n",
    "# get the eigenvalues/eigenvectors and print them\n",
    "\n",
    "# hint np.linalg.eig\n",
    "\n",
    "A = [[-0.1, 0.1],\n",
    "     [0.1, -0.3]]\n",
    "\n",
    "eigval, eigenvectors = np.linalg.eig(A)\n",
    "\n",
    "print(eigval)\n",
    "print(eigenvectors)\n",
    "\n",
    "eigvec1 = eigenvectors[:,0]\n",
    "eigvec1 = eigvec1/eigvec1[1]\n",
    "print('first eigenvector:')\n",
    "print(eigvec1)\n",
    "\n",
    "eigvec2 = eigenvectors[:,1]\n",
    "eigvec2 = eigvec2/eigvec2[1]\n",
    "print('second eigenvector:')\n",
    "print(eigvec2)"
   ],
   "execution_count": 0,
   "outputs": [
    {
     "output_type": "stream",
     "text": [
      "[-0.05857864 -0.34142136]\n",
      "[[ 0.92387953 -0.38268343]\n",
      " [ 0.38268343  0.92387953]]\n",
      "first eigenvector:\n",
      "[2.41421356 1.        ]\n",
      "second eigenvector:\n",
      "[-0.41421356  1.        ]\n"
     ],
     "name": "stdout"
    }
   ]
  },
  {
   "cell_type": "markdown",
   "metadata": {
    "id": "_E_KW4MjfybJ",
    "colab_type": "text"
   },
   "source": [
    "# Numerical solutions to coupled differential equations\n",
    "\n",
    "No real change from solve_ivp!\n",
    "\n",
    "Try solving this with solve_ivp using the initial conditions $h_1(t=0)=5$m and $h_2(t=0)=7$m"
   ]
  },
  {
   "cell_type": "code",
   "metadata": {
    "id": "2G5cnsS8f2wR",
    "colab_type": "code",
    "outputId": "26ba2134-5202-45fb-900d-e45547fcedaf",
    "executionInfo": {
     "status": "ok",
     "timestamp": 1584628482534,
     "user_tz": 240,
     "elapsed": 548,
     "user": {
      "displayName": "Zachary Ulissi",
      "photoUrl": "",
      "userId": "07633171379186475882"
     }
    },
    "colab": {
     "base_uri": "https://localhost:8080/",
     "height": 296
    }
   },
   "source": [
    "from scipy.integrate import solve_ivp\n",
    "import numpy as np\n",
    "import matplotlib.pyplot as plt\n",
    "\n",
    "A1 = 5 #m^2\n",
    "R1 = 0.1 # hr/m^2\n",
    "tau1 = A1*R1\n",
    "\n",
    "A2 = 5 #m^2\n",
    "R2 = 1 #hr/m^2\n",
    "tau2 = A2*R2\n",
    "\n",
    "#Set up the differential equation, solve with solve_ivp, and plot the solution \n",
    "\n",
    "def diff_eq(t,y):\n",
    "  h1,h2 = y\n",
    "\n",
    "  return [h2/tau1-h1/tau1, #what is h1'?\n",
    "          R2/R1/tau2*h1-(R1+R2)/R1/tau2*h2]  #what is h2'?\n",
    "\n",
    "# use solve_ivp to solve for t = 0 to t=20\n",
    "t_span = [0, 20]\n",
    "y0 =[5, 7]\n",
    "sol = solve_ivp(diff_eq, t_span, y0)\n",
    "\n",
    "# try plotting the solutions with plt.plot\n",
    "plt.plot(sol.t, sol.y.T,'-o')\n",
    "plt.xlabel('Time [hr]')\n",
    "plt.ylabel('Tank height [m]')\n",
    "plt.legend(['$h_1$', '$h_2$'])"
   ],
   "execution_count": 0,
   "outputs": [
    {
     "output_type": "execute_result",
     "data": {
      "text/plain": [
       "<matplotlib.legend.Legend at 0x7fb80cabcc88>"
      ]
     },
     "metadata": {
      "tags": []
     },
     "execution_count": 23
    },
    {
     "output_type": "display_data",
     "data": {
      "image/png": "[encoded data removed]",
      "text/plain": [
       "<Figure size 432x288 with 1 Axes>"
      ]
     },
     "metadata": {
      "tags": []
     }
    }
   ]
  },
  {
   "cell_type": "code",
   "metadata": {
    "id": "ZEF0Xw8Ji9fv",
    "colab_type": "code",
    "colab": {}
   },
   "source": [
    ""
   ],
   "execution_count": 0,
   "outputs": []
  }
 ]
}